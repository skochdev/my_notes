{
 "cells": [
  {
   "cell_type": "code",
   "execution_count": 26,
   "metadata": {},
   "outputs": [
    {
     "name": "stdout",
     "output_type": "stream",
     "text": [
      "red\n",
      "green\n",
      "blue\n"
     ]
    }
   ],
   "source": [
    "colors = ['red', 'green', 'blue']\n",
    "\n",
    "for color in colors:\n",
    "    print(color)"
   ]
  },
  {
   "cell_type": "code",
   "execution_count": 24,
   "metadata": {},
   "outputs": [
    {
     "name": "stdout",
     "output_type": "stream",
     "text": [
      "red, green, blue, "
     ]
    }
   ],
   "source": [
    "colors = ['red', 'green', 'blue']\n",
    "for color in colors:\n",
    "    print(color, end=', ')"
   ]
  },
  {
   "cell_type": "code",
   "execution_count": 25,
   "metadata": {},
   "outputs": [
    {
     "name": "stdout",
     "output_type": "stream",
     "text": [
      "blue, green, red, "
     ]
    }
   ],
   "source": [
    "colors = ['red', 'green', 'blue']\n",
    "for color in reversed(colors):\n",
    "    print(color, end=', ')"
   ]
  },
  {
   "cell_type": "code",
   "execution_count": 27,
   "metadata": {},
   "outputs": [
    {
     "name": "stdout",
     "output_type": "stream",
     "text": [
      "0 --> red\n",
      "1 --> green\n",
      "2 --> blue\n"
     ]
    }
   ],
   "source": [
    "# Looping over a collection and indicies\n",
    "\n",
    "colors = ['red', 'green', 'blue']\n",
    "for i, color in enumerate(colors):\n",
    "    print(i, '-->', colors[i])"
   ]
  },
  {
   "cell_type": "code",
   "execution_count": 34,
   "metadata": {},
   "outputs": [
    {
     "name": "stdout",
     "output_type": "stream",
     "text": [
      "raymond --> red\n",
      "rachel --> green\n",
      "matthew --> blue\n"
     ]
    }
   ],
   "source": [
    "# Looping over two collections at once\n",
    "\n",
    "names = ['raymond', 'rachel', 'matthew']\n",
    "colors = ['red', 'green', 'blue']\n",
    "\n",
    "for name, color in zip(names, colors):\n",
    "    print(name, '-->', color)"
   ]
  },
  {
   "cell_type": "code",
   "execution_count": 35,
   "metadata": {},
   "outputs": [
    {
     "name": "stdout",
     "output_type": "stream",
     "text": [
      "blue\n",
      "green\n",
      "red\n"
     ]
    }
   ],
   "source": [
    "# Looping in sorted order\n",
    "\n",
    "colors = ['red', 'green', 'blue']\n",
    "\n",
    "for color in sorted(colors):\n",
    "    print(color)\n"
   ]
  },
  {
   "cell_type": "code",
   "execution_count": 36,
   "metadata": {},
   "outputs": [
    {
     "name": "stdout",
     "output_type": "stream",
     "text": [
      "red\n",
      "green\n",
      "blue\n"
     ]
    }
   ],
   "source": [
    "# Looping in sorted order\n",
    "\n",
    "colors = ['red', 'green', 'blue']\n",
    "\n",
    "for color in sorted(colors, reverse=True):\n",
    "    print(color)"
   ]
  },
  {
   "cell_type": "code",
   "execution_count": 41,
   "metadata": {},
   "outputs": [
    {
     "name": "stdout",
     "output_type": "stream",
     "text": [
      "['red', 'blue', 'green']\n"
     ]
    }
   ],
   "source": [
    "# Custom sort order\n",
    "\n",
    "colors = ['red', 'green', 'blue']\n",
    "print(sorted(colors, key=len))"
   ]
  },
  {
   "cell_type": "code",
   "execution_count": 42,
   "metadata": {},
   "outputs": [
    {
     "name": "stdout",
     "output_type": "stream",
     "text": [
      "['green', 'blue', 'red']\n"
     ]
    }
   ],
   "source": [
    "# Custom sort order reversed\n",
    "\n",
    "colors = ['red', 'green', 'blue']\n",
    "print(sorted(colors, key=len, reverse=True))"
   ]
  },
  {
   "cell_type": "code",
   "execution_count": 54,
   "metadata": {},
   "outputs": [
    {
     "name": "stdout",
     "output_type": "stream",
     "text": [
      "{'raymond': 'red', 'rachel': 'green', 'matthew': 'blue'}\n"
     ]
    }
   ],
   "source": [
    "# Creating a dict of two lists\n",
    "\n",
    "colors = ['red', 'green', 'blue']\n",
    "names = ['raymond', 'rachel', 'matthew']\n",
    "names_colors = dict(zip(names, colors))\n",
    "print(names_colors)\n",
    "\n"
   ]
  },
  {
   "cell_type": "code",
   "execution_count": 59,
   "metadata": {},
   "outputs": [
    {
     "name": "stdout",
     "output_type": "stream",
     "text": [
      "raymond\n",
      "rachel\n",
      "matthew\n"
     ]
    }
   ],
   "source": [
    "# Lopping over dictionary keys\n",
    "\n",
    "for k in names_colors:\n",
    "    print(k)"
   ]
  },
  {
   "cell_type": "code",
   "execution_count": 60,
   "metadata": {},
   "outputs": [
    {
     "name": "stdout",
     "output_type": "stream",
     "text": [
      "red\n",
      "green\n",
      "blue\n"
     ]
    }
   ],
   "source": [
    "# Lopping over dictionary values\n",
    "\n",
    "for k in names_colors.values():\n",
    "    print(k)"
   ]
  },
  {
   "cell_type": "code",
   "execution_count": 69,
   "metadata": {},
   "outputs": [
    {
     "name": "stdout",
     "output_type": "stream",
     "text": [
      "raymond\n",
      "rachel\n"
     ]
    }
   ],
   "source": [
    "# Getting desired keys\n",
    "\n",
    "for k in names_colors.keys():\n",
    "    if k.startswith('r'):\n",
    "        print(k)\n"
   ]
  },
  {
   "cell_type": "code",
   "execution_count": 70,
   "metadata": {},
   "outputs": [
    {
     "name": "stdout",
     "output_type": "stream",
     "text": [
      "raymond --> red\n",
      "rachel --> green\n",
      "matthew --> blue\n"
     ]
    }
   ],
   "source": [
    "# Looping over a dictionary keys and values\n",
    "\n",
    "for k, v in names_colors.items():\n",
    "    print(k, '-->', v)"
   ]
  },
  {
   "cell_type": "code",
   "execution_count": 73,
   "metadata": {},
   "outputs": [
    {
     "name": "stdout",
     "output_type": "stream",
     "text": [
      "{'red': 2, 'green': 1, 'blue': 1}\n"
     ]
    }
   ],
   "source": [
    "# Counting with dicts (basic)\n",
    "\n",
    "colors = ['red', 'green', 'blue', 'red']\n",
    "d = {}\n",
    "for color in colors:\n",
    "    if color not in d:\n",
    "        d[color]= 0\n",
    "    d[color] += 1\n",
    "print(d)"
   ]
  },
  {
   "cell_type": "code",
   "execution_count": 75,
   "metadata": {},
   "outputs": [
    {
     "name": "stdout",
     "output_type": "stream",
     "text": [
      "{'red': 2, 'green': 1, 'blue': 1}\n"
     ]
    }
   ],
   "source": [
    "# Counting with dicts (better)\n",
    "\n",
    "colors = ['red', 'green', 'blue', 'red']\n",
    "d = dict()\n",
    "for color in colors:\n",
    "    d[color] = d.get(color, 0) + 1\n",
    "print(d)"
   ]
  },
  {
   "cell_type": "code",
   "execution_count": 81,
   "metadata": {},
   "outputs": [
    {
     "name": "stdout",
     "output_type": "stream",
     "text": [
      "defaultdict(<class 'int'>, {'red': 2, 'green': 1, 'blue': 1})\n"
     ]
    }
   ],
   "source": [
    "# Counting with dicts (better advanced)\n",
    "from collections import defaultdict\n",
    "\n",
    "colors = ['red', 'green', 'blue', 'red']\n",
    "\n",
    "d = defaultdict(int)\n",
    "for color in colors:\n",
    "    d[color] += 1\n",
    "print(d)"
   ]
  },
  {
   "cell_type": "code",
   "execution_count": 84,
   "metadata": {},
   "outputs": [
    {
     "name": "stdout",
     "output_type": "stream",
     "text": [
      "{7: ['raymond', 'matthew', 'charlie'], 6: ['rachel'], 5: ['roger', 'betty']}\n"
     ]
    }
   ],
   "source": [
    "# Grouping with dicts Part1 (basic)\n",
    "# Group names by length\n",
    "\n",
    "names = ['raymond', 'rachel', 'matthew', \n",
    "         'roger', 'betty', 'charlie']\n",
    "d = {}\n",
    "for name in names:\n",
    "    key = len(name)\n",
    "    if key not in d:\n",
    "        d[key] = []\n",
    "    d[key].append(name)\n",
    "print(d)"
   ]
  },
  {
   "cell_type": "code",
   "execution_count": 90,
   "metadata": {},
   "outputs": [
    {
     "name": "stdout",
     "output_type": "stream",
     "text": [
      "defaultdict(<class 'list'>, {7: ['raymond', 'matthew', 'charlie'], 6: ['rachel'], 5: ['roger', 'betty']})\n"
     ]
    }
   ],
   "source": [
    "# Grouping with dicts Part2 (better)\n",
    "# Group names by length\n",
    "\n",
    "from collections import defaultdict\n",
    "names = ['raymond', 'rachel', 'matthew', \n",
    "         'roger', 'betty', 'charlie']\n",
    "d = defaultdict(list)\n",
    "for name in names:\n",
    "    key = len(name)\n",
    "    d[key].append(name)\n",
    "print(d)"
   ]
  },
  {
   "cell_type": "code",
   "execution_count": 96,
   "metadata": {},
   "outputs": [
    {
     "name": "stdout",
     "output_type": "stream",
     "text": [
      "matthew --> blue\n",
      "rachel --> green\n",
      "raymond --> red\n",
      "{}\n"
     ]
    }
   ],
   "source": [
    "# Remove items from a dict\n",
    "names = {'raymond': 'red', 'rachel': 'green', 'matthew': 'blue'}\n",
    "while names:\n",
    "    key, value = names.popitem()\n",
    "    print(key, '-->', value)\n",
    "print(names)"
   ]
  },
  {
   "cell_type": "code",
   "execution_count": 107,
   "metadata": {},
   "outputs": [
    {
     "name": "stdout",
     "output_type": "stream",
     "text": [
      "Bohdan Skochii 30 email@example.com\n"
     ]
    }
   ],
   "source": [
    "# Unpacking sequences\n",
    "\n",
    "p = 'Bohdan', 'Skochii', 30, 'email@example.com'\n",
    "fname = p[0]\n",
    "lname = p[1]\n",
    "age = p[2]\n",
    "email = p[3]\n",
    "\n",
    "print(fname, lname, age, email)\n"
   ]
  },
  {
   "cell_type": "code",
   "execution_count": null,
   "metadata": {
    "collapsed": true
   },
   "outputs": [],
   "source": [
    "# Updating multiple state variables ( bad code )))\n",
    "\n",
    "def fibonacci(n):\n",
    "    x = 0\n",
    "    y = 1\n",
    "    for i in range(n):\n",
    "        print(x)\n",
    "        t = y\n",
    "        y = x + y\n",
    "        x = t"
   ]
  },
  {
   "cell_type": "code",
   "execution_count": 3,
   "metadata": {},
   "outputs": [
    {
     "name": "stdout",
     "output_type": "stream",
     "text": [
      "0\n",
      "1\n",
      "1\n",
      "2\n",
      "3\n",
      "5\n",
      "8\n",
      "13\n"
     ]
    }
   ],
   "source": [
    "# Probper fibonacci\n",
    "\n",
    "def fibonacci(n):\n",
    "    x, y = 0, 1\n",
    "    for i in range(n):\n",
    "        print(x)\n",
    "        x, y = y, x + y\n",
    "\n",
    "fibonacci(8)\n"
   ]
  },
  {
   "cell_type": "code",
   "execution_count": 117,
   "metadata": {},
   "outputs": [
    {
     "name": "stdout",
     "output_type": "stream",
     "text": [
      "raymond, rachel, matthew, roger, betty, charlie\n"
     ]
    }
   ],
   "source": [
    "# Concat strings\n",
    "\n",
    "names = ['raymond', 'rachel', 'matthew', \n",
    "         'roger', 'betty', 'charlie']\n",
    "print(', '.join(names))"
   ]
  },
  {
   "cell_type": "code",
   "execution_count": null,
   "metadata": {
    "collapsed": true
   },
   "outputs": [],
   "source": [
    "# Decorators and Context Managers\n",
    "\n",
    "# wrong way\n",
    "def web_lookup(url, saved={}):\n",
    "    if url in saved:\n",
    "        return saved[url]\n",
    "    page = urllib.urlopen(url).read()\n",
    "    saved[url] = page\n",
    "    return page\n",
    "\n",
    "# proper way\n",
    "from functools import lru_cache\n",
    "\n",
    "@lru_cache\n",
    "def web_lookup(url):\n",
    "    return urllib.urlopen(url).read()"
   ]
  },
  {
   "cell_type": "code",
   "execution_count": 7,
   "metadata": {},
   "outputs": [
    {
     "data": {
      "text/plain": [
       "(0, 1)"
      ]
     },
     "execution_count": 7,
     "metadata": {},
     "output_type": "execute_result"
    }
   ],
   "source": [
    "x, y = 0, 1\n",
    "x, y"
   ]
  },
  {
   "cell_type": "code",
   "execution_count": null,
   "metadata": {
    "collapsed": true
   },
   "outputs": [],
   "source": []
  }
 ],
 "metadata": {
  "kernelspec": {
   "display_name": "Python 3",
   "language": "python",
   "name": "python3"
  },
  "language_info": {
   "codemirror_mode": {
    "name": "ipython",
    "version": 3
   },
   "file_extension": ".py",
   "mimetype": "text/x-python",
   "name": "python",
   "nbconvert_exporter": "python",
   "pygments_lexer": "ipython3",
   "version": "3.6.3"
  }
 },
 "nbformat": 4,
 "nbformat_minor": 2
}
