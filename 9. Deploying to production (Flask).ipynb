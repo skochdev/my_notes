{
 "cells": [
  {
   "cell_type": "raw",
   "metadata": {},
   "source": [
    "VPS ( Virtual Private Server)\n",
    "\n",
    "ISP ( Internet Service Provider ( Volya, Axon, UCP))\n",
    "\n",
    "IP (Internet Protocol)\n",
    "\n",
    "WSGI ( Web Server Gateway Interface)"
   ]
  },
  {
   "cell_type": "markdown",
   "metadata": {},
   "source": [
    "**Digital Ocean**"
   ]
  },
  {
   "cell_type": "raw",
   "metadata": {},
   "source": [
    "connect to the VPS with ssh:\n",
    "    ssh user@46.101.251.193 ( user will be root, ip adress will be other)\n",
    "    "
   ]
  },
  {
   "cell_type": "raw",
   "metadata": {},
   "source": [
    "Once we connect to the VPS, installing Flask is the same process as it was previously:\n",
    "\n",
    "sudo apt-get update\n",
    "sudo apt-get install python-pip\n",
    "pip install --user Flask"
   ]
  },
  {
   "cell_type": "raw",
   "metadata": {},
   "source": [
    "To install our web server, Apache, and WSGI, we will run the following:\n",
    "\n",
    "sudo apt-get install apache2\n",
    "sudo apt-get install libapache2-mod-wsgi\n"
   ]
  },
  {
   "cell_type": "markdown",
   "metadata": {},
   "source": [
    "**Git**"
   ]
  },
  {
   "cell_type": "raw",
   "metadata": {},
   "source": [
    "To install Git on your local machine and VPS, run the following commands on each:\n",
    "\n",
    "sudo apt-get update\n",
    "sudo apt-get install git"
   ]
  },
  {
   "cell_type": "code",
   "execution_count": null,
   "metadata": {
    "collapsed": true
   },
   "outputs": [],
   "source": []
  }
 ],
 "metadata": {
  "kernelspec": {
   "display_name": "Python 3",
   "language": "python",
   "name": "python3"
  },
  "language_info": {
   "codemirror_mode": {
    "name": "ipython",
    "version": 3
   },
   "file_extension": ".py",
   "mimetype": "text/x-python",
   "name": "python",
   "nbconvert_exporter": "python",
   "pygments_lexer": "ipython3",
   "version": "3.6.3"
  }
 },
 "nbformat": 4,
 "nbformat_minor": 2
}
