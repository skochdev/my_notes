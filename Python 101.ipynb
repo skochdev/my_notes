{
 "cells": [
  {
   "cell_type": "markdown",
   "metadata": {},
   "source": [
    "# Lists\n"
   ]
  },
  {
   "cell_type": "code",
   "execution_count": null,
   "metadata": {
    "collapsed": true,
    "scrolled": true
   },
   "outputs": [],
   "source": [
    "my_list = []\n",
    "my_another_list = list()"
   ]
  },
  {
   "cell_type": "code",
   "execution_count": null,
   "metadata": {
    "collapsed": true,
    "scrolled": true
   },
   "outputs": [],
   "source": [
    "# Can containt different types of elements.\n",
    "\n",
    "my_list = [1, 2, 4]\n",
    "my_another_list = ['string', 'c', '\"Python\"']\n",
    "another_list = [1, 'word', '\"Python\"']\n",
    "\n",
    "print(my_list, my_another_list, another_list)"
   ]
  },
  {
   "cell_type": "code",
   "execution_count": null,
   "metadata": {
    "collapsed": true,
    "scrolled": true
   },
   "outputs": [],
   "source": [
    "\n",
    "# List of lists is also a thing:\n",
    "\n",
    "nested_list = [my_list, my_another_list, another_list]\n",
    "print(list_of_lists)\n"
   ]
  },
  {
   "cell_type": "markdown",
   "metadata": {},
   "source": [
    "# Combine lists"
   ]
  },
  {
   "cell_type": "code",
   "execution_count": null,
   "metadata": {
    "collapsed": true,
    "scrolled": true
   },
   "outputs": [],
   "source": [
    "combined_list = ['string', '1.96']\n",
    "list_one = [4, 5]\n",
    "combined_list.extend(list_one)\n",
    "print(combined_list)"
   ]
  },
  {
   "cell_type": "code",
   "execution_count": null,
   "metadata": {
    "collapsed": true,
    "scrolled": true
   },
   "outputs": [],
   "source": [
    "# Easier way is to add lists together:\n",
    "\n",
    "print(combined_list + list_one)\n"
   ]
  },
  {
   "cell_type": "markdown",
   "metadata": {},
   "source": [
    "# Sorting Lists"
   ]
  },
  {
   "cell_type": "code",
   "execution_count": null,
   "metadata": {
    "collapsed": true,
    "scrolled": true
   },
   "outputs": [],
   "source": [
    "# permanently sort a list in-place( you can't assign unsorted_list.sort() to a var) :\n",
    "\n",
    "unsorted_list = [12, 64, 9687, 5145]\n",
    "unsorted_list.sort()\n",
    "sortedList = unsorted_list\n",
    "sortedList"
   ]
  },
  {
   "cell_type": "code",
   "execution_count": null,
   "metadata": {
    "collapsed": true,
    "scrolled": true
   },
   "outputs": [],
   "source": [
    "print(sortedList[0])\n",
    "print(sortedList[-1])"
   ]
  },
  {
   "cell_type": "markdown",
   "metadata": {},
   "source": [
    "# Tuples\n"
   ]
  },
  {
   "cell_type": "code",
   "execution_count": null,
   "metadata": {
    "collapsed": true,
    "scrolled": true
   },
   "outputs": [],
   "source": [
    "my_tuple = (1, 2, 4, 6)\n",
    "another_tuple = tuple()"
   ]
  },
  {
   "cell_type": "code",
   "execution_count": null,
   "metadata": {
    "collapsed": true,
    "scrolled": true
   },
   "outputs": [],
   "source": [
    "print(my_tuple[1])\n",
    "print(my_tuple[-1])"
   ]
  },
  {
   "cell_type": "markdown",
   "metadata": {},
   "source": [
    "### Casting ( change data type) List into a Tuple"
   ]
  },
  {
   "cell_type": "code",
   "execution_count": null,
   "metadata": {
    "collapsed": true,
    "scrolled": true
   },
   "outputs": [],
   "source": [
    "my_list = ['spam', 'eggs']\n",
    "listTuple = tuple(my_list)\n",
    "listTuple"
   ]
  },
  {
   "cell_type": "code",
   "execution_count": null,
   "metadata": {
    "collapsed": true,
    "scrolled": true
   },
   "outputs": [],
   "source": [
    "# To reiterate, the code above casts the tuple (abc) into a list using the list function.\n",
    "\n",
    "list_from_tuple = list(listTuple)"
   ]
  },
  {
   "cell_type": "code",
   "execution_count": null,
   "metadata": {
    "collapsed": true,
    "scrolled": true
   },
   "outputs": [],
   "source": [
    "list_from_tuple"
   ]
  },
  {
   "cell_type": "markdown",
   "metadata": {},
   "source": [
    "# Dictionaries\n"
   ]
  },
  {
   "cell_type": "code",
   "execution_count": null,
   "metadata": {
    "collapsed": true,
    "scrolled": true
   },
   "outputs": [],
   "source": [
    "# A Python dictionary is basically a hash table or a hash mapping.\n",
    "# Unordered set of key:value pairs. Keys must be unique."
   ]
  },
  {
   "cell_type": "code",
   "execution_count": null,
   "metadata": {
    "collapsed": true,
    "scrolled": true
   },
   "outputs": [],
   "source": [
    "my_dict = {}\n",
    "another_dict = dict()\n",
    "one_more_dict = {'one': 1, 'two': 2, 'three': 3}\n",
    "one_more_dict\n"
   ]
  },
  {
   "cell_type": "code",
   "execution_count": null,
   "metadata": {
    "collapsed": true,
    "scrolled": true
   },
   "outputs": [],
   "source": [
    "one_more_dict['two']"
   ]
  },
  {
   "cell_type": "code",
   "execution_count": null,
   "metadata": {
    "collapsed": true,
    "scrolled": true
   },
   "outputs": [],
   "source": [
    "my_info = {'name': 'Bohdan', 'last_name': 'Skochii', 'age': 30}\n",
    "my_info.keys()     # will return a 'view object'"
   ]
  },
  {
   "cell_type": "code",
   "execution_count": null,
   "metadata": {
    "collapsed": true,
    "scrolled": true
   },
   "outputs": [],
   "source": [
    "my_info.values()"
   ]
  },
  {
   "cell_type": "code",
   "execution_count": null,
   "metadata": {
    "collapsed": true,
    "scrolled": true
   },
   "outputs": [],
   "source": [
    "my_info['age']"
   ]
  },
  {
   "cell_type": "code",
   "execution_count": null,
   "metadata": {
    "collapsed": true,
    "scrolled": true
   },
   "outputs": [],
   "source": [
    "'last_name' in my_info"
   ]
  },
  {
   "cell_type": "code",
   "execution_count": null,
   "metadata": {
    "collapsed": true,
    "scrolled": true
   },
   "outputs": [],
   "source": [
    "'color' in my_info"
   ]
  },
  {
   "cell_type": "code",
   "execution_count": null,
   "metadata": {
    "collapsed": true,
    "scrolled": true
   },
   "outputs": [],
   "source": [
    "#%%%%%%%%%%%%%%%%%%%%%%%%%%%%%%%%%%%%%%%%%%%%%%%%%%%%%%%%%%%%%%%%%%%%%%%\n",
    "#%%%%%%%%%%%%%%%%%%%%%%%%%%%%%%%%%%%%%%%%%%%%%%%%%%%%%%%%%%%%%%%%%%%%%%%\n",
    "#%%%%%%%%%%%%%%%%%%%%%%%%%%%%%%%%%%%%%%%%%%%%%%%%%%%%%%%%%%%%%%%%%%%%%%%\n",
    "#%%%%%%%%%%%%%%%%%%%%%%%%%%%%%%%%%%%%%%%%%%%%%%%%%%%%%%%%%%%%%%%%%%%%%%%\n",
    "#%%%%%%%%%%%%%%%%%%%%%%%%%%%%%%%%%%%%%%%%%%%%%%%%%%%%%%%%%%%%%%%%%%%%%%%\n",
    "#%%%%%%%%%%%%%%%%%%%%%%%%%%%%%%%%%%%%%%%%%%%%%%%%%%%%%%%%%%%%%%%%%%%%%%%\n",
    "#%%%%%%%%%%%%%%%%%%%%%%%%%%%%%%%%%%%%%%%%%%%%%%%%%%%%%%%%%%%%%%%%%%%%%%%\n",
    "#%%%%%%%%%%%%%%%%%%%%%%%%%%%%%%%%%%%%%%%%%%%%%%%%%%%%%%%%%%%%%%%%%%%%%%%\n",
    "#%%%%%%%%%%%%%%%%%%%%%%%%%%%%%%%%%%%%%%%%%%%%%%%%%%%%%%%%%%%%%%%%%%%%%%%"
   ]
  },
  {
   "cell_type": "markdown",
   "metadata": {},
   "source": [
    "# Conditional Statements\n"
   ]
  },
  {
   "cell_type": "markdown",
   "metadata": {},
   "source": [
    "### if statement"
   ]
  },
  {
   "cell_type": "code",
   "execution_count": null,
   "metadata": {
    "collapsed": true,
    "scrolled": true
   },
   "outputs": [],
   "source": [
    "if 2 > 1:\n",
    "    print('This is True')"
   ]
  },
  {
   "cell_type": "code",
   "execution_count": null,
   "metadata": {
    "collapsed": true,
    "scrolled": true
   },
   "outputs": [],
   "source": [
    "word = 'Python'\n",
    "if 'Py' in word:\n",
    "    print('Python is here')"
   ]
  },
  {
   "cell_type": "code",
   "execution_count": null,
   "metadata": {
    "collapsed": true,
    "scrolled": true
   },
   "outputs": [],
   "source": [
    "word = 'Python'\n",
    "if 'wy' in word:\n",
    "    print('Python is here')\n",
    "else:\n",
    "    print('No match!')"
   ]
  },
  {
   "cell_type": "code",
   "execution_count": null,
   "metadata": {
    "collapsed": true,
    "scrolled": true
   },
   "outputs": [],
   "source": [
    "user_input = input('Input your age:\\n')\n",
    "user_input = int(user_input)\n",
    "\n",
    "if user_input < 18:\n",
    "    print('You are underaged for this type of content')\n",
    "elif user_input >= 18:\n",
    "    print('Welcome to the club!')\n",
    "else:\n",
    "    print('Error. Please input numerals as you age')"
   ]
  },
  {
   "cell_type": "code",
   "execution_count": null,
   "metadata": {
    "collapsed": true,
    "scrolled": true
   },
   "outputs": [],
   "source": [
    "x = 'Python'\n",
    "y = 'Rules'\n",
    "\n",
    "if x or y == 'Python':\n",
    "    print('Yes, Python Rules')"
   ]
  },
  {
   "cell_type": "code",
   "execution_count": null,
   "metadata": {
    "collapsed": true,
    "scrolled": true
   },
   "outputs": [],
   "source": [
    "x = 'Python'\n",
    "y = 'Rules'\n",
    "\n",
    "if x == 'Rules' or y == 'Rules':\n",
    "    print('Yes, Python Rules')\n",
    "else:\n",
    "    print('Unfortunately not')"
   ]
  },
  {
   "cell_type": "code",
   "execution_count": null,
   "metadata": {
    "collapsed": true,
    "scrolled": true
   },
   "outputs": [],
   "source": [
    "x = 'Python'\n",
    "y = 'Rules'\n",
    "\n",
    "if x and y == 'Python':\n",
    "    print('Yes, Python Rules')\n",
    "else:\n",
    "    print('Unfortunately not')"
   ]
  },
  {
   "cell_type": "code",
   "execution_count": null,
   "metadata": {
    "collapsed": true,
    "scrolled": true
   },
   "outputs": [],
   "source": [
    "x = 'Python'\n",
    "y = 'Rules'\n",
    "\n",
    "if x == 'Python' and y == 'Rules':\n",
    "    print('Yes, Python Rules')\n",
    "else:\n",
    "    print('Unfortunately not')"
   ]
  },
  {
   "cell_type": "markdown",
   "metadata": {},
   "source": [
    "### not"
   ]
  },
  {
   "cell_type": "code",
   "execution_count": null,
   "metadata": {
    "collapsed": true,
    "scrolled": true
   },
   "outputs": [],
   "source": [
    "some_list = ['Bohdan', 'Skochii', 30]\n",
    "x = 30\n",
    "if x not in some_list:\n",
    "    print('The information you are looking for does not exist.')\n",
    "else:\n",
    "    print('The information is present in a list')"
   ]
  },
  {
   "cell_type": "code",
   "execution_count": null,
   "metadata": {
    "collapsed": true,
    "scrolled": true
   },
   "outputs": [],
   "source": [
    "x = 30\n",
    "if x != 31:\n",
    "    print('Int is not equal to 30')\n",
    "else:\n",
    "    print('The information is equal to 30')"
   ]
  },
  {
   "cell_type": "code",
   "execution_count": null,
   "metadata": {
    "collapsed": true,
    "scrolled": true
   },
   "outputs": [],
   "source": [
    "gender = input('Input you gender:\\n')\n",
    "user_age = input('Input your age:\\n')\n",
    "user_age = int(user_age)\n",
    "\n",
    "if gender == 'male' and user_age >= 18:\n",
    "    print('Welcome to the club')\n",
    "else:\n",
    "    print('Sorry, only adult men are allowed')"
   ]
  },
  {
   "cell_type": "markdown",
   "metadata": {},
   "source": [
    "### Checking for Nothing\n"
   ]
  },
  {
   "cell_type": "code",
   "execution_count": null,
   "metadata": {
    "collapsed": true,
    "scrolled": true
   },
   "outputs": [],
   "source": [
    "empty_list = []\n",
    "empty_tuple = ()\n",
    "empty_string = ''\n",
    "nothing = None\n",
    "\n",
    "if empty_list == []:\n",
    "    print('It\\'s an empty list')\n",
    "\n",
    "if empty_tuple:                      # If there's something in tuple\n",
    "    print('It\\'s not an empty tuple')\n",
    "    \n",
    "if not empty_string:                 # If the string is not empty\n",
    "    print('This is an empty string')\n",
    "    \n",
    "if not nothing:\n",
    "    print('Then it\\'s nothing!')"
   ]
  },
  {
   "cell_type": "markdown",
   "metadata": {},
   "source": [
    "# if _\\_name\\_\\_ == “_\\_main\\_\\_”\n",
    "\n"
   ]
  },
  {
   "cell_type": "markdown",
   "metadata": {},
   "source": [
    "*This tells Python that you only want to run the following code if this program is executed as a standalone file.*"
   ]
  },
  {
   "cell_type": "code",
   "execution_count": null,
   "metadata": {
    "collapsed": true,
    "scrolled": true
   },
   "outputs": [],
   "source": [
    "if __name__ == \"__main__\":\n",
    "    # do something!\n"
   ]
  },
  {
   "cell_type": "markdown",
   "metadata": {},
   "source": [
    "# LOOPS\n"
   ]
  },
  {
   "cell_type": "markdown",
   "metadata": {},
   "source": [
    "### for loop"
   ]
  },
  {
   "cell_type": "code",
   "execution_count": null,
   "metadata": {
    "collapsed": true,
    "scrolled": true
   },
   "outputs": [],
   "source": [
    "range(5)"
   ]
  },
  {
   "cell_type": "code",
   "execution_count": null,
   "metadata": {
    "collapsed": true,
    "scrolled": true
   },
   "outputs": [],
   "source": [
    "range(0, 10)"
   ]
  },
  {
   "cell_type": "code",
   "execution_count": null,
   "metadata": {
    "collapsed": true,
    "scrolled": true
   },
   "outputs": [],
   "source": [
    "range(0, 5, 2) # 0, 5 - range, 2 - step value"
   ]
  },
  {
   "cell_type": "code",
   "execution_count": null,
   "metadata": {
    "collapsed": true,
    "scrolled": true
   },
   "outputs": [],
   "source": [
    "list(range(1, 10, 2))"
   ]
  },
  {
   "cell_type": "code",
   "execution_count": null,
   "metadata": {
    "collapsed": true,
    "scrolled": true
   },
   "outputs": [],
   "source": [
    "for x in range(5):\n",
    "    print(x)"
   ]
  },
  {
   "cell_type": "code",
   "execution_count": null,
   "metadata": {
    "collapsed": true,
    "scrolled": true
   },
   "outputs": [],
   "source": [
    "some_dict = {'name': 'Bohdan', 'last_name': 'Skochii', 'age': 30}\n",
    "for x in some_dict:\n",
    "    print(x)"
   ]
  },
  {
   "cell_type": "code",
   "execution_count": null,
   "metadata": {
    "collapsed": true,
    "scrolled": true
   },
   "outputs": [],
   "source": [
    "some_dict = {'name': 'Bohdan', 'last_name': 'Skochii', 'age': 30}\n",
    "for x in some_dict.values():\n",
    "    print(x)"
   ]
  },
  {
   "cell_type": "code",
   "execution_count": null,
   "metadata": {
    "collapsed": true,
    "scrolled": true
   },
   "outputs": [],
   "source": [
    "keys = some_dict.keys()\n",
    "print(keys)\n",
    "# Next we can sort the keys\n",
    "keys = sorted(keys)\n",
    "for key in keys:\n",
    "    print(key)"
   ]
  },
  {
   "cell_type": "code",
   "execution_count": null,
   "metadata": {
    "collapsed": true,
    "scrolled": true
   },
   "outputs": [],
   "source": [
    "# Printing only even numbers \n",
    "\n",
    "for num in range(11):\n",
    "    if num % 2 == 0:\n",
    "        print(num)\n",
    "    "
   ]
  },
  {
   "cell_type": "markdown",
   "metadata": {},
   "source": [
    "# while loop"
   ]
  },
  {
   "cell_type": "markdown",
   "metadata": {},
   "source": [
    "*Loops until a specific condition is met*"
   ]
  },
  {
   "cell_type": "code",
   "execution_count": null,
   "metadata": {
    "collapsed": true,
    "scrolled": true
   },
   "outputs": [],
   "source": [
    "i = 0\n",
    "while i < 10:\n",
    "    print(i)\n",
    "    i += 1\n",
    "    "
   ]
  },
  {
   "cell_type": "markdown",
   "metadata": {},
   "source": [
    "#### break"
   ]
  },
  {
   "cell_type": "code",
   "execution_count": null,
   "metadata": {
    "collapsed": true,
    "scrolled": true
   },
   "outputs": [],
   "source": [
    "x = 10\n",
    "while x < 100:\n",
    "    print(x)\n",
    "    if x == 15:\n",
    "        break\n",
    "    x += 1"
   ]
  },
  {
   "cell_type": "markdown",
   "metadata": {},
   "source": [
    "#### continue"
   ]
  },
  {
   "cell_type": "code",
   "execution_count": null,
   "metadata": {
    "collapsed": true,
    "scrolled": true
   },
   "outputs": [],
   "source": [
    "x = 0\n",
    "\n",
    "while x < 10:\n",
    "    if x == 3:     # when lopp reaches 3, it skip it and continue\n",
    "        x += 1\n",
    "        continue\n",
    "        \n",
    "    print(x)\n",
    "    \n",
    "    if x == 5:\n",
    "        break\n",
    "    x += 1"
   ]
  },
  {
   "cell_type": "markdown",
   "metadata": {},
   "source": [
    "### else"
   ]
  },
  {
   "cell_type": "markdown",
   "metadata": {},
   "source": [
    "### *The else statement in loops only executes if the loop completes successfully.*\n",
    "\n",
    "# ! http://ncoghlan-devs-python-notes.readthedocs.io/en/latest/python_concepts/break_else.html\n",
    "\n",
    "THIS STRUCTURE IS MOSTLY UNUSABLE. READ THE LINK ABOVE"
   ]
  },
  {
   "cell_type": "code",
   "execution_count": null,
   "metadata": {
    "collapsed": true,
    "scrolled": true
   },
   "outputs": [],
   "source": [
    "some_list = [1, 2, 3, 4, 5]\n",
    "\n",
    "for i in some_list:\n",
    "    if i == 2:\n",
    "        print('Item found!')\n",
    "        break\n",
    "    print(i)\n",
    "else:\n",
    "    print('Item not found')"
   ]
  },
  {
   "cell_type": "markdown",
   "metadata": {},
   "source": [
    "&&&&&&&&&&&&&&&&&&&&&&&&&&&&&&&&&&&&&&&&&&&&&&&&&&&&&&&&&&&&&&&&&&&&&&&\n",
    "&&&&&&&&&&&&&&&&&&&&&&&&&&&&&&&&&&&&&&&&&&&&&&&&&&&&&&&&&&&&&&&&&&&&&&&\n",
    "&&&&&&&&&&&&&&&&&&&&&&&&&&&&&&&&&&&&&&&&&&&&&&&&&&&&&&&&&&&&&&&&&&&&&&&\n",
    "&&&&&&&&&&&&&&&&&&&&&&&&&&&&&&&&&&&&&&&&&&&&&&&&&&&&&&&&&&&&&&&&&&&&&&&\n",
    "&&&&&&&&&&&&&&&&&&&&&&&&&&&&&&&&&&&&&&&&&&&&&&&&&&&&&&&&&&&&&&&&&&&&&&&"
   ]
  },
  {
   "cell_type": "markdown",
   "metadata": {},
   "source": [
    "%%%%%%%%%%%%%%%%%%%%%%%%%%%%%%%%%%%%%%%%%\n",
    "# Python Comprehensions\n",
    "%%%%%%%%%%%%%%%%%%%%%%%%%%%%%%%%%%%%%%%%%"
   ]
  },
  {
   "cell_type": "markdown",
   "metadata": {},
   "source": [
    "### List Comprehensions\n"
   ]
  },
  {
   "cell_type": "markdown",
   "metadata": {},
   "source": [
    "*A list comprehension is basically a one line **for** loop that produces a\n",
    "Python list data structure.*"
   ]
  },
  {
   "cell_type": "code",
   "execution_count": null,
   "metadata": {
    "collapsed": true,
    "scrolled": true
   },
   "outputs": [],
   "source": [
    "\n",
    "x = [i for i in range(5)]\n",
    "print(x)\n"
   ]
  },
  {
   "cell_type": "code",
   "execution_count": null,
   "metadata": {
    "collapsed": true
   },
   "outputs": [],
   "source": [
    "\n",
    "nums = [11, 12, 443, 564, 15, 16, 756, 77898]\n",
    "my_list = [i for i in nums]\n",
    "my_list\n"
   ]
  },
  {
   "cell_type": "code",
   "execution_count": null,
   "metadata": {
    "collapsed": true
   },
   "outputs": [],
   "source": [
    "\n",
    "nums = [11, 12, 443, 564, 15, 16, 756, 77898]\n",
    "my_list = [i * i for i in nums]\n",
    "my_list\n"
   ]
  },
  {
   "cell_type": "code",
   "execution_count": null,
   "metadata": {
    "collapsed": true
   },
   "outputs": [],
   "source": [
    "#  make a list of only even numbers\n",
    "nums = [1, 2, 3, 4, 5, 6]\n",
    "my_list = [i for i in nums if i%2 == 0]\n",
    "my_list\n"
   ]
  },
  {
   "cell_type": "code",
   "execution_count": null,
   "metadata": {
    "collapsed": true
   },
   "outputs": [],
   "source": [
    "# Convert string into ints and make a list of only even numbers\n",
    "nums = ['1', '2', '3', '4', '5', '6']\n",
    "my_list = [int(i) for i in nums if int(i)%2 == 0]\n",
    "my_list\n"
   ]
  },
  {
   "cell_type": "code",
   "execution_count": null,
   "metadata": {
    "collapsed": true
   },
   "outputs": [],
   "source": [
    "'''\\\n",
    "I want a (letter, num) pair for each letter in 'abcd' \n",
    "and each number in '0123'\\\n",
    "'''\n",
    "my_list = []\n",
    "for letter in 'abcd':\n",
    "    for num in range(4):\n",
    "        my_list.append((letter, num))\n",
    "print(my_list)"
   ]
  },
  {
   "cell_type": "code",
   "execution_count": null,
   "metadata": {
    "collapsed": true
   },
   "outputs": [],
   "source": [
    "# List comprehension for this loop will look next:\n",
    "\n",
    "my_list_compr = [(letter, num) for letter in 'abcd' for num in range(4)]\n",
    "print(my_list_compr)"
   ]
  },
  {
   "cell_type": "markdown",
   "metadata": {},
   "source": [
    "* For example, say you’re parsing a file and looking for something in particular*"
   ]
  },
  {
   "cell_type": "code",
   "execution_count": null,
   "metadata": {
    "collapsed": true,
    "scrolled": true
   },
   "outputs": [],
   "source": [
    "\n",
    "if [i for i in line if 'SOME TERM' in i]:\n",
    "    # do something\n",
    "    "
   ]
  },
  {
   "cell_type": "code",
   "execution_count": null,
   "metadata": {
    "collapsed": true,
    "scrolled": true
   },
   "outputs": [],
   "source": [
    "\n",
    "# We have a list of strings which we want to become ints.\n",
    "\n",
    "x = ['1', '2', '3', '4', '5']\n",
    "y = [int(i) for i in x]\n",
    "print(y)\n"
   ]
  },
  {
   "cell_type": "code",
   "execution_count": null,
   "metadata": {
    "collapsed": true,
    "scrolled": true
   },
   "outputs": [],
   "source": [
    "\n",
    "# Loop over a list of strings to remove whitespaces\n",
    "\n",
    "myStrings = [s.strip() for s in myStringList]\n"
   ]
  },
  {
   "cell_type": "code",
   "execution_count": null,
   "metadata": {
    "collapsed": true,
    "scrolled": true
   },
   "outputs": [],
   "source": [
    "\n",
    "vec = [[1,2,3], [4,5,6], [7,8,9]]\n",
    "[num for item in vec for num in item]\n"
   ]
  },
  {
   "cell_type": "markdown",
   "metadata": {},
   "source": [
    "### Dictionary Comprehensions\n"
   ]
  },
  {
   "cell_type": "code",
   "execution_count": null,
   "metadata": {
    "collapsed": true
   },
   "outputs": [],
   "source": [
    "# a dict{'name': 'hero'} for each name, hero in zip(names, heroes)\n",
    "\n",
    "names = ['Bruce', 'Clark', 'Peter', 'Logan', 'Wade']\n",
    "heroes = ['Batman', 'Superman', 'Spiderman', 'Wolverine', 'Deadpool']\n",
    "\n",
    "my_dict = {}\n",
    "for name, hero in zip(names, heroes):\n",
    "    my_dict[name] = hero\n",
    "print(my_dict)\n"
   ]
  },
  {
   "cell_type": "code",
   "execution_count": null,
   "metadata": {
    "collapsed": true
   },
   "outputs": [],
   "source": [
    "'''\n",
    "Dict comprehension of this loop looks like this \n",
    "(lets not include Spiderman:\n",
    "''' \n",
    "\n",
    "my_dict = {name: hero for name, hero in zip(names, heroes) if name != 'Peter'}\n",
    "print(my_dict)"
   ]
  },
  {
   "cell_type": "code",
   "execution_count": null,
   "metadata": {
    "collapsed": true
   },
   "outputs": [],
   "source": [
    "'''\n",
    "Basically it is creating an integer key and string\n",
    "value for each item in the range.\n",
    "'''\n",
    "\n",
    "print( {i: str(i) for i in range(5)} )"
   ]
  },
  {
   "cell_type": "markdown",
   "metadata": {},
   "source": [
    "###  swapping the dictionary’s keys and values"
   ]
  },
  {
   "cell_type": "code",
   "execution_count": null,
   "metadata": {
    "collapsed": true
   },
   "outputs": [],
   "source": [
    "my_dict = {1: 'dog', 2: 'cat', 3: 'hamster'}\n",
    "print( {value:key for key, value in my_dict.items()})"
   ]
  },
  {
   "cell_type": "markdown",
   "metadata": {},
   "source": [
    "### Set Comprehensions\n"
   ]
  },
  {
   "cell_type": "code",
   "execution_count": null,
   "metadata": {
    "collapsed": true
   },
   "outputs": [],
   "source": [
    "'''\n",
    "Python set is much like a mathematical set in that it doesn’t \n",
    "have any repeated elements. \n",
    "'''\n",
    "\n",
    "my_list = [1, 2, 3, 4, 5, 6, 6, 7, 8]\n",
    "my_set = set(my_list)\n",
    "my_set"
   ]
  },
  {
   "cell_type": "code",
   "execution_count": null,
   "metadata": {
    "collapsed": true
   },
   "outputs": [],
   "source": [
    "my_list = [1, 2, 3, 4, 5, 6, 6, 7, 8]\n",
    "my_set = {x for x in my_list}\n",
    "my_set"
   ]
  },
  {
   "cell_type": "code",
   "execution_count": null,
   "metadata": {
    "collapsed": true
   },
   "outputs": [],
   "source": [
    "nums = [1, 1, 2, 4, 3, 4, 2, 5, 6, 6, 7, 8]\n",
    "my_set = set()\n",
    "for n in nums:\n",
    "    my_set.add(n)\n",
    "print(my_set)"
   ]
  },
  {
   "cell_type": "code",
   "execution_count": null,
   "metadata": {
    "collapsed": true
   },
   "outputs": [],
   "source": [
    "# List comprehension for above loop:\n",
    "nums = [1, 1, 2, 4, 3, 4, 2, 5, 6, 6, 7, 8]\n",
    "my_set = {n for n in nums}\n",
    "print(my_set)"
   ]
  },
  {
   "cell_type": "raw",
   "metadata": {},
   "source": [
    "}{{{{{{{{{{{{{{{{{{{{{{{{{{{{{{{{}{}{}{}}}}}}}}}}}}}}}}}}}}}}}}}}}}}}}}\n",
    "}{{{{{{{{{{{{{{{{{{{{{{{{{{{{{{{{}{}{}{}}}}}}}}}}}}}}}}}}}}}}}}}}}}}}}}\n",
    "}{{{{{{{{{{{{{{{{{{{{{{{{{{{{{{{{}{}{}{}}}}}}}}}}}}}}}}}}}}}}}}}}}}}}}}\n",
    "}{{{{{{{{{{{{{{{{{{{{{{{{{{{{{{{{}{}{}{}}}}}}}}}}}}}}}}}}}}}}}}}}}}}}}}\n",
    "}{{{{{{{{{{{{{{{{{{{{{{{{{{{{{{{{}{}{}{}}}}}}}}}}}}}}}}}}}}}}}}}}}}}}}}\n",
    "}{{{{{{{{{{{{{{{{{{{{{{{{{{{{{{{{}{}{}{}}}}}}}}}}}}}}}}}}}}}}}}}}}}}}}}\n",
    "}{{{{{{{{{{{{{{{{{{{{{{{{{{{{{{{{}{}{}{}}}}}}}}}}}}}}}}}}}}}}}}}}}}}}}}"
   ]
  },
  {
   "cell_type": "markdown",
   "metadata": {},
   "source": [
    "# Exception Handling\n",
    "\n",
    "* **Exception** (this is what almost all the others are built off of)\n",
    "\n",
    "\n",
    "* AttributeError - Raised when an attribute reference or assignment fails.\n",
    "\n",
    "\n",
    "* **OError** - Raised when an I/O operation (such as a print statement, the built-in open() function or a method of a file object) fails for an I/O-related reason, e.g.,“file not found” or “disk full”.\n",
    "\n",
    "\n",
    "* **ImportError** - Raised when an import statement fails to find the module definition or when a **from** ... **import** fails to find a name that is to be imported.\n",
    "\n",
    "\n",
    "* **IndexError** - Raised when a sequence subscript is out of range.\n",
    "\n",
    "\n",
    "* **KeyError** - Raised when a mapping (dictionary) key is not found in the set of existing keys.\n",
    "\n",
    "\n",
    "* **KeyboardInterrupt** - Raised when the user hits the interrupt key (normally Control-C or Delete).\n",
    "\n",
    "\n",
    "* **NameError** - Raised when a local or global name is not found.\n",
    "\n",
    "\n",
    "* **OSError** - Raised when a function returns a system-related error.\n",
    "\n",
    "\n",
    "* **SyntaxError** - Raised when the parser encounters a syntax error.\n",
    "\n",
    "\n",
    "* **TypeError** - Raised when an operation or function is applied to an object of inappropriate type. The associated value is a string giving details about the type mismatch.\n",
    "\n",
    "\n",
    "* **ValueError** - Raised when a built-in operation or function receives an argument that has the right type but an inappropriate value, and the situation is not described by a more precise exception such as IndexError.\n",
    "\n",
    "\n",
    "* **ZeroDivisionError** - Raised when the second argument of a division or modulo operation is zero.\n",
    "\n"
   ]
  },
  {
   "cell_type": "markdown",
   "metadata": {},
   "source": [
    "###  try/except"
   ]
  },
  {
   "cell_type": "code",
   "execution_count": null,
   "metadata": {
    "collapsed": true
   },
   "outputs": [],
   "source": [
    "try:\n",
    "    1 / 0\n",
    "except ZeroDivisionError:\n",
    "    print('You can\\'t divide by zero...')"
   ]
  },
  {
   "cell_type": "code",
   "execution_count": null,
   "metadata": {
    "collapsed": true
   },
   "outputs": [],
   "source": [
    "my_dict = {'a': 1, 'b': 2, 'c':3}\n",
    "try:\n",
    "    value = my_dict['d']\n",
    "except KeyError:\n",
    "    print('...key does not exist..')"
   ]
  },
  {
   "cell_type": "code",
   "execution_count": null,
   "metadata": {
    "collapsed": true
   },
   "outputs": [],
   "source": [
    "my_list = [1, 2, 3, 4, 5]\n",
    "try:\n",
    "    my_list[5]\n",
    "except IndexError:\n",
    "    print('Index is out of range...')"
   ]
  },
  {
   "cell_type": "code",
   "execution_count": null,
   "metadata": {
    "collapsed": true
   },
   "outputs": [],
   "source": [
    "my_dict = {'a': 1, 'b': 2, 'c':3}\n",
    "try:\n",
    "    value = my_dict['d']\n",
    "except IndexError:\n",
    "    print(\"This index does not exist!\")\n",
    "except KeyError:\n",
    "    print(\"This key is not in the dictionary!\")\n",
    "except:\n",
    "    print(\"Unknown error\")\n",
    "\n",
    "    "
   ]
  },
  {
   "cell_type": "code",
   "execution_count": null,
   "metadata": {
    "collapsed": true
   },
   "outputs": [],
   "source": [
    "try:\n",
    "    value = my_dict['d']\n",
    "except (IndexError, KeyError):\n",
    "    print('An IndexError or KeyError occurred!')\n",
    "'''\\\n",
    "The problem with this method is that it’s hard to tell which error has actually occurred, so the\n",
    "previous example is recommended.\\\n",
    "'''"
   ]
  },
  {
   "cell_type": "markdown",
   "metadata": {},
   "source": [
    "# The *finally* Statement\n"
   ]
  },
  {
   "cell_type": "code",
   "execution_count": null,
   "metadata": {
    "collapsed": true
   },
   "outputs": [],
   "source": [
    "my_dict = {'a': 1, 'b': 2, 'c':3}\n",
    "try:\n",
    "    value = my_dict['d']\n",
    "except KeyError:\n",
    "    print('Key Error!!')\n",
    "finally:\n",
    "    print('The finally statement has executed')\n",
    "    \n",
    "\n",
    "# If you run the code above, it will print the statement in the except and the finally. This is pretty\n",
    "# simple, right? Now you can use the finally statement to clean up after yourself. You would also put\n",
    "# the exit code at the end of the finally statement.\n"
   ]
  },
  {
   "cell_type": "markdown",
   "metadata": {},
   "source": [
    "### try, except, or else!\n"
   ]
  },
  {
   "cell_type": "code",
   "execution_count": null,
   "metadata": {
    "collapsed": true
   },
   "outputs": [],
   "source": [
    "my_dict = {'a': 1, 'b': 2, 'c':3}\n",
    "\n",
    "try:\n",
    "    value = my_dict['a']\n",
    "except KeyError:\n",
    "    print('Key error...')\n",
    "else:\n",
    "    print('No error occurred')\n",
    "finally:\n",
    "    print('finally statement ran')"
   ]
  },
  {
   "cell_type": "markdown",
   "metadata": {},
   "source": [
    "///////////////////////////////////////////////////////////////////////\n",
    "///////////////////////////////////////////////////////////////////////\n",
    "///////////////////////////////////////////////////////////////////////\n",
    "///////////////////////////////////////////////////////////////////////\n",
    "///////////////////////////////////////////////////////////////////////\n",
    "///////////////////////////////////////////////////////////////////////\n",
    "///////////////////////////////////////////////////////////////////////\n",
    "///////////////////////////////////////////////////////////////////////\n",
    "///////////////////////////////////////////////////////////////////////\n",
    "///////////////////////////////////////////////////////////////////////"
   ]
  },
  {
   "cell_type": "markdown",
   "metadata": {},
   "source": [
    "# Working with Files\n",
    "### How to Read a File\n"
   ]
  },
  {
   "cell_type": "code",
   "execution_count": null,
   "metadata": {
    "collapsed": true
   },
   "outputs": [],
   "source": [
    "# my_file1 = open('test.txt') # read only mode. file should be in the same dir\n",
    "\n",
    "# or\n",
    "\n",
    "my_file = open(r'/home/bohdan/test.txt', 'r')"
   ]
  },
  {
   "cell_type": "code",
   "execution_count": null,
   "metadata": {
    "collapsed": true
   },
   "outputs": [],
   "source": [
    "my_file = open(r'/home/bohdan/test.txt', 'r') # first r' stands for raw string\n",
    "data = my_file.read()\n",
    "print(data)\n",
    "my_file.close()"
   ]
  },
  {
   "cell_type": "code",
   "execution_count": null,
   "metadata": {
    "collapsed": true
   },
   "outputs": [],
   "source": [
    "my_file = open(r'/home/bohdan/test.txt', 'r')\n",
    "data = my_file.readline() # read just one line \n",
    "print(data)\n",
    "my_file.close()"
   ]
  },
  {
   "cell_type": "code",
   "execution_count": null,
   "metadata": {
    "collapsed": true
   },
   "outputs": [],
   "source": [
    "my_file = open(r'/home/bohdan/test.txt', 'r')\n",
    "data = my_file.readlines() # read just one line \n",
    "print(data)\n",
    "my_file.close()"
   ]
  },
  {
   "cell_type": "markdown",
   "metadata": {},
   "source": [
    "## Read Files Piece by Piece\n"
   ]
  },
  {
   "cell_type": "code",
   "execution_count": null,
   "metadata": {
    "collapsed": true
   },
   "outputs": [],
   "source": [
    "my_file = open(r'/home/bohdan/test.txt', 'r')\n",
    "for line in my_file:\n",
    "    print(line)\n",
    "my_file.close()"
   ]
  },
  {
   "cell_type": "code",
   "execution_count": null,
   "metadata": {
    "collapsed": true
   },
   "outputs": [],
   "source": [
    "my_file = open(r'/home/bohdan/test.txt', 'r')\n",
    "while True:\n",
    "    data = my_file.read(1024)    # 1024 bytes, one kilobyte\n",
    "    print(data)\n",
    "    if not data:\n",
    "        break"
   ]
  },
  {
   "cell_type": "markdown",
   "metadata": {},
   "source": [
    "##  Read a Binary File\n"
   ]
  },
  {
   "cell_type": "code",
   "execution_count": null,
   "metadata": {
    "collapsed": true
   },
   "outputs": [],
   "source": [
    "# 'rb' for 'read-binary'\n",
    "my_file = open(r'/home/bohdan/Practical Object-Oriented Design in Ruby.pdf', 'rb')\n",
    "my_file.close()"
   ]
  },
  {
   "cell_type": "markdown",
   "metadata": {},
   "source": [
    "# Writing Files in Python\n",
    "\n",
    "##### *CAUTION: When using “w” or “wb” modes, if the file already exists, it will be overwritten with no warning! You can check if a file exists before you open it by using Python’s os module. *\n"
   ]
  },
  {
   "cell_type": "code",
   "execution_count": null,
   "metadata": {
    "collapsed": true
   },
   "outputs": [],
   "source": [
    "# 'wb' for write-binary\n",
    "# .writelines will accept a list of strings.\n",
    "\n",
    "my_file = open(r'/home/bohdan/test_write.txt', 'w')\n",
    "my_file.write('Catch me outside!')\n",
    "my_file.close()"
   ]
  },
  {
   "cell_type": "markdown",
   "metadata": {},
   "source": [
    "### Using the with Operator\n"
   ]
  },
  {
   "cell_type": "markdown",
   "metadata": {},
   "source": [
    "*The with operator creates what is known as a context manager in Python that will automatically\n",
    "close the file for you when you are done processing it. *"
   ]
  },
  {
   "cell_type": "code",
   "execution_count": null,
   "metadata": {
    "collapsed": true
   },
   "outputs": [],
   "source": [
    "with open(r'/home/bohdan/test_write.txt') as my_file:\n",
    "    for line in my_file:\n",
    "        print(line)"
   ]
  },
  {
   "cell_type": "markdown",
   "metadata": {},
   "source": [
    "# Catching Errors\n"
   ]
  },
  {
   "cell_type": "code",
   "execution_count": null,
   "metadata": {
    "collapsed": true
   },
   "outputs": [],
   "source": [
    "try:\n",
    "    my_file = open(r'/home/bohdan/test_write.txt')\n",
    "    for line in my_file:\n",
    "        print(line)\n",
    "except IOError:\n",
    "    print('An IOError has occurred!')\n",
    "finally:\n",
    "    my_file.close()"
   ]
  },
  {
   "cell_type": "code",
   "execution_count": null,
   "metadata": {
    "collapsed": true
   },
   "outputs": [],
   "source": [
    "try:\n",
    "    with open(r'/home/bohdan/test_write.txt') as my_file:\n",
    "        for line in my_file:\n",
    "            print(line)\n",
    "except IOError:\n",
    "    print('An IOError has occurred!')\n"
   ]
  },
  {
   "cell_type": "markdown",
   "metadata": {},
   "source": [
    "%%%%%%%%%%%%%%%%%%%%%%%%%%%%%%%%%%%%%%%%%%%%%%%%%%%%%%%%%%%%%%%%%%%\n",
    "\n",
    "#  Importing\n",
    "\n",
    "%%%%%%%%%%%%%%%%%%%%%%%%%%%%%%%%%%%%%%%%%%%%%%%%%%%%%%%%%%%%%%%%%%%"
   ]
  },
  {
   "cell_type": "markdown",
   "metadata": {},
   "source": [
    "*A module is a single importable Python file whereas a package is made up of two or more\n",
    "modules.*"
   ]
  },
  {
   "cell_type": "code",
   "execution_count": null,
   "metadata": {
    "collapsed": true
   },
   "outputs": [],
   "source": [
    "import this"
   ]
  },
  {
   "cell_type": "code",
   "execution_count": null,
   "metadata": {
    "collapsed": true
   },
   "outputs": [],
   "source": [
    "import math\n",
    "math.sqrt(64)"
   ]
  },
  {
   "cell_type": "code",
   "execution_count": null,
   "metadata": {
    "collapsed": true
   },
   "outputs": [],
   "source": [
    "from math import sqrt\n",
    "sqrt(16)"
   ]
  },
  {
   "cell_type": "code",
   "execution_count": null,
   "metadata": {
    "collapsed": true
   },
   "outputs": [],
   "source": [
    "from math import sqrt, pi\n",
    "pi"
   ]
  },
  {
   "cell_type": "markdown",
   "metadata": {},
   "source": [
    "# Importing Everything!\n"
   ]
  },
  {
   "cell_type": "markdown",
   "metadata": {},
   "source": [
    "*This is actually\n",
    "a bad idea as it can contaminate your namespace. A **namespace** is where all your variables live\n",
    "during the life of the program.*"
   ]
  },
  {
   "cell_type": "code",
   "execution_count": null,
   "metadata": {
    "collapsed": true
   },
   "outputs": [],
   "source": [
    "from math import *"
   ]
  },
  {
   "cell_type": "markdown",
   "metadata": {},
   "source": [
    "%%%%%%%%%%%%%%%%%%%%%%%%%%%%%%%%%%%%%%%%%%%%%%%%%%%%%%%%%%%%%%%%%%%\n",
    "\n",
    "# Functions\n",
    "\n",
    "%%%%%%%%%%%%%%%%%%%%%%%%%%%%%%%%%%%%%%%%%%%%%%%%%%%%%%%%%%%%%%%%%%%"
   ]
  },
  {
   "cell_type": "markdown",
   "metadata": {},
   "source": [
    "**An Empty Function (the stub)**\n"
   ]
  },
  {
   "cell_type": "code",
   "execution_count": null,
   "metadata": {
    "collapsed": true
   },
   "outputs": [],
   "source": [
    "def func_name(a) # (a) is and argument\n",
    "\n",
    "def func_name(a='Python') # this is keyword argument"
   ]
  },
  {
   "cell_type": "code",
   "execution_count": null,
   "metadata": {
    "collapsed": true
   },
   "outputs": [],
   "source": [
    "# <pass> statement, when executed - nothing happens.\n",
    "\n",
    "def future_function():\n",
    "    pass"
   ]
  },
  {
   "cell_type": "markdown",
   "metadata": {},
   "source": [
    "## Passing Arguments to a Function\n"
   ]
  },
  {
   "cell_type": "code",
   "execution_count": null,
   "metadata": {
    "collapsed": true
   },
   "outputs": [],
   "source": [
    "def addition_basic(a, b):\n",
    "    return a + b #  If you don’t tell  to return, then it will return None\n",
    "\n",
    "addition_basic(2, 5)"
   ]
  },
  {
   "cell_type": "code",
   "execution_count": null,
   "metadata": {
    "collapsed": true
   },
   "outputs": [],
   "source": [
    "addition_basic(a=2, b=4)"
   ]
  },
  {
   "cell_type": "code",
   "execution_count": null,
   "metadata": {
    "collapsed": true
   },
   "outputs": [],
   "source": [
    "total = addition_basic(b=2, a=1)\n",
    "print(total)"
   ]
  },
  {
   "cell_type": "markdown",
   "metadata": {},
   "source": [
    "**Keyword Arguments**"
   ]
  },
  {
   "cell_type": "code",
   "execution_count": null,
   "metadata": {
    "collapsed": true
   },
   "outputs": [],
   "source": [
    "def default_keyword(a=1, b=5):\n",
    "    return a + b"
   ]
  },
  {
   "cell_type": "code",
   "execution_count": null,
   "metadata": {
    "collapsed": true
   },
   "outputs": [],
   "source": [
    "default_keyword()"
   ]
  },
  {
   "cell_type": "code",
   "execution_count": null,
   "metadata": {
    "collapsed": true
   },
   "outputs": [],
   "source": [
    "def mixed_keywords(a, b=2, c=2):\n",
    "    return a + b + c\n",
    "\n",
    "mixed_keywords(1,3,1)"
   ]
  },
  {
   "cell_type": "code",
   "execution_count": null,
   "metadata": {
    "collapsed": true
   },
   "outputs": [],
   "source": [
    "mixed_keywords(1,b=3,c=1)"
   ]
  },
  {
   "cell_type": "markdown",
   "metadata": {},
   "source": [
    "# \\*args and **kwargs\n",
    "\n"
   ]
  },
  {
   "cell_type": "code",
   "execution_count": null,
   "metadata": {
    "collapsed": true
   },
   "outputs": [],
   "source": [
    "def many(*args, **kwargs):\n",
    "    print(args)\n",
    "    print(kwargs)\n",
    "    \n",
    "many(1, 2, 3, name= 'Mike', job='programmer')"
   ]
  },
  {
   "cell_type": "markdown",
   "metadata": {},
   "source": [
    "## A Note on Scope and Globals"
   ]
  },
  {
   "cell_type": "markdown",
   "metadata": {},
   "source": [
    "*If we define the variables inside of a function, those variables can only be used inside that function.Once that function ends, they can no longer be used because\n",
    "they are out of scope.*"
   ]
  },
  {
   "cell_type": "markdown",
   "metadata": {},
   "source": [
    "## Coding Tips\n"
   ]
  },
  {
   "cell_type": "markdown",
   "metadata": {},
   "source": [
    "* When you find yourself doing that, then you know that chunk of code should go into a function. \n",
    "\n",
    "* Copying and pasting the same chunk of code all over is an example of spaghetti code\n",
    "\n"
   ]
  },
  {
   "cell_type": "markdown",
   "metadata": {},
   "source": [
    "%%%%%%%%%%%%%%%%%%%%%%%%%%%%%%%%%%%%%%%%%%%%%%%%%%%%%%%%%%%%%%%%%%%\n",
    "\n",
    "# Classes\n",
    "\n",
    "\n",
    "\n",
    "\n",
    "%%%%%%%%%%%%%%%%%%%%%%%%%%%%%%%%%%%%%%%%%%%%%%%%%%%%%%%%%%%%%%%%%%%"
   ]
  },
  {
   "cell_type": "code",
   "execution_count": null,
   "metadata": {
    "collapsed": true
   },
   "outputs": [],
   "source": [
    "x = 'Bohdan'\n",
    "dir(x)"
   ]
  },
  {
   "cell_type": "markdown",
   "metadata": {},
   "source": [
    "# Creating new Class"
   ]
  },
  {
   "cell_type": "code",
   "execution_count": null,
   "metadata": {
    "collapsed": true
   },
   "outputs": [],
   "source": [
    "class Vehicle:\n",
    "    '''docstring'''\n",
    "    \n",
    "    def __init__(self):   # in classes functions are methods.\n",
    "        '''Constructor'''\n",
    "        pass"
   ]
  },
  {
   "cell_type": "code",
   "execution_count": null,
   "metadata": {
    "collapsed": true
   },
   "outputs": [],
   "source": [
    "# The code below added three attributes and two methods. \n",
    "\n",
    "\n",
    "\n",
    "class Vehicle:\n",
    "    '''docstring'''\n",
    "    \n",
    "    def __init__(self, color, doors, tires):\n",
    "        '''Constructor'''\n",
    "        self.color = color\n",
    "        self.doors = doors\n",
    "        self.tires = tires\n",
    "        \n",
    "        def brakes(self):\n",
    "            '''\n",
    "            Stop the car\n",
    "            '''\n",
    "            return 'Braking!'\n",
    "        \n",
    "        def drive(self):\n",
    "            '''\n",
    "            Drive the car\n",
    "            '''\n",
    "            return 'Let\\'s Go!'\n",
    "        \n",
    "if __name__ == '__main__':\n",
    "    car = Vehicle('blue', doors=2, tires=4) # or ('blue', 2, 4)\n",
    "    print(car.doors)\n",
    "    \n",
    "    truck = Vehicle('red', doors=2, tires=8)\n",
    "    print(truck.tires)"
   ]
  },
  {
   "cell_type": "markdown",
   "metadata": {},
   "source": [
    "# What is self?\n",
    "\n"
   ]
  },
  {
   "cell_type": "code",
   "execution_count": null,
   "metadata": {
    "collapsed": true
   },
   "outputs": [],
   "source": [
    "if __name__ == '__main__':\n",
    "    car = Vehicle('blue', doors=2, tires=4) # or ('blue', 2, 4)\n",
    "    print(car.doors)\n",
    "    \n",
    "    truck = Vehicle('red', doors=2, tires=8)\n",
    "    print(truck.tires)"
   ]
  },
  {
   "cell_type": "markdown",
   "metadata": {},
   "source": [
    "The conditional statement above is a common way of telling Python that you only want to run the\n",
    "following code if this code is executed as a standalone file. If you had imported your module into\n",
    "another script, then the code underneath the conditional would not run."
   ]
  },
  {
   "cell_type": "code",
   "execution_count": null,
   "metadata": {
    "collapsed": true
   },
   "outputs": [],
   "source": [
    "class Vehicle:\n",
    "    def __init__(self, car_type, color, model):\n",
    "        '''Constructor'''\n",
    "        self.car_type = car_type\n",
    "        self.color = color\n",
    "        self.model = model\n",
    "    \n",
    "    def start_engine(self):\n",
    "        '''Start the engine of the car'''\n",
    "        return \"The engine of your %s is started\" % self.model\n",
    "    \n",
    "    def stop_engine(self):\n",
    "        '''Stop the engine of the car'''\n",
    "        return 'The engine of your %s %s is stopped' %  (self.car_type, self.model)\n",
    "    \n",
    "\n",
    "if __name__ == '__main__':\n",
    "    car = Vehicle('roadster', 'red', 'Tesla')\n",
    "    print(car.start_engine())\n",
    "    print(car.stop_engine())\n",
    "    \n",
    "    truck = Vehicle('TIR', 'black', 'Volvo')\n",
    "    print(truck.start_engine())\n",
    "    print(truck.stop_engine())\n",
    "    "
   ]
  },
  {
   "cell_type": "markdown",
   "metadata": {},
   "source": [
    "## Subclasses\n"
   ]
  },
  {
   "cell_type": "code",
   "execution_count": null,
   "metadata": {
    "collapsed": true
   },
   "outputs": [],
   "source": [
    "class Motorcycle(Vehicle):\n",
    "    '''\n",
    "    The motorcycle class.\n",
    "    '''\n",
    "    \n",
    "    def start_engine(self):\n",
    "        '''Override start engine method'''\n",
    "        return 'The motorcycle starts differently'\n",
    "    \n",
    "if __name__ == '__main__':\n",
    "    bike = Motorcycle('cruiser', 'Green', 'Ducati')\n",
    "    print(bike.start_engine())\n",
    "    "
   ]
  },
  {
   "cell_type": "markdown",
   "metadata": {
    "collapsed": true
   },
   "source": [
    "%%%%%%%%%%%%%%%%%%%%%%%%%%%%%%%%%%%%%%%%%%%%%%%%%%%%%%%%%%%%%%%%%%%\n",
    "\n",
    "# PYTHON LIBRARY\n",
    "\n",
    "%%%%%%%%%%%%%%%%%%%%%%%%%%%%%%%%%%%%%%%%%%%%%%%%%%%%%%%%%%%%%%%%%%%\n"
   ]
  },
  {
   "cell_type": "markdown",
   "metadata": {},
   "source": [
    "### The Python Type\n"
   ]
  },
  {
   "cell_type": "code",
   "execution_count": null,
   "metadata": {
    "collapsed": true
   },
   "outputs": [],
   "source": [
    "x = 'test'\n",
    "y = 7\n",
    "z = None\n",
    "print(type(x))\n",
    "print(type(y))\n",
    "print(type(z))"
   ]
  },
  {
   "cell_type": "markdown",
   "metadata": {},
   "source": [
    "### The Python Dir\n"
   ]
  },
  {
   "cell_type": "code",
   "execution_count": null,
   "metadata": {
    "collapsed": true
   },
   "outputs": [],
   "source": [
    "dir(int)"
   ]
  },
  {
   "cell_type": "code",
   "execution_count": null,
   "metadata": {
    "collapsed": true
   },
   "outputs": [],
   "source": [
    "import sys\n",
    "dir(sys)   # this will help you to see what methods available in a package"
   ]
  },
  {
   "cell_type": "markdown",
   "metadata": {},
   "source": [
    "### Python Help!\n"
   ]
  },
  {
   "cell_type": "code",
   "execution_count": null,
   "metadata": {
    "collapsed": true
   },
   "outputs": [],
   "source": [
    "help()   # this will open help prompt"
   ]
  },
  {
   "cell_type": "markdown",
   "metadata": {},
   "source": [
    "# The csv Module\n"
   ]
  },
  {
   "cell_type": "markdown",
   "metadata": {},
   "source": [
    "##### Reading a CSV File\n"
   ]
  },
  {
   "cell_type": "code",
   "execution_count": null,
   "metadata": {
    "collapsed": true
   },
   "outputs": [],
   "source": [
    "import csv\n",
    "\n",
    "def csv_reader(file_obj):\n",
    "    \"\"\"\n",
    "    Read a csv file.\n",
    "    \"\"\"\n",
    "    \n",
    "    reader = csv.reader(file_obj)\n",
    "    for row in reader:\n",
    "        print('\\n'.join(row))\n",
    "        \n",
    "if __name__ == '__main__':\n",
    "    csv_path = \"/home/bohdan/TB_data_dictionary_2017-11-21.csv\"\n",
    "    with open(csv_path, 'r') as f_obj:\n",
    "        csv_reader(f_obj)\n",
    "    \n",
    "    "
   ]
  },
  {
   "cell_type": "code",
   "execution_count": null,
   "metadata": {
    "collapsed": true
   },
   "outputs": [],
   "source": [
    "import csv\n",
    "\n",
    "def csv_dict_reader(file):\n",
    "    '''\n",
    "    Read a CSV file using csv.DictReader\n",
    "    '''\n",
    "    \n",
    "    reader = csv.DictReader(file, delimiter=',')\n",
    "    for line in reader:\n",
    "        print(line['first_name'])\n",
    "        print(line['last_name'])\n",
    "        print(line['address'])\n",
    "        \n",
    "        \n",
    "if __name__ == '__main__':\n",
    "    with open('/home/bohdan/data.csv') as data:\n",
    "        csv_dict_reader(data)"
   ]
  },
  {
   "cell_type": "markdown",
   "metadata": {
    "collapsed": true
   },
   "source": [
    "## Writing a CSV File\n",
    "\n"
   ]
  },
  {
   "cell_type": "code",
   "execution_count": null,
   "metadata": {
    "collapsed": true
   },
   "outputs": [],
   "source": [
    "import csv\n",
    "\n",
    "def csv_writer(data, path):\n",
    "    \"\"\"\n",
    "    Write data to a CSV file path\n",
    "    \"\"\"\n",
    "    \n",
    "    with open(path, 'w', newline='') as csv_file:\n",
    "        writer = csv.writer(csv_file, delimiter=',')\n",
    "        for line in data:\n",
    "            writer.writerow(line)\n",
    "            \n",
    "if __name__ == '__main__':\n",
    "    data = [ 'first_name, last_name,city'.split(','),\n",
    "            \"Tyrese,Hirthe,Strackeport\".split(\",\"),\n",
    "            \"Jules,Dicki,Lake Nickolasville\".split(\",\"),\n",
    "            \"Dedric,Medhurst,Stiedemannberg\".split(\",\")\n",
    "            ]\n",
    "    \n",
    "    path = 'output.csv'\n",
    "    csv_writer(data, path)"
   ]
  },
  {
   "cell_type": "code",
   "execution_count": null,
   "metadata": {
    "collapsed": true
   },
   "outputs": [],
   "source": [
    "import csv\n",
    "\n",
    "def csv_dict_writer(path, fieldnames, data):\n",
    "    \"\"\"\n",
    "    Writes a CSV file using DictWriter\n",
    "    \"\"\"\n",
    "    \n",
    "    with open(path, 'w', newline='') as out_file:\n",
    "        writer = csv.DictWriter(out_file, delimiter=',', fieldnames=fieldnames)\n",
    "        writer.writeheader()\n",
    "        for row in data:\n",
    "            writer.writerow(row)\n",
    "            \n",
    "if __name__ == '__main__':\n",
    "    data = [\"first_name,last_name,city\".split(\",\"),\n",
    "            \"Tyrese,Hirthe,Strackeport\".split(\",\"),\n",
    "            \"Jules,Dicki,Lake Nickolasville\".split(\",\"),\n",
    "            \"Dedric,Medhurst,Stiedemannberg\".split(\",\")\n",
    "           ]\n",
    "    \n",
    "    my_list = []\n",
    "    fieldnames = data[0]\n",
    "    for values in data [1:]:\n",
    "        inner_dict = dict(zip(fieldnames, values))\n",
    "        my_list.append(inner_dict)\n",
    "            \n",
    "    path = 'dict_output.csv'\n",
    "    csv_dict_writer(path, fieldnames, my_list)"
   ]
  },
  {
   "cell_type": "markdown",
   "metadata": {},
   "source": [
    "## configparser\n"
   ]
  },
  {
   "cell_type": "markdown",
   "metadata": {},
   "source": [
    "#### Creating a Config File\n"
   ]
  },
  {
   "cell_type": "code",
   "execution_count": null,
   "metadata": {
    "collapsed": true
   },
   "outputs": [],
   "source": [
    "import configparser\n",
    "\n",
    "def createConfig(path):\n",
    "    \"\"\"\n",
    "    Create a config file\n",
    "    \"\"\"\n",
    "    \n",
    "    config = configparser.ConfigParser()\n",
    "    config.add_section(\"Settings\")\n",
    "    config.set(\"Settings\", \"font\", \"Courier\")\n",
    "    config.set(\"Settings\", \"font-size\", \"12\")\n",
    "    config.set(\"Settings\", \"font-style\", \"Normal\")\n",
    "    config.set(\"Settings\", \"font_info\",\n",
    "              \"You are using %(font)s at %(font_size)s pt\")\n",
    "    \n",
    "    with open(path, 'w') as config_file:\n",
    "        config.write(config_file)\n",
    "        \n",
    "if __name__ == '__main__':\n",
    "    path = \"settings.ini\"\n",
    "    createConfig(path)"
   ]
  },
  {
   "cell_type": "markdown",
   "metadata": {},
   "source": [
    "### How to Read, Update and Delete Options\n"
   ]
  },
  {
   "cell_type": "code",
   "execution_count": null,
   "metadata": {
    "collapsed": true
   },
   "outputs": [],
   "source": [
    "# not the best example, too much going on for one function\n",
    "\n",
    "import configparser\n",
    "import os\n",
    "\n",
    "def crudConfig(path):\n",
    "    \"\"\"\n",
    "    Create, read, update, delete config\n",
    "    \"\"\"\n",
    "    \n",
    "    if not os.path.exists(path):\n",
    "        createConfig(path)\n",
    "        \n",
    "        config = configparser.ConfigParser()\n",
    "        config.read(path)\n",
    "        \n",
    "        # read some values from the config\n",
    "        font = config.get(\"Settings\", \"font\")\n",
    "        font_site = config.get(\"Setting\", \"font_size\")\n",
    "        \n",
    "        # change a value in the config\n",
    "        config.remove_option(\"Settings\", \"font_size\", \"12\")\n",
    "        \n",
    "        # delete a value from the config\n",
    "        config.remove_option(\"Settings\", \"font_style\")\n",
    "        \n",
    "        # write changes back to config file\n",
    "        with open(path, 'w') as config_file:\n",
    "            config.write(config_file)\n",
    "            \n",
    "if __name__ =='__main__':\n",
    "    path = \"settings.ini\"\n",
    "    crudConfig(path)"
   ]
  },
  {
   "cell_type": "code",
   "execution_count": null,
   "metadata": {
    "collapsed": true
   },
   "outputs": [],
   "source": [
    "import configparser\n",
    "import os\n",
    "\n",
    "def create_config(path):\n",
    "    \"\"\"\n",
    "    Create a config file\n",
    "    \"\"\"\n",
    "    \n",
    "    config = configparser.ConfigParser()\n",
    "    config.add_section(\"Settings\")\n",
    "    config.set(\"Settings\", \"font\", \"Courier\")\n",
    "    config.set(\"Settings\", \"font_size\", \"10\")\n",
    "    config.set(\"Settings\", \"font_style\", \"Normal\")\n",
    "    config.set(\"Settings\", \"font_info\",\n",
    "              \"You are using %(font)s at %(font_size)s pt\")\n",
    "    \n",
    "    with open(path, 'w') as config_file:\n",
    "        config.write(config_file)\n",
    "        \n",
    "def get_congif(path):\n",
    "    \"\"\"\n",
    "    Returns the config object\n",
    "    \"\"\"\n",
    "    if not os.path.exists(path):\n",
    "        create_config(path)\n",
    "        \n",
    "    config = configparser.ConfigParser()\n",
    "    config.read(path)\n",
    "    return config\n",
    "\n",
    "def get_setting(path, section, setting):\n",
    "    \"\"\"\n",
    "    Print out a setting\n",
    "    \"\"\"\n",
    "    config = get_config(path)\n",
    "    value = config.get(section, setting)\n",
    "    msg = '{section {setting} is {value}'.format(\n",
    "        section=section, setting=setting, value=value)\n",
    "    \n",
    "    print(msg)\n",
    "    return value\n",
    "\n",
    "def update_setting(path, section, setting, value):\n",
    "    \"\"\"\n",
    "    Update a setting\n",
    "    \"\"\"\n",
    "    config = get_config(path)\n",
    "    config.set(section, setting, value)\n",
    "    with open(path, 'w') as config_file:\n",
    "        config.write(config_file)\n",
    "        \n",
    "def delete_setting(path, section, setting):\n",
    "    \"\"\"\n",
    "    Delete setting\n",
    "    \"\"\"\n",
    "    \n",
    "    config = get_config(path)\n",
    "    config.remove_option(section, setting)\n",
    "    with open(path, 'w') as config_file:\n",
    "        config.write(config_file)\n",
    "        \n",
    "if __name__ == '__main__':\n",
    "    path = \"settings.ini\"\n",
    "    font = get_setting(path, 'Settings', 'font')\n",
    "    font_size = get_setting(path, 'Settings', 'font_size')\n",
    "    \n",
    "    update_setting(path, 'Setting', 'font_size', '12')\n",
    "    \n",
    "    delete_setting(path, 'Setting', 'font_stule')\n",
    "    "
   ]
  },
  {
   "cell_type": "markdown",
   "metadata": {},
   "source": [
    "### How to Use Interpolation\n",
    "\n",
    "\n"
   ]
  },
  {
   "cell_type": "code",
   "execution_count": null,
   "metadata": {
    "collapsed": true
   },
   "outputs": [],
   "source": [
    "import configparser\n",
    "import os\n",
    "\n",
    "def interpolationDemo(path):\n",
    "    if not os.path.exists(path):\n",
    "        createConfig(path)\n",
    "        \n",
    "        config = configparser.ConfigParser()\n",
    "        config.read(path)\n",
    "        \n",
    "        print(config.get('Settings', 'font_info'))\n",
    "        \n",
    "        print(config.get('Settings', 'font_info',\n",
    "                        vars={'font': 'Arial', 'font_size': \"100\"}))\n",
    "        \n",
    "        if __name__ == '__main__':\n",
    "            path = \"settings.ini\"\n",
    "            interpolationDemo(path)\n",
    "            \n"
   ]
  },
  {
   "cell_type": "markdown",
   "metadata": {},
   "source": [
    "%%%%%%%%%%%%%%%%%%%%%%%%%%%%%%%%%%%%%%%%%%%%%%%%%%%%%%%%%%%%%%%%%%%\n",
    "\n",
    "# Chapter 15 - Logging\n",
    "\n",
    "\n",
    "%%%%%%%%%%%%%%%%%%%%%%%%%%%%%%%%%%%%%%%%%%%%%%%%%%%%%%%%%%%%%%%%%%%"
   ]
  },
  {
   "cell_type": "markdown",
   "metadata": {
    "collapsed": true
   },
   "source": [
    "### Creating a Simple Logger\n"
   ]
  },
  {
   "cell_type": "code",
   "execution_count": null,
   "metadata": {
    "collapsed": true
   },
   "outputs": [],
   "source": [
    "import logging\n",
    "\n",
    "# add filemode='w' to overwrite\n",
    "logging.basicConfig(filename='sample.log', level=logging.INFO)\n",
    "\n",
    "logging.debug('This is a debug message')\n",
    "logging.info('This is info message')\n",
    "logging.error('This is an Error!')\n",
    "\n",
    "# There are five levels of logging (in\n",
    "# ascending order): DEBUG, INFO, WARNING, ERROR and CRITICAL."
   ]
  },
  {
   "cell_type": "markdown",
   "metadata": {},
   "source": [
    "%%%%%%%%%%%%%%%%%%%%%%%%%%%%%%%%%%%%%%%%%%%%%%%%%%%%%%%%%%%%%%%%%%%\n",
    "\n",
    "# Chapter 16 - os module\n",
    "\n",
    "\n",
    "%%%%%%%%%%%%%%%%%%%%%%%%%%%%%%%%%%%%%%%%%%%%%%%%%%%%%%%%%%%%%%%%%%%\n",
    "\n"
   ]
  },
  {
   "cell_type": "markdown",
   "metadata": {},
   "source": [
    "### os.name\n"
   ]
  },
  {
   "cell_type": "code",
   "execution_count": null,
   "metadata": {
    "collapsed": true
   },
   "outputs": [],
   "source": [
    "# (Portable Operating System Interface for uniX)\n",
    "import os\n",
    "os.name"
   ]
  },
  {
   "cell_type": "markdown",
   "metadata": {},
   "source": [
    "# os.environ, os.getenv() and os.putenv()\n"
   ]
  },
  {
   "cell_type": "code",
   "execution_count": null,
   "metadata": {
    "collapsed": true
   },
   "outputs": [],
   "source": [
    "import os\n",
    "os.environ"
   ]
  },
  {
   "cell_type": "code",
   "execution_count": null,
   "metadata": {
    "collapsed": true
   },
   "outputs": [],
   "source": [
    "print(os.environ['LOGNAME'])"
   ]
  },
  {
   "cell_type": "code",
   "execution_count": null,
   "metadata": {
    "collapsed": true
   },
   "outputs": [],
   "source": [
    "os.getenv('LOGNAME') # preffered way to access a variable"
   ]
  },
  {
   "cell_type": "markdown",
   "metadata": {},
   "source": [
    "# os.chdir() and os.getcwd()\n"
   ]
  },
  {
   "cell_type": "code",
   "execution_count": null,
   "metadata": {
    "collapsed": true
   },
   "outputs": [],
   "source": [
    "os.getcwd()"
   ]
  },
  {
   "cell_type": "code",
   "execution_count": null,
   "metadata": {
    "collapsed": true
   },
   "outputs": [],
   "source": [
    "os.chdir(r'/home/bohdan/')"
   ]
  },
  {
   "cell_type": "code",
   "execution_count": null,
   "metadata": {
    "collapsed": true
   },
   "outputs": [],
   "source": [
    "os.getcwd()"
   ]
  },
  {
   "cell_type": "markdown",
   "metadata": {},
   "source": [
    "# os.mkdir() and os.makedirs()\n"
   ]
  },
  {
   "cell_type": "code",
   "execution_count": null,
   "metadata": {
    "collapsed": true
   },
   "outputs": [],
   "source": [
    "os.mkdir('mkdir_test') # creates a single directory"
   ]
  },
  {
   "cell_type": "code",
   "execution_count": null,
   "metadata": {
    "collapsed": true
   },
   "outputs": [],
   "source": [
    "path = r'/home/bohdan/test_folder' # or assign path to a variable\n",
    "os.mkdir(path)"
   ]
  },
  {
   "cell_type": "code",
   "execution_count": null,
   "metadata": {
    "collapsed": true
   },
   "outputs": [],
   "source": [
    "path = r'/home/bohdan/test_folder/1/2/3/4'\n",
    "os.makedirs(path) # will create all intermediate folders in a path"
   ]
  },
  {
   "cell_type": "markdown",
   "metadata": {},
   "source": [
    "# os.remove() and os.rmdir()\n"
   ]
  },
  {
   "cell_type": "code",
   "execution_count": null,
   "metadata": {
    "collapsed": true
   },
   "outputs": [],
   "source": [
    "os.remove('filename.txt') # remove file from cwd (unlink in Unix systems)"
   ]
  },
  {
   "cell_type": "code",
   "execution_count": null,
   "metadata": {
    "collapsed": true
   },
   "outputs": [],
   "source": [
    "os.rmdir('path or foldername')"
   ]
  },
  {
   "cell_type": "code",
   "execution_count": null,
   "metadata": {
    "collapsed": true
   },
   "outputs": [],
   "source": [
    " os.removedirs() # removes nested empty directories"
   ]
  },
  {
   "cell_type": "markdown",
   "metadata": {},
   "source": [
    "# os.rename(src, dst)\n"
   ]
  },
  {
   "cell_type": "code",
   "execution_count": null,
   "metadata": {
    "collapsed": true
   },
   "outputs": [],
   "source": [
    "os.rename('target folder or file', 'new name')"
   ]
  },
  {
   "cell_type": "code",
   "execution_count": null,
   "metadata": {
    "collapsed": true
   },
   "outputs": [],
   "source": [
    "os.renames() # renames recursively"
   ]
  },
  {
   "cell_type": "markdown",
   "metadata": {},
   "source": [
    "# os.startfile()\n"
   ]
  },
  {
   "cell_type": "code",
   "execution_count": null,
   "metadata": {
    "collapsed": true
   },
   "outputs": [],
   "source": [
    "# The os.startfile() method allows us to “start” \n",
    "# a file with its associated program.\n",
    "os.startfile(r'/home/bohdan/Dropbox/Jupyter Notebooks/file.pdf')"
   ]
  },
  {
   "cell_type": "markdown",
   "metadata": {},
   "source": [
    "# os.walk()"
   ]
  },
  {
   "cell_type": "code",
   "execution_count": 65,
   "metadata": {
    "scrolled": true
   },
   "outputs": [
    {
     "name": "stdout",
     "output_type": "stream",
     "text": [
      "/home/bohdan/Dropbox\n",
      "Приложения\n",
      "dota.csv\n",
      "img237.jpg\n",
      "html5 with css.html\n",
      ".dropbox\n",
      ".directory\n",
      "digital_ocean\n",
      "Books\n",
      "dota.csv\n",
      "img237.jpg\n",
      "html5 with css.html\n",
      ".dropbox\n",
      ".directory\n",
      "digital_ocean\n",
      "Mary-Art\n",
      "dota.csv\n",
      "img237.jpg\n",
      "html5 with css.html\n",
      ".dropbox\n",
      ".directory\n",
      "digital_ocean\n",
      ".dropbox.cache\n",
      "dota.csv\n",
      "img237.jpg\n",
      "html5 with css.html\n",
      ".dropbox\n",
      ".directory\n",
      "digital_ocean\n",
      "Jupyter Notebooks\n",
      "dota.csv\n",
      "img237.jpg\n",
      "html5 with css.html\n",
      ".dropbox\n",
      ".directory\n",
      "digital_ocean\n",
      "Working Dir\n",
      "dota.csv\n",
      "img237.jpg\n",
      "html5 with css.html\n",
      ".dropbox\n",
      ".directory\n",
      "digital_ocean\n",
      "c00k_b00k\n",
      "dota.csv\n",
      "img237.jpg\n",
      "html5 with css.html\n",
      ".dropbox\n",
      ".directory\n",
      "digital_ocean\n",
      "Dotfiles\n",
      "dota.csv\n",
      "img237.jpg\n",
      "html5 with css.html\n",
      ".dropbox\n",
      ".directory\n",
      "digital_ocean\n",
      "upm\n",
      "dota.csv\n",
      "img237.jpg\n",
      "html5 with css.html\n",
      ".dropbox\n",
      ".directory\n",
      "digital_ocean\n",
      "/home/bohdan/Dropbox/Приложения\n",
      "Manning Books\n",
      "/home/bohdan/Dropbox/Приложения/Manning Books\n",
      "The Well-Grounded Rubyist, Second Edition\n",
      ".dropbox\n",
      "/home/bohdan/Dropbox/Приложения/Manning Books/The Well-Grounded Rubyist, Second Edition\n",
      "/home/bohdan/Dropbox/Books\n",
      "Ruby\n",
      ".directory\n",
      "DataScience\n",
      ".directory\n",
      "JavaScript\n",
      ".directory\n",
      "HTML,CSS\n",
      ".directory\n",
      "Python\n",
      ".directory\n",
      "vim_files\n",
      ".directory\n",
      "/home/bohdan/Dropbox/Books/Ruby\n",
      "David Flanagan, Yukihiro Matsumoto - The Ruby Programming Language - 2008\n",
      "MHartl - Ruby on Rails Tutotial.pdf\n",
      "Let's Build Instagram with Ruby on Rails - Free Edition.pdf\n",
      "Carlson L., Richardson L. - Ruby Cookbook - 2nd Edition - 2015.pdf\n",
      "Ruby on Rails Upskill Course Notes..odt\n",
      ".directory\n",
      "Practical Object-Oriented Design in Ruby - FreePdfBook.pdf\n",
      "Fowler M. - Refactoring - 1999.pdf\n",
      "well_grounded\n",
      "MHartl - Ruby on Rails Tutotial.pdf\n",
      "Let's Build Instagram with Ruby on Rails - Free Edition.pdf\n",
      "Carlson L., Richardson L. - Ruby Cookbook - 2nd Edition - 2015.pdf\n",
      "Ruby on Rails Upskill Course Notes..odt\n",
      ".directory\n",
      "Practical Object-Oriented Design in Ruby - FreePdfBook.pdf\n",
      "Fowler M. - Refactoring - 1999.pdf\n",
      "/home/bohdan/Dropbox/Books/Ruby/David Flanagan, Yukihiro Matsumoto - The Ruby Programming Language - 2008\n",
      "/home/bohdan/Dropbox/Books/Ruby/well_grounded\n",
      "Chapter_2\n",
      ".gitignore\n",
      "Chapter_1\n",
      ".gitignore\n",
      ".git\n",
      ".gitignore\n",
      "/home/bohdan/Dropbox/Books/Ruby/well_grounded/Chapter_2\n",
      "/home/bohdan/Dropbox/Books/Ruby/well_grounded/Chapter_1\n",
      "/home/bohdan/Dropbox/Books/Ruby/well_grounded/.git\n",
      "info\n",
      "COMMIT_EDITMSG\n",
      "config\n",
      "description\n",
      "HEAD\n",
      "index\n",
      "hooks\n",
      "COMMIT_EDITMSG\n",
      "config\n",
      "description\n",
      "HEAD\n",
      "index\n",
      "objects\n",
      "COMMIT_EDITMSG\n",
      "config\n",
      "description\n",
      "HEAD\n",
      "index\n",
      "logs\n",
      "COMMIT_EDITMSG\n",
      "config\n",
      "description\n",
      "HEAD\n",
      "index\n",
      "refs\n",
      "COMMIT_EDITMSG\n",
      "config\n",
      "description\n",
      "HEAD\n",
      "index\n",
      "branches\n",
      "COMMIT_EDITMSG\n",
      "config\n",
      "description\n",
      "HEAD\n",
      "index\n",
      "/home/bohdan/Dropbox/Books/Ruby/well_grounded/.git/info\n",
      "/home/bohdan/Dropbox/Books/Ruby/well_grounded/.git/hooks\n",
      "/home/bohdan/Dropbox/Books/Ruby/well_grounded/.git/objects\n",
      "pack\n",
      "73\n",
      "7e\n",
      "6a\n",
      "d8\n",
      "bd\n",
      "13\n",
      "55\n",
      "info\n",
      "f9\n",
      "dd\n",
      "34\n",
      "67\n",
      "fb\n",
      "1d\n",
      "e9\n",
      "81\n",
      "b7\n",
      "74\n",
      "f4\n",
      "4e\n",
      "10\n",
      "e8\n",
      "98\n",
      "42\n",
      "5a\n",
      "c3\n",
      "68\n",
      "84\n",
      "eb\n",
      "d3\n",
      "3d\n",
      "ed\n",
      "8f\n",
      "/home/bohdan/Dropbox/Books/Ruby/well_grounded/.git/objects/pack\n",
      "/home/bohdan/Dropbox/Books/Ruby/well_grounded/.git/objects/73\n",
      "/home/bohdan/Dropbox/Books/Ruby/well_grounded/.git/objects/7e\n",
      "/home/bohdan/Dropbox/Books/Ruby/well_grounded/.git/objects/6a\n",
      "/home/bohdan/Dropbox/Books/Ruby/well_grounded/.git/objects/d8\n",
      "/home/bohdan/Dropbox/Books/Ruby/well_grounded/.git/objects/bd\n",
      "/home/bohdan/Dropbox/Books/Ruby/well_grounded/.git/objects/13\n",
      "/home/bohdan/Dropbox/Books/Ruby/well_grounded/.git/objects/55\n",
      "/home/bohdan/Dropbox/Books/Ruby/well_grounded/.git/objects/info\n",
      "/home/bohdan/Dropbox/Books/Ruby/well_grounded/.git/objects/f9\n",
      "/home/bohdan/Dropbox/Books/Ruby/well_grounded/.git/objects/dd\n",
      "/home/bohdan/Dropbox/Books/Ruby/well_grounded/.git/objects/34\n",
      "/home/bohdan/Dropbox/Books/Ruby/well_grounded/.git/objects/67\n",
      "/home/bohdan/Dropbox/Books/Ruby/well_grounded/.git/objects/fb\n",
      "/home/bohdan/Dropbox/Books/Ruby/well_grounded/.git/objects/1d\n",
      "/home/bohdan/Dropbox/Books/Ruby/well_grounded/.git/objects/e9\n",
      "/home/bohdan/Dropbox/Books/Ruby/well_grounded/.git/objects/81\n",
      "/home/bohdan/Dropbox/Books/Ruby/well_grounded/.git/objects/b7\n",
      "/home/bohdan/Dropbox/Books/Ruby/well_grounded/.git/objects/74\n",
      "/home/bohdan/Dropbox/Books/Ruby/well_grounded/.git/objects/f4\n",
      "/home/bohdan/Dropbox/Books/Ruby/well_grounded/.git/objects/4e\n",
      "/home/bohdan/Dropbox/Books/Ruby/well_grounded/.git/objects/10\n",
      "/home/bohdan/Dropbox/Books/Ruby/well_grounded/.git/objects/e8\n",
      "/home/bohdan/Dropbox/Books/Ruby/well_grounded/.git/objects/98\n",
      "/home/bohdan/Dropbox/Books/Ruby/well_grounded/.git/objects/42\n",
      "/home/bohdan/Dropbox/Books/Ruby/well_grounded/.git/objects/5a\n",
      "/home/bohdan/Dropbox/Books/Ruby/well_grounded/.git/objects/c3\n",
      "/home/bohdan/Dropbox/Books/Ruby/well_grounded/.git/objects/68\n",
      "/home/bohdan/Dropbox/Books/Ruby/well_grounded/.git/objects/84\n",
      "/home/bohdan/Dropbox/Books/Ruby/well_grounded/.git/objects/eb\n",
      "/home/bohdan/Dropbox/Books/Ruby/well_grounded/.git/objects/d3\n",
      "/home/bohdan/Dropbox/Books/Ruby/well_grounded/.git/objects/3d\n",
      "/home/bohdan/Dropbox/Books/Ruby/well_grounded/.git/objects/ed\n",
      "/home/bohdan/Dropbox/Books/Ruby/well_grounded/.git/objects/8f\n",
      "/home/bohdan/Dropbox/Books/Ruby/well_grounded/.git/logs\n",
      "refs\n",
      "HEAD\n",
      "/home/bohdan/Dropbox/Books/Ruby/well_grounded/.git/logs/refs\n",
      "heads\n",
      "remotes\n",
      "/home/bohdan/Dropbox/Books/Ruby/well_grounded/.git/logs/refs/heads\n",
      "/home/bohdan/Dropbox/Books/Ruby/well_grounded/.git/logs/refs/remotes\n",
      "origin\n",
      "/home/bohdan/Dropbox/Books/Ruby/well_grounded/.git/logs/refs/remotes/origin\n",
      "/home/bohdan/Dropbox/Books/Ruby/well_grounded/.git/refs\n",
      "heads\n",
      "remotes\n",
      "tags\n",
      "/home/bohdan/Dropbox/Books/Ruby/well_grounded/.git/refs/heads\n",
      "/home/bohdan/Dropbox/Books/Ruby/well_grounded/.git/refs/remotes\n",
      "origin\n",
      "/home/bohdan/Dropbox/Books/Ruby/well_grounded/.git/refs/remotes/origin\n",
      "/home/bohdan/Dropbox/Books/Ruby/well_grounded/.git/refs/tags\n",
      "/home/bohdan/Dropbox/Books/Ruby/well_grounded/.git/branches\n",
      "/home/bohdan/Dropbox/Books/DataScience\n",
      "Python for Probability, Statistics, and Machine Learning\n",
      "Sebastian Raschka - Python Machine Learning - 2015.pdf\n",
      "E.T. Yanes - Probability theory -2003.pdf\n",
      "Joel Grus - Data Science From Scratch - First Principles with Python - 2015.pdf\n",
      "SCHAUM Probability and Statistics Spiegel.pdf\n",
      "Linear_Algebra_and_Its_Applications_5th.pdf\n",
      "A. C. Muller and S. Guido - Introduction to Machine Learning with Python - 2017.pdf\n",
      "OpenIntro Statistics.pdf\n",
      "T. Hastie, R. Tibshirani, J. Friedman - The Elements of Statistical Learning - 2009.pdf\n",
      "Силен Д., Мейсман А. - Основы Data Science и Big Data. Python и наука о данных - 2017.PDF\n",
      "thinkstats2.bin\n",
      "VanderPlas J. - Python Data Science Handbook - 2017.pdf\n",
      "Web Scrapping with Python.bin\n",
      ".directory\n",
      "Online_Statistics_Education.pdf\n",
      "McKinney W. - Python for Data Analysis - 2012.pdf\n",
      "/home/bohdan/Dropbox/Books/DataScience/Python for Probability, Statistics, and Machine Learning\n",
      "extras_unpingco\n",
      "Unpingco J. - Python for Probability, Statistics, and Machine Learning - 2016.pdf\n",
      "/home/bohdan/Dropbox/Books/DataScience/Python for Probability, Statistics, and Machine Learning/extras_unpingco\n",
      "chapters\n",
      "/home/bohdan/Dropbox/Books/DataScience/Python for Probability, Statistics, and Machine Learning/extras_unpingco/chapters\n",
      "probability\n",
      "conda_packages.txt\n",
      "python_quick\n",
      "conda_packages.txt\n",
      "statistics\n",
      "conda_packages.txt\n",
      "machine_learning\n",
      "conda_packages.txt\n",
      "/home/bohdan/Dropbox/Books/DataScience/Python for Probability, Statistics, and Machine Learning/extras_unpingco/chapters/probability\n",
      "notebooks\n",
      "/home/bohdan/Dropbox/Books/DataScience/Python for Probability, Statistics, and Machine Learning/extras_unpingco/chapters/probability/notebooks\n",
      "fig-probability\n",
      "intro.ipynb\n",
      "Information_Entropy.ipynb\n",
      "Sampling_Monte_Carlo.ipynb\n",
      "moment_generating.ipynb\n",
      "Conditional_expectation_MSE.ipynb\n",
      "Conditional_expectation_MSE_Ex.ipynb\n",
      "projection.ipynb\n",
      "ProbabilityInequalities.ipynb\n",
      "Conditional_Expectation_Projection.ipynb\n",
      "README.md\n",
      "src-probability\n",
      "intro.ipynb\n",
      "Information_Entropy.ipynb\n",
      "Sampling_Monte_Carlo.ipynb\n",
      "moment_generating.ipynb\n",
      "Conditional_expectation_MSE.ipynb\n",
      "Conditional_expectation_MSE_Ex.ipynb\n",
      "projection.ipynb\n",
      "ProbabilityInequalities.ipynb\n",
      "Conditional_Expectation_Projection.ipynb\n",
      "README.md\n",
      "/home/bohdan/Dropbox/Books/DataScience/Python for Probability, Statistics, and Machine Learning/extras_unpingco/chapters/probability/notebooks/fig-probability\n",
      "/home/bohdan/Dropbox/Books/DataScience/Python for Probability, Statistics, and Machine Learning/extras_unpingco/chapters/probability/notebooks/src-probability\n",
      "/home/bohdan/Dropbox/Books/DataScience/Python for Probability, Statistics, and Machine Learning/extras_unpingco/chapters/python_quick\n",
      "notebooks\n",
      "/home/bohdan/Dropbox/Books/DataScience/Python for Probability, Statistics, and Machine Learning/extras_unpingco/chapters/python_quick/notebooks\n",
      "src-python_quick\n",
      "python_quick.ipynb\n",
      "README.md\n",
      "/home/bohdan/Dropbox/Books/DataScience/Python for Probability, Statistics, and Machine Learning/extras_unpingco/chapters/python_quick/notebooks/src-python_quick\n",
      "/home/bohdan/Dropbox/Books/DataScience/Python for Probability, Statistics, and Machine Learning/extras_unpingco/chapters/statistics\n",
      "notebooks\n",
      "/home/bohdan/Dropbox/Books/DataScience/Python for Probability, Statistics, and Machine Learning/extras_unpingco/chapters/statistics/notebooks\n",
      "src-statistics\n",
      "intro.ipynb\n",
      "Nonparametric.ipynb\n",
      "Hypothesis_Testing.ipynb\n",
      "Bootstrap.ipynb\n",
      "Maximum_likelihood.ipynb\n",
      "maximum_posteriori.ipynb\n",
      "python_statistics_modules.ipynb\n",
      "Regression.ipynb\n",
      "Gauss_Markov.ipynb\n",
      "Robust_Statistics.ipynb\n",
      "Confidence_Intervals.ipynb\n",
      "kernel_regression.py\n",
      "Convergence.ipynb\n",
      "README.md\n",
      "fig-statistics\n",
      "intro.ipynb\n",
      "Nonparametric.ipynb\n",
      "Hypothesis_Testing.ipynb\n",
      "Bootstrap.ipynb\n",
      "Maximum_likelihood.ipynb\n",
      "maximum_posteriori.ipynb\n",
      "python_statistics_modules.ipynb\n",
      "Regression.ipynb\n",
      "Gauss_Markov.ipynb\n",
      "Robust_Statistics.ipynb\n",
      "Confidence_Intervals.ipynb\n",
      "kernel_regression.py\n",
      "Convergence.ipynb\n",
      "README.md\n",
      "/home/bohdan/Dropbox/Books/DataScience/Python for Probability, Statistics, and Machine Learning/extras_unpingco/chapters/statistics/notebooks/src-statistics\n",
      "/home/bohdan/Dropbox/Books/DataScience/Python for Probability, Statistics, and Machine Learning/extras_unpingco/chapters/statistics/notebooks/fig-statistics\n",
      "/home/bohdan/Dropbox/Books/DataScience/Python for Probability, Statistics, and Machine Learning/extras_unpingco/chapters/machine_learning\n",
      "notebooks\n",
      "/home/bohdan/Dropbox/Books/DataScience/Python for Probability, Statistics, and Machine Learning/extras_unpingco/chapters/machine_learning/notebooks\n",
      "fig-machine_learning\n",
      "intro.ipynb\n",
      "ensemble.ipynb\n",
      "python_machine_learning_modules.ipynb\n",
      "clustering.ipynb\n",
      "pca.ipynb\n",
      "decision_trees.ipynb\n",
      "logreg.ipynb\n",
      "learning_theory.ipynb\n",
      "regularization.ipynb\n",
      "svm.ipynb\n",
      "README.md\n",
      "src-machine_learning\n",
      "intro.ipynb\n",
      "ensemble.ipynb\n",
      "python_machine_learning_modules.ipynb\n",
      "clustering.ipynb\n",
      "pca.ipynb\n",
      "decision_trees.ipynb\n",
      "logreg.ipynb\n",
      "learning_theory.ipynb\n",
      "regularization.ipynb\n",
      "svm.ipynb\n",
      "README.md\n",
      "/home/bohdan/Dropbox/Books/DataScience/Python for Probability, Statistics, and Machine Learning/extras_unpingco/chapters/machine_learning/notebooks/fig-machine_learning\n",
      "/home/bohdan/Dropbox/Books/DataScience/Python for Probability, Statistics, and Machine Learning/extras_unpingco/chapters/machine_learning/notebooks/src-machine_learning\n",
      "/home/bohdan/Dropbox/Books/JavaScript\n",
      "Brown E. - Learning JavaScript, 3rd Edition - 2016\n",
      "David Flanagan - JavaScript The Definitive Guide 6th Edition - 2011.pdf\n",
      "Zakas N. C. - Understanding ECMAScript 6 - 2016.pdf\n",
      "Marijn Haverbeke - Eloquent JavaScript, 2nd Edition - 2015\n",
      "David Flanagan - JavaScript The Definitive Guide 6th Edition - 2011.pdf\n",
      "Zakas N. C. - Understanding ECMAScript 6 - 2016.pdf\n",
      "/home/bohdan/Dropbox/Books/JavaScript/Brown E. - Learning JavaScript, 3rd Edition - 2016\n",
      "/home/bohdan/Dropbox/Books/JavaScript/Marijn Haverbeke - Eloquent JavaScript, 2nd Edition - 2015\n",
      "/home/bohdan/Dropbox/Books/HTML,CSS\n",
      "Aquino C., Gandee T. - Front-End Web Development. The Big Nerd Ranch Guide - 2016\n",
      "Jon Duckett - HTML And CSS - Design And Build Websites - 2011.pdf\n",
      "Krause J. - Introducing Bootstrap 4 - 2016.pdf\n",
      ".directory\n",
      "Felke-Morris T.A. - Web Development and Design Foundations with HTML5, 8th Edition - 2016.pdf\n",
      "Jon Duckett-JavaScript and Jquery Interactive Front-End Web Development-2014.pdf\n",
      "Mark Myers - A Smarter Way to Learn HTML & CSS. Learn it faster. Remember it longer (A Smarter Way to Learn) - 2015\n",
      "Jon Duckett - HTML And CSS - Design And Build Websites - 2011.pdf\n",
      "Krause J. - Introducing Bootstrap 4 - 2016.pdf\n",
      ".directory\n",
      "Felke-Morris T.A. - Web Development and Design Foundations with HTML5, 8th Edition - 2016.pdf\n",
      "Jon Duckett-JavaScript and Jquery Interactive Front-End Web Development-2014.pdf\n",
      "Sikora P. - Professional CSS3 - 2016\n",
      "Jon Duckett - HTML And CSS - Design And Build Websites - 2011.pdf\n",
      "Krause J. - Introducing Bootstrap 4 - 2016.pdf\n",
      ".directory\n",
      "Felke-Morris T.A. - Web Development and Design Foundations with HTML5, 8th Edition - 2016.pdf\n",
      "Jon Duckett-JavaScript and Jquery Interactive Front-End Web Development-2014.pdf\n",
      "Frain B. - Responsive Web Design with HTML5 and CSS3(2nd Edition) - 2015\n",
      "Jon Duckett - HTML And CSS - Design And Build Websites - 2011.pdf\n",
      "Krause J. - Introducing Bootstrap 4 - 2016.pdf\n",
      ".directory\n",
      "Felke-Morris T.A. - Web Development and Design Foundations with HTML5, 8th Edition - 2016.pdf\n",
      "Jon Duckett-JavaScript and Jquery Interactive Front-End Web Development-2014.pdf\n",
      "/home/bohdan/Dropbox/Books/HTML,CSS/Aquino C., Gandee T. - Front-End Web Development. The Big Nerd Ranch Guide - 2016\n",
      "/home/bohdan/Dropbox/Books/HTML,CSS/Mark Myers - A Smarter Way to Learn HTML & CSS. Learn it faster. Remember it longer (A Smarter Way to Learn) - 2015\n",
      "/home/bohdan/Dropbox/Books/HTML,CSS/Sikora P. - Professional CSS3 - 2016\n",
      "/home/bohdan/Dropbox/Books/HTML,CSS/Frain B. - Responsive Web Design with HTML5 and CSS3(2nd Edition) - 2015\n",
      "Code\n",
      "Frain B. - Responsive Web Design with HTML5 and CSS3(2nd Edition) - 2015.epub\n",
      "Frain B. - Responsive Web Design with HTML5 and CSS3(2nd Edition) - 2015.mobi\n",
      "Frain B. - Responsive Web Design with HTML5 and CSS3(2nd Edition) - 2015.pdf\n",
      "/home/bohdan/Dropbox/Books/HTML,CSS/Frain B. - Responsive Web Design with HTML5 and CSS3(2nd Edition) - 2015/Code\n",
      "Chapter 10\n",
      "Software and hardware list.docx\n",
      "Chapter 8\n",
      "Software and hardware list.docx\n",
      "Chapter 3\n",
      "Software and hardware list.docx\n",
      "Chapter 4\n",
      "Software and hardware list.docx\n",
      "Chapter 9\n",
      "Software and hardware list.docx\n",
      "Chapter 6\n",
      "Software and hardware list.docx\n",
      "Chapter 2\n",
      "Software and hardware list.docx\n",
      "Chapter 7\n",
      "Software and hardware list.docx\n",
      "Chapter 5\n",
      "Software and hardware list.docx\n",
      "Chapter 1\n",
      "Software and hardware list.docx\n",
      "/home/bohdan/Dropbox/Books/HTML,CSS/Frain B. - Responsive Web Design with HTML5 and CSS3(2nd Edition) - 2015/Code/Chapter 10\n",
      "example_10-02\n",
      "example_10-01\n",
      "/home/bohdan/Dropbox/Books/HTML,CSS/Frain B. - Responsive Web Design with HTML5 and CSS3(2nd Edition) - 2015/Code/Chapter 10/example_10-02\n",
      "/home/bohdan/Dropbox/Books/HTML,CSS/Frain B. - Responsive Web Design with HTML5 and CSS3(2nd Edition) - 2015/Code/Chapter 10/example_10-01\n",
      "/home/bohdan/Dropbox/Books/HTML,CSS/Frain B. - Responsive Web Design with HTML5 and CSS3(2nd Edition) - 2015/Code/Chapter 8\n",
      "example_08-07\n",
      "example_08-06\n",
      "example_08-08\n",
      "example_08-04\n",
      "example_08-03\n",
      "example_08-05\n",
      "example_08-02\n",
      "example_08-01\n",
      "/home/bohdan/Dropbox/Books/HTML,CSS/Frain B. - Responsive Web Design with HTML5 and CSS3(2nd Edition) - 2015/Code/Chapter 8/example_08-07\n",
      "/home/bohdan/Dropbox/Books/HTML,CSS/Frain B. - Responsive Web Design with HTML5 and CSS3(2nd Edition) - 2015/Code/Chapter 8/example_08-06\n",
      "/home/bohdan/Dropbox/Books/HTML,CSS/Frain B. - Responsive Web Design with HTML5 and CSS3(2nd Edition) - 2015/Code/Chapter 8/example_08-08\n",
      "/home/bohdan/Dropbox/Books/HTML,CSS/Frain B. - Responsive Web Design with HTML5 and CSS3(2nd Edition) - 2015/Code/Chapter 8/example_08-04\n",
      "/home/bohdan/Dropbox/Books/HTML,CSS/Frain B. - Responsive Web Design with HTML5 and CSS3(2nd Edition) - 2015/Code/Chapter 8/example_08-03\n",
      "/home/bohdan/Dropbox/Books/HTML,CSS/Frain B. - Responsive Web Design with HTML5 and CSS3(2nd Edition) - 2015/Code/Chapter 8/example_08-05\n",
      "/home/bohdan/Dropbox/Books/HTML,CSS/Frain B. - Responsive Web Design with HTML5 and CSS3(2nd Edition) - 2015/Code/Chapter 8/example_08-02\n",
      "/home/bohdan/Dropbox/Books/HTML,CSS/Frain B. - Responsive Web Design with HTML5 and CSS3(2nd Edition) - 2015/Code/Chapter 8/example_08-01\n",
      "/home/bohdan/Dropbox/Books/HTML,CSS/Frain B. - Responsive Web Design with HTML5 and CSS3(2nd Edition) - 2015/Code/Chapter 3\n",
      "example_03-07\n",
      "example_03-05\n",
      "example_03-01\n",
      "example_03-04\n",
      "example_03-09\n",
      "img\n",
      "example_03-02\n",
      "example_03-08\n",
      "example_03-06\n",
      "example_03-03\n",
      "/home/bohdan/Dropbox/Books/HTML,CSS/Frain B. - Responsive Web Design with HTML5 and CSS3(2nd Edition) - 2015/Code/Chapter 3/example_03-07\n",
      "/home/bohdan/Dropbox/Books/HTML,CSS/Frain B. - Responsive Web Design with HTML5 and CSS3(2nd Edition) - 2015/Code/Chapter 3/example_03-05\n",
      "/home/bohdan/Dropbox/Books/HTML,CSS/Frain B. - Responsive Web Design with HTML5 and CSS3(2nd Edition) - 2015/Code/Chapter 3/example_03-01\n",
      "/home/bohdan/Dropbox/Books/HTML,CSS/Frain B. - Responsive Web Design with HTML5 and CSS3(2nd Edition) - 2015/Code/Chapter 3/example_03-04\n",
      "/home/bohdan/Dropbox/Books/HTML,CSS/Frain B. - Responsive Web Design with HTML5 and CSS3(2nd Edition) - 2015/Code/Chapter 3/example_03-09\n",
      "/home/bohdan/Dropbox/Books/HTML,CSS/Frain B. - Responsive Web Design with HTML5 and CSS3(2nd Edition) - 2015/Code/Chapter 3/img\n",
      "/home/bohdan/Dropbox/Books/HTML,CSS/Frain B. - Responsive Web Design with HTML5 and CSS3(2nd Edition) - 2015/Code/Chapter 3/example_03-02\n",
      "/home/bohdan/Dropbox/Books/HTML,CSS/Frain B. - Responsive Web Design with HTML5 and CSS3(2nd Edition) - 2015/Code/Chapter 3/example_03-08\n",
      "/home/bohdan/Dropbox/Books/HTML,CSS/Frain B. - Responsive Web Design with HTML5 and CSS3(2nd Edition) - 2015/Code/Chapter 3/example_03-06\n",
      "/home/bohdan/Dropbox/Books/HTML,CSS/Frain B. - Responsive Web Design with HTML5 and CSS3(2nd Edition) - 2015/Code/Chapter 3/example_03-03\n",
      "/home/bohdan/Dropbox/Books/HTML,CSS/Frain B. - Responsive Web Design with HTML5 and CSS3(2nd Edition) - 2015/Code/Chapter 4\n",
      "/home/bohdan/Dropbox/Books/HTML,CSS/Frain B. - Responsive Web Design with HTML5 and CSS3(2nd Edition) - 2015/Code/Chapter 9\n",
      "example_09-01\n",
      "example_09-02\n",
      "/home/bohdan/Dropbox/Books/HTML,CSS/Frain B. - Responsive Web Design with HTML5 and CSS3(2nd Edition) - 2015/Code/Chapter 9/example_09-01\n",
      "/home/bohdan/Dropbox/Books/HTML,CSS/Frain B. - Responsive Web Design with HTML5 and CSS3(2nd Edition) - 2015/Code/Chapter 9/example_09-02\n",
      "js-webshim\n",
      "index.html\n",
      "styles.css\n",
      "styles-unprefixed.css\n",
      "js\n",
      "index.html\n",
      "styles.css\n",
      "styles-unprefixed.css\n",
      "/home/bohdan/Dropbox/Books/HTML,CSS/Frain B. - Responsive Web Design with HTML5 and CSS3(2nd Edition) - 2015/Code/Chapter 9/example_09-02/js-webshim\n",
      "minified\n",
      "dev\n",
      "/home/bohdan/Dropbox/Books/HTML,CSS/Frain B. - Responsive Web Design with HTML5 and CSS3(2nd Edition) - 2015/Code/Chapter 9/example_09-02/js-webshim/minified\n",
      "shims\n",
      "polyfiller.js\n",
      "/home/bohdan/Dropbox/Books/HTML,CSS/Frain B. - Responsive Web Design with HTML5 and CSS3(2nd Edition) - 2015/Code/Chapter 9/example_09-02/js-webshim/minified/shims\n",
      "styles\n",
      "form-core.js\n",
      "form-datalist-lazy.js\n",
      "mediaelement-yt.js\n",
      "form-inputmode.js\n",
      "form-message.js\n",
      "form-validators.js\n",
      "es6.js\n",
      "geolocation.js\n",
      "url.js\n",
      "mediacapture-picker.js\n",
      "excanvas.js\n",
      "es5.js\n",
      "mediaelement-core.js\n",
      "mediaelement-jaris.js\n",
      "color-picker.js\n",
      "track-ui.js\n",
      "mediaelement-debug.js\n",
      "usermedia-shim.js\n",
      "picture.js\n",
      "details.js\n",
      "forms-picker.js\n",
      "form-validation.js\n",
      "mediaelement-native-fix.js\n",
      "dom-extend.js\n",
      "form-number-date-api.js\n",
      "sticky.js\n",
      "form-shim-extend2.js\n",
      "range-ui.js\n",
      "form-native-extend.js\n",
      "filereader-xhr.js\n",
      "track.js\n",
      "form-number-date-ui.js\n",
      "mediacapture.js\n",
      "sizzle.js\n",
      "usermedia-core.js\n",
      "matchMedia.js\n",
      "swfmini-embed.js\n",
      "form-datalist.js\n",
      "form-shim-extend.js\n",
      "form-combat.js\n",
      "canvas-blob.js\n",
      "swfmini.js\n",
      "form-fixrangechange.js\n",
      "combos\n",
      "form-core.js\n",
      "form-datalist-lazy.js\n",
      "mediaelement-yt.js\n",
      "form-inputmode.js\n",
      "form-message.js\n",
      "form-validators.js\n",
      "es6.js\n",
      "geolocation.js\n",
      "url.js\n",
      "mediacapture-picker.js\n",
      "excanvas.js\n",
      "es5.js\n",
      "mediaelement-core.js\n",
      "mediaelement-jaris.js\n",
      "color-picker.js\n",
      "track-ui.js\n",
      "mediaelement-debug.js\n",
      "usermedia-shim.js\n",
      "picture.js\n",
      "details.js\n",
      "forms-picker.js\n",
      "form-validation.js\n",
      "mediaelement-native-fix.js\n",
      "dom-extend.js\n",
      "form-number-date-api.js\n",
      "sticky.js\n",
      "form-shim-extend2.js\n",
      "range-ui.js\n",
      "form-native-extend.js\n",
      "filereader-xhr.js\n",
      "track.js\n",
      "form-number-date-ui.js\n",
      "mediacapture.js\n",
      "sizzle.js\n",
      "usermedia-core.js\n",
      "matchMedia.js\n",
      "swfmini-embed.js\n",
      "form-datalist.js\n",
      "form-shim-extend.js\n",
      "form-combat.js\n",
      "canvas-blob.js\n",
      "swfmini.js\n",
      "form-fixrangechange.js\n",
      "FlashCanvas\n",
      "form-core.js\n",
      "form-datalist-lazy.js\n",
      "mediaelement-yt.js\n",
      "form-inputmode.js\n",
      "form-message.js\n",
      "form-validators.js\n",
      "es6.js\n",
      "geolocation.js\n",
      "url.js\n",
      "mediacapture-picker.js\n",
      "excanvas.js\n",
      "es5.js\n",
      "mediaelement-core.js\n",
      "mediaelement-jaris.js\n",
      "color-picker.js\n",
      "track-ui.js\n",
      "mediaelement-debug.js\n",
      "usermedia-shim.js\n",
      "picture.js\n",
      "details.js\n",
      "forms-picker.js\n",
      "form-validation.js\n",
      "mediaelement-native-fix.js\n",
      "dom-extend.js\n",
      "form-number-date-api.js\n",
      "sticky.js\n",
      "form-shim-extend2.js\n",
      "range-ui.js\n",
      "form-native-extend.js\n",
      "filereader-xhr.js\n",
      "track.js\n",
      "form-number-date-ui.js\n",
      "mediacapture.js\n",
      "sizzle.js\n",
      "usermedia-core.js\n",
      "matchMedia.js\n",
      "swfmini-embed.js\n",
      "form-datalist.js\n",
      "form-shim-extend.js\n",
      "form-combat.js\n",
      "canvas-blob.js\n",
      "swfmini.js\n",
      "form-fixrangechange.js\n",
      "jme\n",
      "form-core.js\n",
      "form-datalist-lazy.js\n",
      "mediaelement-yt.js\n",
      "form-inputmode.js\n",
      "form-message.js\n",
      "form-validators.js\n",
      "es6.js\n",
      "geolocation.js\n",
      "url.js\n",
      "mediacapture-picker.js\n",
      "excanvas.js\n",
      "es5.js\n",
      "mediaelement-core.js\n",
      "mediaelement-jaris.js\n",
      "color-picker.js\n",
      "track-ui.js\n",
      "mediaelement-debug.js\n",
      "usermedia-shim.js\n",
      "picture.js\n",
      "details.js\n",
      "forms-picker.js\n",
      "form-validation.js\n",
      "mediaelement-native-fix.js\n",
      "dom-extend.js\n",
      "form-number-date-api.js\n",
      "sticky.js\n",
      "form-shim-extend2.js\n",
      "range-ui.js\n",
      "form-native-extend.js\n",
      "filereader-xhr.js\n",
      "track.js\n",
      "form-number-date-ui.js\n",
      "mediacapture.js\n",
      "sizzle.js\n",
      "usermedia-core.js\n",
      "matchMedia.js\n",
      "swfmini-embed.js\n",
      "form-datalist.js\n",
      "form-shim-extend.js\n",
      "form-combat.js\n",
      "canvas-blob.js\n",
      "swfmini.js\n",
      "form-fixrangechange.js\n",
      "i18n\n",
      "form-core.js\n",
      "form-datalist-lazy.js\n",
      "mediaelement-yt.js\n",
      "form-inputmode.js\n",
      "form-message.js\n",
      "form-validators.js\n",
      "es6.js\n",
      "geolocation.js\n",
      "url.js\n",
      "mediacapture-picker.js\n",
      "excanvas.js\n",
      "es5.js\n",
      "mediaelement-core.js\n",
      "mediaelement-jaris.js\n",
      "color-picker.js\n",
      "track-ui.js\n",
      "mediaelement-debug.js\n",
      "usermedia-shim.js\n",
      "picture.js\n",
      "details.js\n",
      "forms-picker.js\n",
      "form-validation.js\n",
      "mediaelement-native-fix.js\n",
      "dom-extend.js\n",
      "form-number-date-api.js\n",
      "sticky.js\n",
      "form-shim-extend2.js\n",
      "range-ui.js\n",
      "form-native-extend.js\n",
      "filereader-xhr.js\n",
      "track.js\n",
      "form-number-date-ui.js\n",
      "mediacapture.js\n",
      "sizzle.js\n",
      "usermedia-core.js\n",
      "matchMedia.js\n",
      "swfmini-embed.js\n",
      "form-datalist.js\n",
      "form-shim-extend.js\n",
      "form-combat.js\n",
      "canvas-blob.js\n",
      "swfmini.js\n",
      "form-fixrangechange.js\n",
      "FlashCanvasPro\n",
      "form-core.js\n",
      "form-datalist-lazy.js\n",
      "mediaelement-yt.js\n",
      "form-inputmode.js\n",
      "form-message.js\n",
      "form-validators.js\n",
      "es6.js\n",
      "geolocation.js\n",
      "url.js\n",
      "mediacapture-picker.js\n",
      "excanvas.js\n",
      "es5.js\n",
      "mediaelement-core.js\n",
      "mediaelement-jaris.js\n",
      "color-picker.js\n",
      "track-ui.js\n",
      "mediaelement-debug.js\n",
      "usermedia-shim.js\n",
      "picture.js\n",
      "details.js\n",
      "forms-picker.js\n",
      "form-validation.js\n",
      "mediaelement-native-fix.js\n",
      "dom-extend.js\n",
      "form-number-date-api.js\n",
      "sticky.js\n",
      "form-shim-extend2.js\n",
      "range-ui.js\n",
      "form-native-extend.js\n",
      "filereader-xhr.js\n",
      "track.js\n",
      "form-number-date-ui.js\n",
      "mediacapture.js\n",
      "sizzle.js\n",
      "usermedia-core.js\n",
      "matchMedia.js\n",
      "swfmini-embed.js\n",
      "form-datalist.js\n",
      "form-shim-extend.js\n",
      "form-combat.js\n",
      "canvas-blob.js\n",
      "swfmini.js\n",
      "form-fixrangechange.js\n",
      "moxie\n",
      "form-core.js\n",
      "form-datalist-lazy.js\n",
      "mediaelement-yt.js\n",
      "form-inputmode.js\n",
      "form-message.js\n",
      "form-validators.js\n",
      "es6.js\n",
      "geolocation.js\n",
      "url.js\n",
      "mediacapture-picker.js\n",
      "excanvas.js\n",
      "es5.js\n",
      "mediaelement-core.js\n",
      "mediaelement-jaris.js\n",
      "color-picker.js\n",
      "track-ui.js\n",
      "mediaelement-debug.js\n",
      "usermedia-shim.js\n",
      "picture.js\n",
      "details.js\n",
      "forms-picker.js\n",
      "form-validation.js\n",
      "mediaelement-native-fix.js\n",
      "dom-extend.js\n",
      "form-number-date-api.js\n",
      "sticky.js\n",
      "form-shim-extend2.js\n",
      "range-ui.js\n",
      "form-native-extend.js\n",
      "filereader-xhr.js\n",
      "track.js\n",
      "form-number-date-ui.js\n",
      "mediacapture.js\n",
      "sizzle.js\n",
      "usermedia-core.js\n",
      "matchMedia.js\n",
      "swfmini-embed.js\n",
      "form-datalist.js\n",
      "form-shim-extend.js\n",
      "form-combat.js\n",
      "canvas-blob.js\n",
      "swfmini.js\n",
      "form-fixrangechange.js\n",
      "jpicker\n",
      "form-core.js\n",
      "form-datalist-lazy.js\n",
      "mediaelement-yt.js\n",
      "form-inputmode.js\n",
      "form-message.js\n",
      "form-validators.js\n",
      "es6.js\n",
      "geolocation.js\n",
      "url.js\n",
      "mediacapture-picker.js\n",
      "excanvas.js\n",
      "es5.js\n",
      "mediaelement-core.js\n",
      "mediaelement-jaris.js\n",
      "color-picker.js\n",
      "track-ui.js\n",
      "mediaelement-debug.js\n",
      "usermedia-shim.js\n",
      "picture.js\n",
      "details.js\n",
      "forms-picker.js\n",
      "form-validation.js\n",
      "mediaelement-native-fix.js\n",
      "dom-extend.js\n",
      "form-number-date-api.js\n",
      "sticky.js\n",
      "form-shim-extend2.js\n",
      "range-ui.js\n",
      "form-native-extend.js\n",
      "filereader-xhr.js\n",
      "track.js\n",
      "form-number-date-ui.js\n",
      "mediacapture.js\n",
      "sizzle.js\n",
      "usermedia-core.js\n",
      "matchMedia.js\n",
      "swfmini-embed.js\n",
      "form-datalist.js\n",
      "form-shim-extend.js\n",
      "form-combat.js\n",
      "canvas-blob.js\n",
      "swfmini.js\n",
      "form-fixrangechange.js\n",
      "swf\n",
      "form-core.js\n",
      "form-datalist-lazy.js\n",
      "mediaelement-yt.js\n",
      "form-inputmode.js\n",
      "form-message.js\n",
      "form-validators.js\n",
      "es6.js\n",
      "geolocation.js\n",
      "url.js\n",
      "mediacapture-picker.js\n",
      "excanvas.js\n",
      "es5.js\n",
      "mediaelement-core.js\n",
      "mediaelement-jaris.js\n",
      "color-picker.js\n",
      "track-ui.js\n",
      "mediaelement-debug.js\n",
      "usermedia-shim.js\n",
      "picture.js\n",
      "details.js\n",
      "forms-picker.js\n",
      "form-validation.js\n",
      "mediaelement-native-fix.js\n",
      "dom-extend.js\n",
      "form-number-date-api.js\n",
      "sticky.js\n",
      "form-shim-extend2.js\n",
      "range-ui.js\n",
      "form-native-extend.js\n",
      "filereader-xhr.js\n",
      "track.js\n",
      "form-number-date-ui.js\n",
      "mediacapture.js\n",
      "sizzle.js\n",
      "usermedia-core.js\n",
      "matchMedia.js\n",
      "swfmini-embed.js\n",
      "form-datalist.js\n",
      "form-shim-extend.js\n",
      "form-combat.js\n",
      "canvas-blob.js\n",
      "swfmini.js\n",
      "form-fixrangechange.js\n",
      "plugins\n",
      "form-core.js\n",
      "form-datalist-lazy.js\n",
      "mediaelement-yt.js\n",
      "form-inputmode.js\n",
      "form-message.js\n",
      "form-validators.js\n",
      "es6.js\n",
      "geolocation.js\n",
      "url.js\n",
      "mediacapture-picker.js\n",
      "excanvas.js\n",
      "es5.js\n",
      "mediaelement-core.js\n",
      "mediaelement-jaris.js\n",
      "color-picker.js\n",
      "track-ui.js\n",
      "mediaelement-debug.js\n",
      "usermedia-shim.js\n",
      "picture.js\n",
      "details.js\n",
      "forms-picker.js\n",
      "form-validation.js\n",
      "mediaelement-native-fix.js\n",
      "dom-extend.js\n",
      "form-number-date-api.js\n",
      "sticky.js\n",
      "form-shim-extend2.js\n",
      "range-ui.js\n",
      "form-native-extend.js\n",
      "filereader-xhr.js\n",
      "track.js\n",
      "form-number-date-ui.js\n",
      "mediacapture.js\n",
      "sizzle.js\n",
      "usermedia-core.js\n",
      "matchMedia.js\n",
      "swfmini-embed.js\n",
      "form-datalist.js\n",
      "form-shim-extend.js\n",
      "form-combat.js\n",
      "canvas-blob.js\n",
      "swfmini.js\n",
      "form-fixrangechange.js\n",
      "/home/bohdan/Dropbox/Books/HTML,CSS/Frain B. - Responsive Web Design with HTML5 and CSS3(2nd Edition) - 2015/Code/Chapter 9/example_09-02/js-webshim/minified/shims/styles\n",
      "/home/bohdan/Dropbox/Books/HTML,CSS/Frain B. - Responsive Web Design with HTML5 and CSS3(2nd Edition) - 2015/Code/Chapter 9/example_09-02/js-webshim/minified/shims/combos\n",
      "/home/bohdan/Dropbox/Books/HTML,CSS/Frain B. - Responsive Web Design with HTML5 and CSS3(2nd Edition) - 2015/Code/Chapter 9/example_09-02/js-webshim/minified/shims/FlashCanvas\n",
      "/home/bohdan/Dropbox/Books/HTML,CSS/Frain B. - Responsive Web Design with HTML5 and CSS3(2nd Edition) - 2015/Code/Chapter 9/example_09-02/js-webshim/minified/shims/jme\n",
      "/home/bohdan/Dropbox/Books/HTML,CSS/Frain B. - Responsive Web Design with HTML5 and CSS3(2nd Edition) - 2015/Code/Chapter 9/example_09-02/js-webshim/minified/shims/i18n\n",
      "/home/bohdan/Dropbox/Books/HTML,CSS/Frain B. - Responsive Web Design with HTML5 and CSS3(2nd Edition) - 2015/Code/Chapter 9/example_09-02/js-webshim/minified/shims/FlashCanvasPro\n",
      "/home/bohdan/Dropbox/Books/HTML,CSS/Frain B. - Responsive Web Design with HTML5 and CSS3(2nd Edition) - 2015/Code/Chapter 9/example_09-02/js-webshim/minified/shims/moxie\n",
      "flash\n",
      "js\n",
      "/home/bohdan/Dropbox/Books/HTML,CSS/Frain B. - Responsive Web Design with HTML5 and CSS3(2nd Edition) - 2015/Code/Chapter 9/example_09-02/js-webshim/minified/shims/moxie/flash\n",
      "/home/bohdan/Dropbox/Books/HTML,CSS/Frain B. - Responsive Web Design with HTML5 and CSS3(2nd Edition) - 2015/Code/Chapter 9/example_09-02/js-webshim/minified/shims/moxie/js\n",
      "/home/bohdan/Dropbox/Books/HTML,CSS/Frain B. - Responsive Web Design with HTML5 and CSS3(2nd Edition) - 2015/Code/Chapter 9/example_09-02/js-webshim/minified/shims/jpicker\n",
      "images\n",
      "jpicker.css\n",
      "/home/bohdan/Dropbox/Books/HTML,CSS/Frain B. - Responsive Web Design with HTML5 and CSS3(2nd Edition) - 2015/Code/Chapter 9/example_09-02/js-webshim/minified/shims/jpicker/images\n",
      "/home/bohdan/Dropbox/Books/HTML,CSS/Frain B. - Responsive Web Design with HTML5 and CSS3(2nd Edition) - 2015/Code/Chapter 9/example_09-02/js-webshim/minified/shims/swf\n",
      "/home/bohdan/Dropbox/Books/HTML,CSS/Frain B. - Responsive Web Design with HTML5 and CSS3(2nd Edition) - 2015/Code/Chapter 9/example_09-02/js-webshim/minified/shims/plugins\n",
      "/home/bohdan/Dropbox/Books/HTML,CSS/Frain B. - Responsive Web Design with HTML5 and CSS3(2nd Edition) - 2015/Code/Chapter 9/example_09-02/js-webshim/dev\n",
      "shims\n",
      "polyfiller.js\n",
      "/home/bohdan/Dropbox/Books/HTML,CSS/Frain B. - Responsive Web Design with HTML5 and CSS3(2nd Edition) - 2015/Code/Chapter 9/example_09-02/js-webshim/dev/shims\n",
      "styles\n",
      "form-core.js\n",
      "form-datalist-lazy.js\n",
      "mediaelement-yt.js\n",
      "form-inputmode.js\n",
      "form-message.js\n",
      "form-validators.js\n",
      "es6.js\n",
      "geolocation.js\n",
      "url.js\n",
      "mediacapture-picker.js\n",
      "excanvas.js\n",
      "es5.js\n",
      "mediaelement-core.js\n",
      "mediaelement-jaris.js\n",
      "color-picker.js\n",
      "track-ui.js\n",
      "mediaelement-debug.js\n",
      "usermedia-shim.js\n",
      "picture.js\n",
      "details.js\n",
      "forms-picker.js\n",
      "form-validation.js\n",
      "mediaelement-native-fix.js\n",
      "dom-extend.js\n",
      "form-number-date-api.js\n",
      "sticky.js\n",
      "form-shim-extend2.js\n",
      "range-ui.js\n",
      "form-native-extend.js\n",
      "filereader-xhr.js\n",
      "track.js\n",
      "form-number-date-ui.js\n",
      "mediacapture.js\n",
      "sizzle.js\n",
      "usermedia-core.js\n",
      "matchMedia.js\n",
      "swfmini-embed.js\n",
      "form-datalist.js\n",
      "form-shim-extend.js\n",
      "form-combat.js\n",
      "canvas-blob.js\n",
      "swfmini.js\n",
      "form-fixrangechange.js\n",
      "combos\n",
      "form-core.js\n",
      "form-datalist-lazy.js\n",
      "mediaelement-yt.js\n",
      "form-inputmode.js\n",
      "form-message.js\n",
      "form-validators.js\n",
      "es6.js\n",
      "geolocation.js\n",
      "url.js\n",
      "mediacapture-picker.js\n",
      "excanvas.js\n",
      "es5.js\n",
      "mediaelement-core.js\n",
      "mediaelement-jaris.js\n",
      "color-picker.js\n",
      "track-ui.js\n",
      "mediaelement-debug.js\n",
      "usermedia-shim.js\n",
      "picture.js\n",
      "details.js\n",
      "forms-picker.js\n",
      "form-validation.js\n",
      "mediaelement-native-fix.js\n",
      "dom-extend.js\n",
      "form-number-date-api.js\n",
      "sticky.js\n",
      "form-shim-extend2.js\n",
      "range-ui.js\n",
      "form-native-extend.js\n",
      "filereader-xhr.js\n",
      "track.js\n",
      "form-number-date-ui.js\n",
      "mediacapture.js\n",
      "sizzle.js\n",
      "usermedia-core.js\n",
      "matchMedia.js\n",
      "swfmini-embed.js\n",
      "form-datalist.js\n",
      "form-shim-extend.js\n",
      "form-combat.js\n",
      "canvas-blob.js\n",
      "swfmini.js\n",
      "form-fixrangechange.js\n",
      "FlashCanvas\n",
      "form-core.js\n",
      "form-datalist-lazy.js\n",
      "mediaelement-yt.js\n",
      "form-inputmode.js\n",
      "form-message.js\n",
      "form-validators.js\n",
      "es6.js\n",
      "geolocation.js\n",
      "url.js\n",
      "mediacapture-picker.js\n",
      "excanvas.js\n",
      "es5.js\n",
      "mediaelement-core.js\n",
      "mediaelement-jaris.js\n",
      "color-picker.js\n",
      "track-ui.js\n",
      "mediaelement-debug.js\n",
      "usermedia-shim.js\n",
      "picture.js\n",
      "details.js\n",
      "forms-picker.js\n",
      "form-validation.js\n",
      "mediaelement-native-fix.js\n",
      "dom-extend.js\n",
      "form-number-date-api.js\n",
      "sticky.js\n",
      "form-shim-extend2.js\n",
      "range-ui.js\n",
      "form-native-extend.js\n",
      "filereader-xhr.js\n",
      "track.js\n",
      "form-number-date-ui.js\n",
      "mediacapture.js\n",
      "sizzle.js\n",
      "usermedia-core.js\n",
      "matchMedia.js\n",
      "swfmini-embed.js\n",
      "form-datalist.js\n",
      "form-shim-extend.js\n",
      "form-combat.js\n",
      "canvas-blob.js\n",
      "swfmini.js\n",
      "form-fixrangechange.js\n",
      "jme\n",
      "form-core.js\n",
      "form-datalist-lazy.js\n",
      "mediaelement-yt.js\n",
      "form-inputmode.js\n",
      "form-message.js\n",
      "form-validators.js\n",
      "es6.js\n",
      "geolocation.js\n",
      "url.js\n",
      "mediacapture-picker.js\n",
      "excanvas.js\n",
      "es5.js\n",
      "mediaelement-core.js\n",
      "mediaelement-jaris.js\n",
      "color-picker.js\n",
      "track-ui.js\n",
      "mediaelement-debug.js\n",
      "usermedia-shim.js\n",
      "picture.js\n",
      "details.js\n",
      "forms-picker.js\n",
      "form-validation.js\n",
      "mediaelement-native-fix.js\n",
      "dom-extend.js\n",
      "form-number-date-api.js\n",
      "sticky.js\n",
      "form-shim-extend2.js\n",
      "range-ui.js\n",
      "form-native-extend.js\n",
      "filereader-xhr.js\n",
      "track.js\n",
      "form-number-date-ui.js\n",
      "mediacapture.js\n",
      "sizzle.js\n",
      "usermedia-core.js\n",
      "matchMedia.js\n",
      "swfmini-embed.js\n",
      "form-datalist.js\n",
      "form-shim-extend.js\n",
      "form-combat.js\n",
      "canvas-blob.js\n",
      "swfmini.js\n",
      "form-fixrangechange.js\n",
      "i18n\n",
      "form-core.js\n",
      "form-datalist-lazy.js\n",
      "mediaelement-yt.js\n",
      "form-inputmode.js\n",
      "form-message.js\n",
      "form-validators.js\n",
      "es6.js\n",
      "geolocation.js\n",
      "url.js\n",
      "mediacapture-picker.js\n",
      "excanvas.js\n",
      "es5.js\n",
      "mediaelement-core.js\n",
      "mediaelement-jaris.js\n",
      "color-picker.js\n",
      "track-ui.js\n",
      "mediaelement-debug.js\n",
      "usermedia-shim.js\n",
      "picture.js\n",
      "details.js\n",
      "forms-picker.js\n",
      "form-validation.js\n",
      "mediaelement-native-fix.js\n",
      "dom-extend.js\n",
      "form-number-date-api.js\n",
      "sticky.js\n",
      "form-shim-extend2.js\n",
      "range-ui.js\n",
      "form-native-extend.js\n",
      "filereader-xhr.js\n",
      "track.js\n",
      "form-number-date-ui.js\n",
      "mediacapture.js\n",
      "sizzle.js\n",
      "usermedia-core.js\n",
      "matchMedia.js\n",
      "swfmini-embed.js\n",
      "form-datalist.js\n",
      "form-shim-extend.js\n",
      "form-combat.js\n",
      "canvas-blob.js\n",
      "swfmini.js\n",
      "form-fixrangechange.js\n",
      "FlashCanvasPro\n",
      "form-core.js\n",
      "form-datalist-lazy.js\n",
      "mediaelement-yt.js\n",
      "form-inputmode.js\n",
      "form-message.js\n",
      "form-validators.js\n",
      "es6.js\n",
      "geolocation.js\n",
      "url.js\n",
      "mediacapture-picker.js\n",
      "excanvas.js\n",
      "es5.js\n",
      "mediaelement-core.js\n",
      "mediaelement-jaris.js\n",
      "color-picker.js\n",
      "track-ui.js\n",
      "mediaelement-debug.js\n",
      "usermedia-shim.js\n",
      "picture.js\n",
      "details.js\n",
      "forms-picker.js\n",
      "form-validation.js\n",
      "mediaelement-native-fix.js\n",
      "dom-extend.js\n",
      "form-number-date-api.js\n",
      "sticky.js\n",
      "form-shim-extend2.js\n",
      "range-ui.js\n",
      "form-native-extend.js\n",
      "filereader-xhr.js\n",
      "track.js\n",
      "form-number-date-ui.js\n",
      "mediacapture.js\n",
      "sizzle.js\n",
      "usermedia-core.js\n",
      "matchMedia.js\n",
      "swfmini-embed.js\n",
      "form-datalist.js\n",
      "form-shim-extend.js\n",
      "form-combat.js\n",
      "canvas-blob.js\n",
      "swfmini.js\n",
      "form-fixrangechange.js\n",
      "moxie\n",
      "form-core.js\n",
      "form-datalist-lazy.js\n",
      "mediaelement-yt.js\n",
      "form-inputmode.js\n",
      "form-message.js\n",
      "form-validators.js\n",
      "es6.js\n",
      "geolocation.js\n",
      "url.js\n",
      "mediacapture-picker.js\n",
      "excanvas.js\n",
      "es5.js\n",
      "mediaelement-core.js\n",
      "mediaelement-jaris.js\n",
      "color-picker.js\n",
      "track-ui.js\n",
      "mediaelement-debug.js\n",
      "usermedia-shim.js\n",
      "picture.js\n",
      "details.js\n",
      "forms-picker.js\n",
      "form-validation.js\n",
      "mediaelement-native-fix.js\n",
      "dom-extend.js\n",
      "form-number-date-api.js\n",
      "sticky.js\n",
      "form-shim-extend2.js\n",
      "range-ui.js\n",
      "form-native-extend.js\n",
      "filereader-xhr.js\n",
      "track.js\n",
      "form-number-date-ui.js\n",
      "mediacapture.js\n",
      "sizzle.js\n",
      "usermedia-core.js\n",
      "matchMedia.js\n",
      "swfmini-embed.js\n",
      "form-datalist.js\n",
      "form-shim-extend.js\n",
      "form-combat.js\n",
      "canvas-blob.js\n",
      "swfmini.js\n",
      "form-fixrangechange.js\n",
      "jpicker\n",
      "form-core.js\n",
      "form-datalist-lazy.js\n",
      "mediaelement-yt.js\n",
      "form-inputmode.js\n",
      "form-message.js\n",
      "form-validators.js\n",
      "es6.js\n",
      "geolocation.js\n",
      "url.js\n",
      "mediacapture-picker.js\n",
      "excanvas.js\n",
      "es5.js\n",
      "mediaelement-core.js\n",
      "mediaelement-jaris.js\n",
      "color-picker.js\n",
      "track-ui.js\n",
      "mediaelement-debug.js\n",
      "usermedia-shim.js\n",
      "picture.js\n",
      "details.js\n",
      "forms-picker.js\n",
      "form-validation.js\n",
      "mediaelement-native-fix.js\n",
      "dom-extend.js\n",
      "form-number-date-api.js\n",
      "sticky.js\n",
      "form-shim-extend2.js\n",
      "range-ui.js\n",
      "form-native-extend.js\n",
      "filereader-xhr.js\n",
      "track.js\n",
      "form-number-date-ui.js\n",
      "mediacapture.js\n",
      "sizzle.js\n",
      "usermedia-core.js\n",
      "matchMedia.js\n",
      "swfmini-embed.js\n",
      "form-datalist.js\n",
      "form-shim-extend.js\n",
      "form-combat.js\n",
      "canvas-blob.js\n",
      "swfmini.js\n",
      "form-fixrangechange.js\n",
      "swf\n",
      "form-core.js\n",
      "form-datalist-lazy.js\n",
      "mediaelement-yt.js\n",
      "form-inputmode.js\n",
      "form-message.js\n",
      "form-validators.js\n",
      "es6.js\n",
      "geolocation.js\n",
      "url.js\n",
      "mediacapture-picker.js\n",
      "excanvas.js\n",
      "es5.js\n",
      "mediaelement-core.js\n",
      "mediaelement-jaris.js\n",
      "color-picker.js\n",
      "track-ui.js\n",
      "mediaelement-debug.js\n",
      "usermedia-shim.js\n",
      "picture.js\n",
      "details.js\n",
      "forms-picker.js\n",
      "form-validation.js\n",
      "mediaelement-native-fix.js\n",
      "dom-extend.js\n",
      "form-number-date-api.js\n",
      "sticky.js\n",
      "form-shim-extend2.js\n",
      "range-ui.js\n",
      "form-native-extend.js\n",
      "filereader-xhr.js\n",
      "track.js\n",
      "form-number-date-ui.js\n",
      "mediacapture.js\n",
      "sizzle.js\n",
      "usermedia-core.js\n",
      "matchMedia.js\n",
      "swfmini-embed.js\n",
      "form-datalist.js\n",
      "form-shim-extend.js\n",
      "form-combat.js\n",
      "canvas-blob.js\n",
      "swfmini.js\n",
      "form-fixrangechange.js\n",
      "plugins\n",
      "form-core.js\n",
      "form-datalist-lazy.js\n",
      "mediaelement-yt.js\n",
      "form-inputmode.js\n",
      "form-message.js\n",
      "form-validators.js\n",
      "es6.js\n",
      "geolocation.js\n",
      "url.js\n",
      "mediacapture-picker.js\n",
      "excanvas.js\n",
      "es5.js\n",
      "mediaelement-core.js\n",
      "mediaelement-jaris.js\n",
      "color-picker.js\n",
      "track-ui.js\n",
      "mediaelement-debug.js\n",
      "usermedia-shim.js\n",
      "picture.js\n",
      "details.js\n",
      "forms-picker.js\n",
      "form-validation.js\n",
      "mediaelement-native-fix.js\n",
      "dom-extend.js\n",
      "form-number-date-api.js\n",
      "sticky.js\n",
      "form-shim-extend2.js\n",
      "range-ui.js\n",
      "form-native-extend.js\n",
      "filereader-xhr.js\n",
      "track.js\n",
      "form-number-date-ui.js\n",
      "mediacapture.js\n",
      "sizzle.js\n",
      "usermedia-core.js\n",
      "matchMedia.js\n",
      "swfmini-embed.js\n",
      "form-datalist.js\n",
      "form-shim-extend.js\n",
      "form-combat.js\n",
      "canvas-blob.js\n",
      "swfmini.js\n",
      "form-fixrangechange.js\n",
      "/home/bohdan/Dropbox/Books/HTML,CSS/Frain B. - Responsive Web Design with HTML5 and CSS3(2nd Edition) - 2015/Code/Chapter 9/example_09-02/js-webshim/dev/shims/styles\n",
      "scss\n",
      "progress.gif\n",
      "forms-picker.css\n",
      "widget.ttf\n",
      "transparent.png\n",
      "widget.woff\n",
      "widget.svg\n",
      "shim.css\n",
      "widget-font.zip\n",
      "progress.png\n",
      "widget.eot\n",
      "color-picker.png\n",
      "shim-ext.css\n",
      "forms-ext.css\n",
      "/home/bohdan/Dropbox/Books/HTML,CSS/Frain B. - Responsive Web Design with HTML5 and CSS3(2nd Edition) - 2015/Code/Chapter 9/example_09-02/js-webshim/dev/shims/styles/scss\n",
      "/home/bohdan/Dropbox/Books/HTML,CSS/Frain B. - Responsive Web Design with HTML5 and CSS3(2nd Edition) - 2015/Code/Chapter 9/example_09-02/js-webshim/dev/shims/combos\n",
      "/home/bohdan/Dropbox/Books/HTML,CSS/Frain B. - Responsive Web Design with HTML5 and CSS3(2nd Edition) - 2015/Code/Chapter 9/example_09-02/js-webshim/dev/shims/FlashCanvas\n",
      "/home/bohdan/Dropbox/Books/HTML,CSS/Frain B. - Responsive Web Design with HTML5 and CSS3(2nd Edition) - 2015/Code/Chapter 9/example_09-02/js-webshim/dev/shims/jme\n",
      "/home/bohdan/Dropbox/Books/HTML,CSS/Frain B. - Responsive Web Design with HTML5 and CSS3(2nd Edition) - 2015/Code/Chapter 9/example_09-02/js-webshim/dev/shims/i18n\n",
      "/home/bohdan/Dropbox/Books/HTML,CSS/Frain B. - Responsive Web Design with HTML5 and CSS3(2nd Edition) - 2015/Code/Chapter 9/example_09-02/js-webshim/dev/shims/FlashCanvasPro\n",
      "/home/bohdan/Dropbox/Books/HTML,CSS/Frain B. - Responsive Web Design with HTML5 and CSS3(2nd Edition) - 2015/Code/Chapter 9/example_09-02/js-webshim/dev/shims/moxie\n",
      "flash\n",
      "js\n",
      "/home/bohdan/Dropbox/Books/HTML,CSS/Frain B. - Responsive Web Design with HTML5 and CSS3(2nd Edition) - 2015/Code/Chapter 9/example_09-02/js-webshim/dev/shims/moxie/flash\n",
      "/home/bohdan/Dropbox/Books/HTML,CSS/Frain B. - Responsive Web Design with HTML5 and CSS3(2nd Edition) - 2015/Code/Chapter 9/example_09-02/js-webshim/dev/shims/moxie/js\n",
      "/home/bohdan/Dropbox/Books/HTML,CSS/Frain B. - Responsive Web Design with HTML5 and CSS3(2nd Edition) - 2015/Code/Chapter 9/example_09-02/js-webshim/dev/shims/jpicker\n",
      "images\n",
      "jpicker.css\n",
      "ChangeLog.txt\n",
      "ReadMe.txt\n",
      "/home/bohdan/Dropbox/Books/HTML,CSS/Frain B. - Responsive Web Design with HTML5 and CSS3(2nd Edition) - 2015/Code/Chapter 9/example_09-02/js-webshim/dev/shims/jpicker/images\n",
      "/home/bohdan/Dropbox/Books/HTML,CSS/Frain B. - Responsive Web Design with HTML5 and CSS3(2nd Edition) - 2015/Code/Chapter 9/example_09-02/js-webshim/dev/shims/swf\n",
      "/home/bohdan/Dropbox/Books/HTML,CSS/Frain B. - Responsive Web Design with HTML5 and CSS3(2nd Edition) - 2015/Code/Chapter 9/example_09-02/js-webshim/dev/shims/plugins\n",
      "/home/bohdan/Dropbox/Books/HTML,CSS/Frain B. - Responsive Web Design with HTML5 and CSS3(2nd Edition) - 2015/Code/Chapter 9/example_09-02/js\n",
      "/home/bohdan/Dropbox/Books/HTML,CSS/Frain B. - Responsive Web Design with HTML5 and CSS3(2nd Edition) - 2015/Code/Chapter 6\n",
      "example_06-04\n",
      "example_06-05\n",
      "example_06-03\n",
      "example_06-01\n",
      "example_06-07\n",
      "example_06-08\n",
      "example_06-02\n",
      "example_06-06\n",
      "/home/bohdan/Dropbox/Books/HTML,CSS/Frain B. - Responsive Web Design with HTML5 and CSS3(2nd Edition) - 2015/Code/Chapter 6/example_06-04\n",
      "/home/bohdan/Dropbox/Books/HTML,CSS/Frain B. - Responsive Web Design with HTML5 and CSS3(2nd Edition) - 2015/Code/Chapter 6/example_06-05\n",
      "/home/bohdan/Dropbox/Books/HTML,CSS/Frain B. - Responsive Web Design with HTML5 and CSS3(2nd Edition) - 2015/Code/Chapter 6/example_06-03\n",
      "/home/bohdan/Dropbox/Books/HTML,CSS/Frain B. - Responsive Web Design with HTML5 and CSS3(2nd Edition) - 2015/Code/Chapter 6/example_06-01\n",
      "/home/bohdan/Dropbox/Books/HTML,CSS/Frain B. - Responsive Web Design with HTML5 and CSS3(2nd Edition) - 2015/Code/Chapter 6/example_06-07\n",
      "/home/bohdan/Dropbox/Books/HTML,CSS/Frain B. - Responsive Web Design with HTML5 and CSS3(2nd Edition) - 2015/Code/Chapter 6/example_06-08\n",
      "/home/bohdan/Dropbox/Books/HTML,CSS/Frain B. - Responsive Web Design with HTML5 and CSS3(2nd Edition) - 2015/Code/Chapter 6/example_06-02\n",
      "/home/bohdan/Dropbox/Books/HTML,CSS/Frain B. - Responsive Web Design with HTML5 and CSS3(2nd Edition) - 2015/Code/Chapter 6/example_06-06\n",
      "/home/bohdan/Dropbox/Books/HTML,CSS/Frain B. - Responsive Web Design with HTML5 and CSS3(2nd Edition) - 2015/Code/Chapter 2\n",
      "example_02-03\n",
      "example_02-01\n",
      "example_02-02\n",
      "/home/bohdan/Dropbox/Books/HTML,CSS/Frain B. - Responsive Web Design with HTML5 and CSS3(2nd Edition) - 2015/Code/Chapter 2/example_02-03\n",
      "/home/bohdan/Dropbox/Books/HTML,CSS/Frain B. - Responsive Web Design with HTML5 and CSS3(2nd Edition) - 2015/Code/Chapter 2/example_02-01\n",
      "/home/bohdan/Dropbox/Books/HTML,CSS/Frain B. - Responsive Web Design with HTML5 and CSS3(2nd Edition) - 2015/Code/Chapter 2/example_02-02\n",
      "/home/bohdan/Dropbox/Books/HTML,CSS/Frain B. - Responsive Web Design with HTML5 and CSS3(2nd Edition) - 2015/Code/Chapter 7\n",
      "example_07-05\n",
      "example_07-02\n",
      "example_07-09\n",
      "example_07-03\n",
      "example_07-10\n",
      "example_07-08\n",
      "example_07-06\n",
      "example_07-01\n",
      "example_07-07\n",
      "example_07-04\n",
      "/home/bohdan/Dropbox/Books/HTML,CSS/Frain B. - Responsive Web Design with HTML5 and CSS3(2nd Edition) - 2015/Code/Chapter 7/example_07-05\n",
      "/home/bohdan/Dropbox/Books/HTML,CSS/Frain B. - Responsive Web Design with HTML5 and CSS3(2nd Edition) - 2015/Code/Chapter 7/example_07-02\n",
      "IcoMoon - 5 Icons\n",
      "/home/bohdan/Dropbox/Books/HTML,CSS/Frain B. - Responsive Web Design with HTML5 and CSS3(2nd Edition) - 2015/Code/Chapter 7/example_07-02/IcoMoon - 5 Icons\n",
      "demo-files\n",
      "svgdefs.svg\n",
      "Read Me.txt\n",
      "demo.html\n",
      "style.css\n",
      "PNG\n",
      "svgdefs.svg\n",
      "Read Me.txt\n",
      "demo.html\n",
      "style.css\n",
      "SVG\n",
      "svgdefs.svg\n",
      "Read Me.txt\n",
      "demo.html\n",
      "style.css\n"
     ]
    },
    {
     "name": "stdout",
     "output_type": "stream",
     "text": [
      "/home/bohdan/Dropbox/Books/HTML,CSS/Frain B. - Responsive Web Design with HTML5 and CSS3(2nd Edition) - 2015/Code/Chapter 7/example_07-02/IcoMoon - 5 Icons/demo-files\n",
      "/home/bohdan/Dropbox/Books/HTML,CSS/Frain B. - Responsive Web Design with HTML5 and CSS3(2nd Edition) - 2015/Code/Chapter 7/example_07-02/IcoMoon - 5 Icons/PNG\n",
      "/home/bohdan/Dropbox/Books/HTML,CSS/Frain B. - Responsive Web Design with HTML5 and CSS3(2nd Edition) - 2015/Code/Chapter 7/example_07-02/IcoMoon - 5 Icons/SVG\n",
      "/home/bohdan/Dropbox/Books/HTML,CSS/Frain B. - Responsive Web Design with HTML5 and CSS3(2nd Edition) - 2015/Code/Chapter 7/example_07-09\n",
      "/home/bohdan/Dropbox/Books/HTML,CSS/Frain B. - Responsive Web Design with HTML5 and CSS3(2nd Edition) - 2015/Code/Chapter 7/example_07-03\n",
      "/home/bohdan/Dropbox/Books/HTML,CSS/Frain B. - Responsive Web Design with HTML5 and CSS3(2nd Edition) - 2015/Code/Chapter 7/example_07-10\n",
      "/home/bohdan/Dropbox/Books/HTML,CSS/Frain B. - Responsive Web Design with HTML5 and CSS3(2nd Edition) - 2015/Code/Chapter 7/example_07-08\n",
      "greensock\n",
      "index.html\n",
      "styles.css\n",
      "main.js\n",
      "/home/bohdan/Dropbox/Books/HTML,CSS/Frain B. - Responsive Web Design with HTML5 and CSS3(2nd Edition) - 2015/Code/Chapter 7/example_07-08/greensock\n",
      "/home/bohdan/Dropbox/Books/HTML,CSS/Frain B. - Responsive Web Design with HTML5 and CSS3(2nd Edition) - 2015/Code/Chapter 7/example_07-06\n",
      "/home/bohdan/Dropbox/Books/HTML,CSS/Frain B. - Responsive Web Design with HTML5 and CSS3(2nd Edition) - 2015/Code/Chapter 7/example_07-01\n",
      "/home/bohdan/Dropbox/Books/HTML,CSS/Frain B. - Responsive Web Design with HTML5 and CSS3(2nd Edition) - 2015/Code/Chapter 7/example_07-07\n",
      "/home/bohdan/Dropbox/Books/HTML,CSS/Frain B. - Responsive Web Design with HTML5 and CSS3(2nd Edition) - 2015/Code/Chapter 7/example_07-04\n",
      "/home/bohdan/Dropbox/Books/HTML,CSS/Frain B. - Responsive Web Design with HTML5 and CSS3(2nd Edition) - 2015/Code/Chapter 5\n",
      "example_05-09\n",
      "example_05-02\n",
      "example_05-08\n",
      "example_05-01\n",
      "example_05-03\n",
      "example_05-07\n",
      "example_05-05\n",
      "example_05-06\n",
      "example_05-04\n",
      "example_05-10\n",
      "/home/bohdan/Dropbox/Books/HTML,CSS/Frain B. - Responsive Web Design with HTML5 and CSS3(2nd Edition) - 2015/Code/Chapter 5/example_05-09\n",
      "/home/bohdan/Dropbox/Books/HTML,CSS/Frain B. - Responsive Web Design with HTML5 and CSS3(2nd Edition) - 2015/Code/Chapter 5/example_05-02\n",
      "/home/bohdan/Dropbox/Books/HTML,CSS/Frain B. - Responsive Web Design with HTML5 and CSS3(2nd Edition) - 2015/Code/Chapter 5/example_05-08\n",
      "/home/bohdan/Dropbox/Books/HTML,CSS/Frain B. - Responsive Web Design with HTML5 and CSS3(2nd Edition) - 2015/Code/Chapter 5/example_05-01\n",
      "/home/bohdan/Dropbox/Books/HTML,CSS/Frain B. - Responsive Web Design with HTML5 and CSS3(2nd Edition) - 2015/Code/Chapter 5/example_05-03\n",
      "/home/bohdan/Dropbox/Books/HTML,CSS/Frain B. - Responsive Web Design with HTML5 and CSS3(2nd Edition) - 2015/Code/Chapter 5/example_05-07\n",
      "/home/bohdan/Dropbox/Books/HTML,CSS/Frain B. - Responsive Web Design with HTML5 and CSS3(2nd Edition) - 2015/Code/Chapter 5/example_05-05\n",
      "/home/bohdan/Dropbox/Books/HTML,CSS/Frain B. - Responsive Web Design with HTML5 and CSS3(2nd Edition) - 2015/Code/Chapter 5/example_05-06\n",
      "/home/bohdan/Dropbox/Books/HTML,CSS/Frain B. - Responsive Web Design with HTML5 and CSS3(2nd Edition) - 2015/Code/Chapter 5/example_05-04\n",
      "/home/bohdan/Dropbox/Books/HTML,CSS/Frain B. - Responsive Web Design with HTML5 and CSS3(2nd Edition) - 2015/Code/Chapter 5/example_05-10\n",
      "fonts\n",
      "f10.jpg\n",
      "f9.jpg\n",
      "f3.jpg\n",
      "index.html\n",
      "f2.jpg\n",
      "f8.jpg\n",
      "styles.css\n",
      "f1.jpg\n",
      "f7.jpg\n",
      "f5.jpg\n",
      "f4.jpg\n",
      "f6.jpg\n",
      "/home/bohdan/Dropbox/Books/HTML,CSS/Frain B. - Responsive Web Design with HTML5 and CSS3(2nd Edition) - 2015/Code/Chapter 5/example_05-10/fonts\n",
      "/home/bohdan/Dropbox/Books/HTML,CSS/Frain B. - Responsive Web Design with HTML5 and CSS3(2nd Edition) - 2015/Code/Chapter 1\n",
      "css\n",
      "index.html\n",
      "img\n",
      "index.html\n",
      "/home/bohdan/Dropbox/Books/HTML,CSS/Frain B. - Responsive Web Design with HTML5 and CSS3(2nd Edition) - 2015/Code/Chapter 1/css\n",
      "/home/bohdan/Dropbox/Books/HTML,CSS/Frain B. - Responsive Web Design with HTML5 and CSS3(2nd Edition) - 2015/Code/Chapter 1/img\n",
      "/home/bohdan/Dropbox/Books/Python\n",
      "Dusty Phillips - Python 3 Object-oriented Programming (Second Edition) - 2015\n",
      "Eric Matthes - Python Crash Course. A Hands-On, Project-Based Introduction to Programming - 2015.pdf\n",
      "Test-Driven Development with Python_ Obey the Testing Goat_ Using Django, Selenium, and JavaScript [Percival 2014-06-29].pdf\n",
      "Paul Gries and Others - Practical Programming - An Introduction to Computer Science Using The Python 3 - 2nd Edition - 2013.pdf\n",
      "python_101.pdf\n",
      "Dauzon S., Bendoraitis A., Ravindran A. - Django Web Development with Python - 2016.PDF\n",
      ".directory\n",
      "Percival H. - Test-Driven Development with Python, 2nd Edition - 2017.pdf\n",
      "David Mertz - Functional Programming in Python - 2015.pdf\n",
      "python_notes\n",
      "Driscoll - Python 201 - 2016.pdf\n",
      "Wesley J. Chun - Core Python Applications Programming, 3rd Edition - 2012.pdf\n",
      "Pinkham A. - Django Unleashed - 2016.EPUB\n",
      "Python in 90 minutes slides.bin\n",
      "Luciano Ramalho - Fluent Python - 2015\n",
      "Eric Matthes - Python Crash Course. A Hands-On, Project-Based Introduction to Programming - 2015.pdf\n",
      "Test-Driven Development with Python_ Obey the Testing Goat_ Using Django, Selenium, and JavaScript [Percival 2014-06-29].pdf\n",
      "Paul Gries and Others - Practical Programming - An Introduction to Computer Science Using The Python 3 - 2nd Edition - 2013.pdf\n",
      "python_101.pdf\n",
      "Dauzon S., Bendoraitis A., Ravindran A. - Django Web Development with Python - 2016.PDF\n",
      ".directory\n",
      "Percival H. - Test-Driven Development with Python, 2nd Edition - 2017.pdf\n",
      "David Mertz - Functional Programming in Python - 2015.pdf\n",
      "python_notes\n",
      "Driscoll - Python 201 - 2016.pdf\n",
      "Wesley J. Chun - Core Python Applications Programming, 3rd Edition - 2012.pdf\n",
      "Pinkham A. - Django Unleashed - 2016.EPUB\n",
      "Python in 90 minutes slides.bin\n",
      "Martelli A., Ravenscroft A., Holden S. - Python in a Nutshell. A Desktop Quick Reference - 2017\n",
      "Eric Matthes - Python Crash Course. A Hands-On, Project-Based Introduction to Programming - 2015.pdf\n",
      "Test-Driven Development with Python_ Obey the Testing Goat_ Using Django, Selenium, and JavaScript [Percival 2014-06-29].pdf\n",
      "Paul Gries and Others - Practical Programming - An Introduction to Computer Science Using The Python 3 - 2nd Edition - 2013.pdf\n",
      "python_101.pdf\n",
      "Dauzon S., Bendoraitis A., Ravindran A. - Django Web Development with Python - 2016.PDF\n",
      ".directory\n",
      "Percival H. - Test-Driven Development with Python, 2nd Edition - 2017.pdf\n",
      "David Mertz - Functional Programming in Python - 2015.pdf\n",
      "python_notes\n",
      "Driscoll - Python 201 - 2016.pdf\n",
      "Wesley J. Chun - Core Python Applications Programming, 3rd Edition - 2012.pdf\n",
      "Pinkham A. - Django Unleashed - 2016.EPUB\n",
      "Python in 90 minutes slides.bin\n",
      "Python to read\n",
      "Eric Matthes - Python Crash Course. A Hands-On, Project-Based Introduction to Programming - 2015.pdf\n",
      "Test-Driven Development with Python_ Obey the Testing Goat_ Using Django, Selenium, and JavaScript [Percival 2014-06-29].pdf\n",
      "Paul Gries and Others - Practical Programming - An Introduction to Computer Science Using The Python 3 - 2nd Edition - 2013.pdf\n",
      "python_101.pdf\n",
      "Dauzon S., Bendoraitis A., Ravindran A. - Django Web Development with Python - 2016.PDF\n",
      ".directory\n",
      "Percival H. - Test-Driven Development with Python, 2nd Edition - 2017.pdf\n",
      "David Mertz - Functional Programming in Python - 2015.pdf\n",
      "python_notes\n",
      "Driscoll - Python 201 - 2016.pdf\n",
      "Wesley J. Chun - Core Python Applications Programming, 3rd Edition - 2012.pdf\n",
      "Pinkham A. - Django Unleashed - 2016.EPUB\n",
      "Python in 90 minutes slides.bin\n",
      "David Beazley - Python Cookbook, 3rd edition - 2013\n",
      "Eric Matthes - Python Crash Course. A Hands-On, Project-Based Introduction to Programming - 2015.pdf\n",
      "Test-Driven Development with Python_ Obey the Testing Goat_ Using Django, Selenium, and JavaScript [Percival 2014-06-29].pdf\n",
      "Paul Gries and Others - Practical Programming - An Introduction to Computer Science Using The Python 3 - 2nd Edition - 2013.pdf\n",
      "python_101.pdf\n",
      "Dauzon S., Bendoraitis A., Ravindran A. - Django Web Development with Python - 2016.PDF\n",
      ".directory\n",
      "Percival H. - Test-Driven Development with Python, 2nd Edition - 2017.pdf\n",
      "David Mertz - Functional Programming in Python - 2015.pdf\n",
      "python_notes\n",
      "Driscoll - Python 201 - 2016.pdf\n",
      "Wesley J. Chun - Core Python Applications Programming, 3rd Edition - 2012.pdf\n",
      "Pinkham A. - Django Unleashed - 2016.EPUB\n",
      "Python in 90 minutes slides.bin\n",
      "Mark Lutz - Programming Python, 4th Edition - 2014\n",
      "Eric Matthes - Python Crash Course. A Hands-On, Project-Based Introduction to Programming - 2015.pdf\n",
      "Test-Driven Development with Python_ Obey the Testing Goat_ Using Django, Selenium, and JavaScript [Percival 2014-06-29].pdf\n",
      "Paul Gries and Others - Practical Programming - An Introduction to Computer Science Using The Python 3 - 2nd Edition - 2013.pdf\n",
      "python_101.pdf\n",
      "Dauzon S., Bendoraitis A., Ravindran A. - Django Web Development with Python - 2016.PDF\n",
      ".directory\n",
      "Percival H. - Test-Driven Development with Python, 2nd Edition - 2017.pdf\n",
      "David Mertz - Functional Programming in Python - 2015.pdf\n",
      "python_notes\n",
      "Driscoll - Python 201 - 2016.pdf\n",
      "Wesley J. Chun - Core Python Applications Programming, 3rd Edition - 2012.pdf\n",
      "Pinkham A. - Django Unleashed - 2016.EPUB\n",
      "Python in 90 minutes slides.bin\n",
      "Automate the boring stuff\n",
      "Eric Matthes - Python Crash Course. A Hands-On, Project-Based Introduction to Programming - 2015.pdf\n",
      "Test-Driven Development with Python_ Obey the Testing Goat_ Using Django, Selenium, and JavaScript [Percival 2014-06-29].pdf\n",
      "Paul Gries and Others - Practical Programming - An Introduction to Computer Science Using The Python 3 - 2nd Edition - 2013.pdf\n",
      "python_101.pdf\n",
      "Dauzon S., Bendoraitis A., Ravindran A. - Django Web Development with Python - 2016.PDF\n",
      ".directory\n",
      "Percival H. - Test-Driven Development with Python, 2nd Edition - 2017.pdf\n",
      "David Mertz - Functional Programming in Python - 2015.pdf\n",
      "python_notes\n",
      "Driscoll - Python 201 - 2016.pdf\n",
      "Wesley J. Chun - Core Python Applications Programming, 3rd Edition - 2012.pdf\n",
      "Pinkham A. - Django Unleashed - 2016.EPUB\n",
      "Python in 90 minutes slides.bin\n",
      "MY_CERTIFICATES\n",
      "Eric Matthes - Python Crash Course. A Hands-On, Project-Based Introduction to Programming - 2015.pdf\n",
      "Test-Driven Development with Python_ Obey the Testing Goat_ Using Django, Selenium, and JavaScript [Percival 2014-06-29].pdf\n",
      "Paul Gries and Others - Practical Programming - An Introduction to Computer Science Using The Python 3 - 2nd Edition - 2013.pdf\n",
      "python_101.pdf\n",
      "Dauzon S., Bendoraitis A., Ravindran A. - Django Web Development with Python - 2016.PDF\n",
      ".directory\n",
      "Percival H. - Test-Driven Development with Python, 2nd Edition - 2017.pdf\n",
      "David Mertz - Functional Programming in Python - 2015.pdf\n",
      "python_notes\n",
      "Driscoll - Python 201 - 2016.pdf\n",
      "Wesley J. Chun - Core Python Applications Programming, 3rd Edition - 2012.pdf\n",
      "Pinkham A. - Django Unleashed - 2016.EPUB\n",
      "Python in 90 minutes slides.bin\n",
      "Flask\n",
      "Eric Matthes - Python Crash Course. A Hands-On, Project-Based Introduction to Programming - 2015.pdf\n",
      "Test-Driven Development with Python_ Obey the Testing Goat_ Using Django, Selenium, and JavaScript [Percival 2014-06-29].pdf\n",
      "Paul Gries and Others - Practical Programming - An Introduction to Computer Science Using The Python 3 - 2nd Edition - 2013.pdf\n",
      "python_101.pdf\n",
      "Dauzon S., Bendoraitis A., Ravindran A. - Django Web Development with Python - 2016.PDF\n",
      ".directory\n",
      "Percival H. - Test-Driven Development with Python, 2nd Edition - 2017.pdf\n",
      "David Mertz - Functional Programming in Python - 2015.pdf\n",
      "python_notes\n",
      "Driscoll - Python 201 - 2016.pdf\n",
      "Wesley J. Chun - Core Python Applications Programming, 3rd Edition - 2012.pdf\n",
      "Pinkham A. - Django Unleashed - 2016.EPUB\n",
      "Python in 90 minutes slides.bin\n",
      "/home/bohdan/Dropbox/Books/Python/Dusty Phillips - Python 3 Object-oriented Programming (Second Edition) - 2015\n",
      "Code\n",
      "Dusty Phillips - Python 3 Object-oriented Programming (Second Edition) - 2015.epub\n",
      "Dusty Phillips - Python 3 Object-oriented Programming (Second Edition) - 2015.pdf\n",
      "/home/bohdan/Dropbox/Books/Python/Dusty Phillips - Python 3 Object-oriented Programming (Second Edition) - 2015/Code\n",
      "Chapter8\n",
      "ReadMe.txt\n",
      "Chapter9\n",
      "ReadMe.txt\n",
      "Chapter4\n",
      "ReadMe.txt\n",
      "Chapter7\n",
      "ReadMe.txt\n",
      "Chapter12\n",
      "ReadMe.txt\n",
      "Chapter11\n",
      "ReadMe.txt\n",
      "Chapter5\n",
      "ReadMe.txt\n",
      "Chapter13\n",
      "ReadMe.txt\n",
      "Chapter6\n",
      "ReadMe.txt\n",
      "Chapter3\n",
      "ReadMe.txt\n",
      "Chapter10\n",
      "ReadMe.txt\n",
      "/home/bohdan/Dropbox/Books/Python/Dusty Phillips - Python 3 Object-oriented Programming (Second Edition) - 2015/Code/Chapter8\n",
      "case_study_input\n",
      "8_02_format_empty.py\n",
      "8_23.2_regex_generic.py\n",
      "8_15_encode_bytes.py\n",
      "8_29_template_processer_complete.py\n",
      "8_16_decode_unicode.py\n",
      "8_13_tabular.py\n",
      "8_10_object_formatting.py\n",
      "8_04_format_some_positions_broken.py\n",
      "8_14_format_datetime.py\n",
      "8_24_basic_pickling.py\n",
      "8_08_tuple_dict_format.py\n",
      "8_01_string_creation.py\n",
      "8_23_stringio.py\n",
      "8_12_currency_format.py\n",
      "8_23.3_match_group.py\n",
      "8_09_tuple_in_dict_format.py\n",
      "8_17_bytearray_replace.py\n",
      "8_26_json_objects.py\n",
      "8_18_bytearray_index.py\n",
      "8_11_no_format.py\n",
      "8_25_state_pickling.py\n",
      "8_23.1_basic_regex.py\n",
      "8_03_format_position.py\n",
      "8_27_template_boilerplate.py\n",
      "8_06_format_kw_args.py\n",
      "8_05_brace_escape.py\n",
      "8_28_template_process.py\n",
      "8_07_unlabelled_kw.py\n",
      "/home/bohdan/Dropbox/Books/Python/Dusty Phillips - Python 3 Object-oriented Programming (Second Edition) - 2015/Code/Chapter8/case_study_input\n",
      "/home/bohdan/Dropbox/Books/Python/Dusty Phillips - Python 3 Object-oriented Programming (Second Edition) - 2015/Code/Chapter9\n",
      "kivy_color_checker\n",
      "9_22_load_dataset.py\n",
      "output.csv\n",
      "9_06_for_loop_converter.py\n",
      "9_08_list_comp_exclude.py\n",
      "9_23_generate_colors.py\n",
      "9_07_list_comp_converter.py\n",
      "9_10_set_comprehension.py\n",
      "9_12_log_file.log\n",
      "9_14_log_delete_warning_expression.py\n",
      "9_01_iterator.py\n",
      "9_17_log_delete_warnings_generator.py\n",
      "9_11_dict_comprehension.py\n",
      "9_13_log_processor.py\n",
      "EXAMPLE_LOG.log\n",
      "9_21_kernel_log.py\n",
      "colors.csv\n",
      "case_study_machine_learn.py\n",
      "9_26_write_results.py\n",
      "9_20_basic_count_coroutine.py\n",
      "9_18_log_delete_warnings_yield_from.py\n",
      "9_15_log_delete_warnings_loop.py\n",
      "9_09_tdf_list_comp.py\n",
      "9_19_yield_from_filesystem.py\n",
      "example.log\n",
      "9_25_knearest.py\n",
      "9_16_log_delete_warnings_object.py\n",
      "9_24_color_distance.py\n",
      "kivy_color_classifier\n",
      "9_22_load_dataset.py\n",
      "output.csv\n",
      "9_06_for_loop_converter.py\n",
      "9_08_list_comp_exclude.py\n",
      "9_23_generate_colors.py\n",
      "9_07_list_comp_converter.py\n",
      "9_10_set_comprehension.py\n",
      "9_12_log_file.log\n",
      "9_14_log_delete_warning_expression.py\n",
      "9_01_iterator.py\n",
      "9_17_log_delete_warnings_generator.py\n",
      "9_11_dict_comprehension.py\n",
      "9_13_log_processor.py\n",
      "EXAMPLE_LOG.log\n",
      "9_21_kernel_log.py\n",
      "colors.csv\n",
      "case_study_machine_learn.py\n",
      "9_26_write_results.py\n",
      "9_20_basic_count_coroutine.py\n",
      "9_18_log_delete_warnings_yield_from.py\n",
      "9_15_log_delete_warnings_loop.py\n",
      "9_09_tdf_list_comp.py\n",
      "9_19_yield_from_filesystem.py\n",
      "example.log\n",
      "9_25_knearest.py\n",
      "9_16_log_delete_warnings_object.py\n",
      "9_24_color_distance.py\n",
      "/home/bohdan/Dropbox/Books/Python/Dusty Phillips - Python 3 Object-oriented Programming (Second Edition) - 2015/Code/Chapter9/kivy_color_checker\n",
      "/home/bohdan/Dropbox/Books/Python/Dusty Phillips - Python 3 Object-oriented Programming (Second Edition) - 2015/Code/Chapter9/kivy_color_classifier\n",
      "/home/bohdan/Dropbox/Books/Python/Dusty Phillips - Python 3 Object-oriented Programming (Second Edition) - 2015/Code/Chapter4\n",
      "__pycache__\n",
      "04_03_method_calls_excepting.py\n",
      "4_01_even_integers.py\n",
      "4_16_auth_user.py\n",
      "4_13_branching_vs_exceptions.py\n",
      "auth.py\n",
      "4_07_catch_multiple_different.py\n",
      "4_18_login.py\n",
      "4_04_try_except.py\n",
      "4_11_exception_with_custom_args.py\n",
      "4_14_inventory_mock_object.py\n",
      "4_02_exception_quits.py\n",
      "4_15_inventory_handling.py\n",
      "4_09_finally_and_else.py\n",
      "4_08_catch_as_keyword.py\n",
      "4_20_test_auth.py\n",
      "4_17_authenticator.py\n",
      "4_05_catch_specific_exception.py\n",
      "4_12_handle_custom_exception.py\n",
      "4_19_authorizor.py\n",
      "4_10_defining_an_exception.py\n",
      "auth.pyc\n",
      "4_06_catch_multiple_exceptions.py\n",
      "/home/bohdan/Dropbox/Books/Python/Dusty Phillips - Python 3 Object-oriented Programming (Second Edition) - 2015/Code/Chapter4/__pycache__\n",
      "/home/bohdan/Dropbox/Books/Python/Dusty Phillips - Python 3 Object-oriented Programming (Second Edition) - 2015/Code/Chapter7\n",
      "__pycache__\n",
      "7_20_link_downloader_vararg.py\n",
      "7_23_unpacking_arguments.py\n",
      "addresses.db\n",
      "7_07_with.py\n",
      "7_22_all_arguments.py\n",
      "7_33_mailing_list_get_emails.py\n",
      "7_24_function_object.py\n",
      "7_18_bad_kw_default.py\n",
      "7_05_read_file.py\n",
      "7_28_callable_repeat.py\n",
      "7_26_timer_test.py\n",
      "7_03_enumerate_max_min.py\n",
      "mailing_list.py\n",
      "7_27_add_function_to_object.py\n",
      "timer.py\n",
      "7_19_link_downloader.py\n",
      "7_30_send_email_dict_headers.py\n",
      "7_05_tdf_processor.py\n",
      "7_36_enter_exit.py\n",
      "7_03.1_zip_to_enumerate.py\n",
      "7_04_tdf_contact.txt\n",
      "7_02_enumerate_line_numbers.py\n",
      "7_06_write.py\n",
      "7_35_load_save.py\n",
      "7_34_send_mailing.py\n",
      "7_32_mailing_list_defaultdict_set.py\n",
      "7_21_kwarg_options.py\n",
      "7_08_context_manager.py\n",
      "timer.pyc\n",
      "7_01_reversible_objects.py\n",
      "7_25_timer.py\n",
      "7_29_send_email.py\n",
      "/home/bohdan/Dropbox/Books/Python/Dusty Phillips - Python 3 Object-oriented Programming (Second Edition) - 2015/Code/Chapter7/__pycache__\n",
      "/home/bohdan/Dropbox/Books/Python/Dusty Phillips - Python 3 Object-oriented Programming (Second Edition) - 2015/Code/Chapter12\n",
      "casestudy\n",
      "12_14_pytest_importorskip.pyc\n",
      "12_09_funcargs.py\n",
      "12_01_simplest_unittest.py\n",
      "dump.rdb\n",
      "12_06_simplestpytest.py\n",
      "12_13_pytest_simple_skip.pyc\n",
      "12_12_pytest_echo.pyc\n",
      "12_07_class_pytest.pyc\n",
      "12_30_coverage_unittest.py\n",
      "stats.py\n",
      "12_07_class_pytest.py\n",
      "stats.pyc\n",
      ".coverage\n",
      "12_13_pytest_simple_skip.py\n",
      "12_12_pytest_echo.py\n",
      "12_04_test_stats.py\n",
      "12_05_skipping_tests.py\n",
      "test_mock.py\n",
      "12_16_mock_flightstatus.py\n",
      "12_14_pytest_importorskip.py\n",
      "12_03_stats.py\n",
      "12_17_mock_redis.py\n",
      "12_15_pytest_skipifmark.py\n",
      "12_06_simplestpytest.pyc\n",
      "12_10_funcarg_finalizer.pyc\n",
      "12_15_pytest_skipifmark.pyc\n",
      "12_09_funcargs.pyc\n",
      "12_10_funcarg_finalizer.py\n",
      "12_08_setup_teardown.py\n",
      "12_11_echo_server.py\n",
      "12_02_assertraises_python.py\n",
      "12_08_setup_teardown.pyc\n",
      "__pycache__\n",
      "12_14_pytest_importorskip.pyc\n",
      "12_09_funcargs.py\n",
      "12_01_simplest_unittest.py\n",
      "dump.rdb\n",
      "12_06_simplestpytest.py\n",
      "12_13_pytest_simple_skip.pyc\n",
      "12_12_pytest_echo.pyc\n",
      "12_07_class_pytest.pyc\n",
      "12_30_coverage_unittest.py\n",
      "stats.py\n",
      "12_07_class_pytest.py\n",
      "stats.pyc\n",
      ".coverage\n",
      "12_13_pytest_simple_skip.py\n",
      "12_12_pytest_echo.py\n",
      "12_04_test_stats.py\n",
      "12_05_skipping_tests.py\n",
      "test_mock.py\n",
      "12_16_mock_flightstatus.py\n",
      "12_14_pytest_importorskip.py\n",
      "12_03_stats.py\n",
      "12_17_mock_redis.py\n",
      "12_15_pytest_skipifmark.py\n",
      "12_06_simplestpytest.pyc\n",
      "12_10_funcarg_finalizer.pyc\n",
      "12_15_pytest_skipifmark.pyc\n",
      "12_09_funcargs.pyc\n",
      "12_10_funcarg_finalizer.py\n",
      "12_08_setup_teardown.py\n",
      "12_11_echo_server.py\n",
      "12_02_assertraises_python.py\n",
      "12_08_setup_teardown.pyc\n",
      "/home/bohdan/Dropbox/Books/Python/Dusty Phillips - Python 3 Object-oriented Programming (Second Edition) - 2015/Code/Chapter12/casestudy\n",
      "__pycache__\n",
      "vigenere_cipher.pyc\n",
      "test_vigenere_cipher.pyc\n",
      "vigenere_cipher1.py\n",
      "vigenere_cipher.py\n",
      "test_vigenere_cipher.py\n",
      "/home/bohdan/Dropbox/Books/Python/Dusty Phillips - Python 3 Object-oriented Programming (Second Edition) - 2015/Code/Chapter12/casestudy/__pycache__\n",
      "/home/bohdan/Dropbox/Books/Python/Dusty Phillips - Python 3 Object-oriented Programming (Second Edition) - 2015/Code/Chapter12/__pycache__\n",
      "/home/bohdan/Dropbox/Books/Python/Dusty Phillips - Python 3 Object-oriented Programming (Second Edition) - 2015/Code/Chapter11\n",
      "/home/bohdan/Dropbox/Books/Python/Dusty Phillips - Python 3 Object-oriented Programming (Second Edition) - 2015/Code/Chapter5\n",
      "/home/bohdan/Dropbox/Books/Python/Dusty Phillips - Python 3 Object-oriented Programming (Second Edition) - 2015/Code/Chapter13\n",
      "case_study\n",
      "13_05_post_search.py\n",
      "13_01_two_basic_threads.py\n",
      "13_04_prime_factor.py\n",
      "13_03_parallel.py\n",
      "13_07_basic_async.py\n",
      "13_06_futures.py\n",
      "13_08_asyncio_dns.py\n",
      "13_10_async_client.py\n",
      "13_02_thread_wait.py\n",
      "13_09_async_multiprocessing.py\n",
      "/home/bohdan/Dropbox/Books/Python/Dusty Phillips - Python 3 Object-oriented Programming (Second Edition) - 2015/Code/Chapter13/case_study\n",
      "/home/bohdan/Dropbox/Books/Python/Dusty Phillips - Python 3 Object-oriented Programming (Second Edition) - 2015/Code/Chapter6\n",
      "case_study_serve\n",
      "6_09_list_tuple_frequency.py\n",
      "6_22_dict_link_collector.py\n",
      "6_07_defaultdict_frequency.py\n",
      "6_19_visited_links_sets.py\n",
      "6_06_setdefault_frequency.py\n",
      "6_21_print_collected_links.py\n",
      "6_03_named_tuple.py\n",
      "6_14_oop_pairs.py\n",
      "6_05_random_key_dict.py\n",
      "6_08_defaultdict_custom_function.py\n",
      "6_23_queue_link_collector.py\n",
      "6_02_pass_tuple_to_function.py\n",
      "6_15_stupid_adding_integer.py\n",
      "6_12_set_operations.py\n",
      "6_01_empty_object.py\n",
      "6_09_counter_poll.py\n",
      "6_20_collect_remaining_links.py\n",
      "6_11_song_artist_set.py\n",
      "6_17_link_parser.py\n",
      "6_16_dictsorted.py\n",
      "6_18_normalize_url.py\n",
      "6_04_dict_stocks.py\n",
      "6_10_object_comparison.py\n",
      "6_09_counter_frequency.py\n",
      "6_13_set_operations2.py\n",
      "link_collector.py\n",
      "/home/bohdan/Dropbox/Books/Python/Dusty Phillips - Python 3 Object-oriented Programming (Second Edition) - 2015/Code/Chapter6/case_study_serve\n",
      "/home/bohdan/Dropbox/Books/Python/Dusty Phillips - Python 3 Object-oriented Programming (Second Edition) - 2015/Code/Chapter3\n",
      "/home/bohdan/Dropbox/Books/Python/Dusty Phillips - Python 3 Object-oriented Programming (Second Edition) - 2015/Code/Chapter10\n",
      "/home/bohdan/Dropbox/Books/Python/Luciano Ramalho - Fluent Python - 2015\n",
      "/home/bohdan/Dropbox/Books/Python/Martelli A., Ravenscroft A., Holden S. - Python in a Nutshell. A Desktop Quick Reference - 2017\n",
      "/home/bohdan/Dropbox/Books/Python/Python to read\n",
      "Mark Lutz - Python Pocket Reference, 5th edition - 2014\n",
      "Mark Lutz - Learning Python, 5th Edition - 2013.pdf\n",
      "Downey A.B. - Think Python. How to Think Like a Computer Scientist, 2nd Edition - 2016.PDF\n",
      ".directory\n",
      "/home/bohdan/Dropbox/Books/Python/Python to read/Mark Lutz - Python Pocket Reference, 5th edition - 2014\n",
      "/home/bohdan/Dropbox/Books/Python/David Beazley - Python Cookbook, 3rd edition - 2013\n",
      "python-cookbook-master\n",
      "David Beazley - Python Cookbook, 3rd edition - 2013.pdf\n",
      "David Beazley - Python Cookbook, 3rd edition - 2013.mobi\n",
      "David Beazley - Python Cookbook, 3rd edition - 2013.epub\n",
      "/home/bohdan/Dropbox/Books/Python/David Beazley - Python Cookbook, 3rd edition - 2013/python-cookbook-master\n",
      "src\n",
      "README.md\n",
      "/home/bohdan/Dropbox/Books/Python/David Beazley - Python Cookbook, 3rd edition - 2013/python-cookbook-master/src\n",
      "12\n",
      "3\n",
      "15\n",
      "5\n",
      "13\n",
      "6\n",
      "11\n",
      "1\n",
      "9\n",
      "2\n",
      "7\n",
      "10\n",
      "8\n",
      "14\n",
      "4\n",
      "/home/bohdan/Dropbox/Books/Python/David Beazley - Python Cookbook, 3rd edition - 2013/python-cookbook-master/src/12\n",
      "using_generators_as_an_alternative_to_threads\n",
      "how_to_lock_critical_sections\n",
      "locking_with_deadlock_avoidance\n",
      "how_to_create_a_thread_pool\n",
      "polling_multiple_thread_queues\n",
      "implementing_publish_subscribe_messaging\n",
      "how_to_start_and_stop_threads\n",
      "simple_parallel_programming\n",
      "how_to_communicate_between_threads\n",
      "how_to_determine_if_a_thread_has_started\n",
      "storing_thread_specific_state\n",
      "launching_a_daemon_process_on_unix\n",
      "defining_an_actor_task\n",
      "/home/bohdan/Dropbox/Books/Python/David Beazley - Python Cookbook, 3rd edition - 2013/python-cookbook-master/src/12/using_generators_as_an_alternative_to_threads\n",
      "/home/bohdan/Dropbox/Books/Python/David Beazley - Python Cookbook, 3rd edition - 2013/python-cookbook-master/src/12/how_to_lock_critical_sections\n",
      "/home/bohdan/Dropbox/Books/Python/David Beazley - Python Cookbook, 3rd edition - 2013/python-cookbook-master/src/12/locking_with_deadlock_avoidance\n",
      "/home/bohdan/Dropbox/Books/Python/David Beazley - Python Cookbook, 3rd edition - 2013/python-cookbook-master/src/12/how_to_create_a_thread_pool\n",
      "/home/bohdan/Dropbox/Books/Python/David Beazley - Python Cookbook, 3rd edition - 2013/python-cookbook-master/src/12/polling_multiple_thread_queues\n",
      "/home/bohdan/Dropbox/Books/Python/David Beazley - Python Cookbook, 3rd edition - 2013/python-cookbook-master/src/12/implementing_publish_subscribe_messaging\n",
      "/home/bohdan/Dropbox/Books/Python/David Beazley - Python Cookbook, 3rd edition - 2013/python-cookbook-master/src/12/how_to_start_and_stop_threads\n",
      "/home/bohdan/Dropbox/Books/Python/David Beazley - Python Cookbook, 3rd edition - 2013/python-cookbook-master/src/12/simple_parallel_programming\n",
      "logs\n",
      "findrobots_par.py\n",
      "findrobots.py\n",
      "/home/bohdan/Dropbox/Books/Python/David Beazley - Python Cookbook, 3rd edition - 2013/python-cookbook-master/src/12/simple_parallel_programming/logs\n",
      "/home/bohdan/Dropbox/Books/Python/David Beazley - Python Cookbook, 3rd edition - 2013/python-cookbook-master/src/12/how_to_communicate_between_threads\n",
      "/home/bohdan/Dropbox/Books/Python/David Beazley - Python Cookbook, 3rd edition - 2013/python-cookbook-master/src/12/how_to_determine_if_a_thread_has_started\n",
      "/home/bohdan/Dropbox/Books/Python/David Beazley - Python Cookbook, 3rd edition - 2013/python-cookbook-master/src/12/storing_thread_specific_state\n",
      "/home/bohdan/Dropbox/Books/Python/David Beazley - Python Cookbook, 3rd edition - 2013/python-cookbook-master/src/12/launching_a_daemon_process_on_unix\n",
      "/home/bohdan/Dropbox/Books/Python/David Beazley - Python Cookbook, 3rd edition - 2013/python-cookbook-master/src/12/defining_an_actor_task\n",
      "/home/bohdan/Dropbox/Books/Python/David Beazley - Python Cookbook, 3rd edition - 2013/python-cookbook-master/src/3\n",
      "determining_last_fridays_date\n",
      "finding_the_date_range_for_the_current_month\n",
      "/home/bohdan/Dropbox/Books/Python/David Beazley - Python Cookbook, 3rd edition - 2013/python-cookbook-master/src/3/determining_last_fridays_date\n",
      "/home/bohdan/Dropbox/Books/Python/David Beazley - Python Cookbook, 3rd edition - 2013/python-cookbook-master/src/3/finding_the_date_range_for_the_current_month\n",
      "/home/bohdan/Dropbox/Books/Python/David Beazley - Python Cookbook, 3rd edition - 2013/python-cookbook-master/src/15\n",
      "writing_a_simple_c_extension_module\n",
      "sample.c\n",
      "sample.h\n",
      "Makefile\n",
      "reading_file_like_objects_from_c\n",
      "sample.c\n",
      "sample.h\n",
      "Makefile\n",
      "accessing_c_code_using_ctypes\n",
      "sample.c\n",
      "sample.h\n",
      "Makefile\n",
      "turning_a_function_pointer_into_a_callable\n",
      "sample.c\n",
      "sample.h\n",
      "Makefile\n",
      "writing_an_extension_function_that_operates_on_arrays\n",
      "sample.c\n",
      "sample.h\n",
      "Makefile\n",
      "defining_and_exporting_c_apis_from_extension_modules\n",
      "sample.c\n",
      "sample.h\n",
      "Makefile\n",
      "managing_opaque_pointers_in_c_extension_modules\n",
      "sample.c\n",
      "sample.h\n",
      "Makefile\n",
      "diagnosing_segmentation_faults\n",
      "sample.c\n",
      "sample.h\n",
      "Makefile\n",
      "passing_unicode_strings_to_c_libraries\n",
      "sample.c\n",
      "sample.h\n",
      "Makefile\n",
      "passing_null_terminated_strings_to_c_libraries\n",
      "sample.c\n",
      "sample.h\n",
      "Makefile\n",
      "consuming_an_iterable_from_c\n",
      "sample.c\n",
      "sample.h\n",
      "Makefile\n",
      "using_cython_to_write_high_performance_array_operations\n",
      "sample.c\n",
      "sample.h\n",
      "Makefile\n",
      "working_with_c_strings_of_dubious_encoding\n",
      "sample.c\n",
      "sample.h\n",
      "Makefile\n",
      "wrapping_existing_c_code_with_cython\n",
      "sample.c\n",
      "sample.h\n",
      "Makefile\n",
      "wrapping_c_code_with_swig\n",
      "sample.c\n",
      "sample.h\n",
      "Makefile\n",
      "calling_python_from_c\n",
      "sample.c\n",
      "sample.h\n",
      "Makefile\n",
      "/home/bohdan/Dropbox/Books/Python/David Beazley - Python Cookbook, 3rd edition - 2013/python-cookbook-master/src/15/writing_a_simple_c_extension_module\n",
      "/home/bohdan/Dropbox/Books/Python/David Beazley - Python Cookbook, 3rd edition - 2013/python-cookbook-master/src/15/reading_file_like_objects_from_c\n",
      "/home/bohdan/Dropbox/Books/Python/David Beazley - Python Cookbook, 3rd edition - 2013/python-cookbook-master/src/15/accessing_c_code_using_ctypes\n",
      "/home/bohdan/Dropbox/Books/Python/David Beazley - Python Cookbook, 3rd edition - 2013/python-cookbook-master/src/15/turning_a_function_pointer_into_a_callable\n",
      "/home/bohdan/Dropbox/Books/Python/David Beazley - Python Cookbook, 3rd edition - 2013/python-cookbook-master/src/15/writing_an_extension_function_that_operates_on_arrays\n",
      "/home/bohdan/Dropbox/Books/Python/David Beazley - Python Cookbook, 3rd edition - 2013/python-cookbook-master/src/15/defining_and_exporting_c_apis_from_extension_modules\n",
      "/home/bohdan/Dropbox/Books/Python/David Beazley - Python Cookbook, 3rd edition - 2013/python-cookbook-master/src/15/managing_opaque_pointers_in_c_extension_modules\n",
      "/home/bohdan/Dropbox/Books/Python/David Beazley - Python Cookbook, 3rd edition - 2013/python-cookbook-master/src/15/diagnosing_segmentation_faults\n",
      "/home/bohdan/Dropbox/Books/Python/David Beazley - Python Cookbook, 3rd edition - 2013/python-cookbook-master/src/15/passing_unicode_strings_to_c_libraries\n",
      "/home/bohdan/Dropbox/Books/Python/David Beazley - Python Cookbook, 3rd edition - 2013/python-cookbook-master/src/15/passing_null_terminated_strings_to_c_libraries\n",
      "/home/bohdan/Dropbox/Books/Python/David Beazley - Python Cookbook, 3rd edition - 2013/python-cookbook-master/src/15/consuming_an_iterable_from_c\n",
      "/home/bohdan/Dropbox/Books/Python/David Beazley - Python Cookbook, 3rd edition - 2013/python-cookbook-master/src/15/using_cython_to_write_high_performance_array_operations\n",
      "/home/bohdan/Dropbox/Books/Python/David Beazley - Python Cookbook, 3rd edition - 2013/python-cookbook-master/src/15/working_with_c_strings_of_dubious_encoding\n",
      "/home/bohdan/Dropbox/Books/Python/David Beazley - Python Cookbook, 3rd edition - 2013/python-cookbook-master/src/15/wrapping_existing_c_code_with_cython\n",
      "/home/bohdan/Dropbox/Books/Python/David Beazley - Python Cookbook, 3rd edition - 2013/python-cookbook-master/src/15/wrapping_c_code_with_swig\n",
      "/home/bohdan/Dropbox/Books/Python/David Beazley - Python Cookbook, 3rd edition - 2013/python-cookbook-master/src/15/calling_python_from_c\n",
      "/home/bohdan/Dropbox/Books/Python/David Beazley - Python Cookbook, 3rd edition - 2013/python-cookbook-master/src/5\n",
      "reading_and_writing_text_data\n",
      "writing_bytes_to_a_text_file\n",
      "adding_or_changing_the_encoding_of_an_already_open_file\n",
      "getting_a_directory_listing\n",
      "iterating_over_fixed-sized_records\n",
      "wrapping_an_existing_file_descriptor_as_a_file_object\n",
      "/home/bohdan/Dropbox/Books/Python/David Beazley - Python Cookbook, 3rd edition - 2013/python-cookbook-master/src/5/reading_and_writing_text_data\n",
      "/home/bohdan/Dropbox/Books/Python/David Beazley - Python Cookbook, 3rd edition - 2013/python-cookbook-master/src/5/writing_bytes_to_a_text_file\n",
      "/home/bohdan/Dropbox/Books/Python/David Beazley - Python Cookbook, 3rd edition - 2013/python-cookbook-master/src/5/adding_or_changing_the_encoding_of_an_already_open_file\n",
      "/home/bohdan/Dropbox/Books/Python/David Beazley - Python Cookbook, 3rd edition - 2013/python-cookbook-master/src/5/getting_a_directory_listing\n",
      "/home/bohdan/Dropbox/Books/Python/David Beazley - Python Cookbook, 3rd edition - 2013/python-cookbook-master/src/5/iterating_over_fixed-sized_records\n",
      "/home/bohdan/Dropbox/Books/Python/David Beazley - Python Cookbook, 3rd edition - 2013/python-cookbook-master/src/5/wrapping_an_existing_file_descriptor_as_a_file_object\n",
      "/home/bohdan/Dropbox/Books/Python/David Beazley - Python Cookbook, 3rd edition - 2013/python-cookbook-master/src/13\n",
      "reading_configuration_files\n",
      "putting_limits_on_memory_and_cpu_usage\n",
      "adding_logging_to_libraries\n",
      "executing_an_external_command_and_getting_its_output\n",
      "getting_the_terminal_size\n",
      "prompting_for_a_password_at_runtime\n",
      "simple_logging_for_scripts\n",
      "parsing_command_line_options\n",
      "finding_files\n",
      "making_a_stopwatch\n",
      "generating_a_range_of_ip_addresses_from_a_cidr_address\n",
      "/home/bohdan/Dropbox/Books/Python/David Beazley - Python Cookbook, 3rd edition - 2013/python-cookbook-master/src/13/reading_configuration_files\n",
      "/home/bohdan/Dropbox/Books/Python/David Beazley - Python Cookbook, 3rd edition - 2013/python-cookbook-master/src/13/putting_limits_on_memory_and_cpu_usage\n",
      "/home/bohdan/Dropbox/Books/Python/David Beazley - Python Cookbook, 3rd edition - 2013/python-cookbook-master/src/13/adding_logging_to_libraries\n",
      "/home/bohdan/Dropbox/Books/Python/David Beazley - Python Cookbook, 3rd edition - 2013/python-cookbook-master/src/13/executing_an_external_command_and_getting_its_output\n",
      "/home/bohdan/Dropbox/Books/Python/David Beazley - Python Cookbook, 3rd edition - 2013/python-cookbook-master/src/13/getting_the_terminal_size\n",
      "/home/bohdan/Dropbox/Books/Python/David Beazley - Python Cookbook, 3rd edition - 2013/python-cookbook-master/src/13/prompting_for_a_password_at_runtime\n",
      "/home/bohdan/Dropbox/Books/Python/David Beazley - Python Cookbook, 3rd edition - 2013/python-cookbook-master/src/13/simple_logging_for_scripts\n",
      "/home/bohdan/Dropbox/Books/Python/David Beazley - Python Cookbook, 3rd edition - 2013/python-cookbook-master/src/13/parsing_command_line_options\n",
      "/home/bohdan/Dropbox/Books/Python/David Beazley - Python Cookbook, 3rd edition - 2013/python-cookbook-master/src/13/finding_files\n",
      "/home/bohdan/Dropbox/Books/Python/David Beazley - Python Cookbook, 3rd edition - 2013/python-cookbook-master/src/13/making_a_stopwatch\n",
      "/home/bohdan/Dropbox/Books/Python/David Beazley - Python Cookbook, 3rd edition - 2013/python-cookbook-master/src/13/generating_a_range_of_ip_addresses_from_a_cidr_address\n",
      "/home/bohdan/Dropbox/Books/Python/David Beazley - Python Cookbook, 3rd edition - 2013/python-cookbook-master/src/6\n",
      "parsing_modifying_and_rewriting_xml\n",
      "parsing_simple_xml_data\n",
      "reading_and_writing_csv_data\n",
      "parsing_xml_documents_with_namespaces\n",
      "reading_nested_and_variable_sized_binary_structures\n",
      "reading_and_writing_json_data\n",
      "reading_and_writing_binary_arrays_of_structures\n",
      "incremental_parsing_of_huge_xml_files\n",
      "/home/bohdan/Dropbox/Books/Python/David Beazley - Python Cookbook, 3rd edition - 2013/python-cookbook-master/src/6/parsing_modifying_and_rewriting_xml\n",
      "/home/bohdan/Dropbox/Books/Python/David Beazley - Python Cookbook, 3rd edition - 2013/python-cookbook-master/src/6/parsing_simple_xml_data\n",
      "/home/bohdan/Dropbox/Books/Python/David Beazley - Python Cookbook, 3rd edition - 2013/python-cookbook-master/src/6/reading_and_writing_csv_data\n",
      "/home/bohdan/Dropbox/Books/Python/David Beazley - Python Cookbook, 3rd edition - 2013/python-cookbook-master/src/6/parsing_xml_documents_with_namespaces\n",
      "/home/bohdan/Dropbox/Books/Python/David Beazley - Python Cookbook, 3rd edition - 2013/python-cookbook-master/src/6/reading_nested_and_variable_sized_binary_structures\n",
      "/home/bohdan/Dropbox/Books/Python/David Beazley - Python Cookbook, 3rd edition - 2013/python-cookbook-master/src/6/reading_and_writing_json_data\n",
      "/home/bohdan/Dropbox/Books/Python/David Beazley - Python Cookbook, 3rd edition - 2013/python-cookbook-master/src/6/reading_and_writing_binary_arrays_of_structures\n",
      "/home/bohdan/Dropbox/Books/Python/David Beazley - Python Cookbook, 3rd edition - 2013/python-cookbook-master/src/6/incremental_parsing_of_huge_xml_files\n",
      "/home/bohdan/Dropbox/Books/Python/David Beazley - Python Cookbook, 3rd edition - 2013/python-cookbook-master/src/11\n",
      "creating_a_tcp_server\n",
      "implementing_remote_procedure_call\n",
      "adding_ssl_to_network_servers\n",
      "passing_a_socket_file_descriptor_between_processes\n",
      "simple_remote_procedure_call_with_xmlrpc\n",
      "interacting_with_http_services_as_a_client\n",
      "simple_communication_between_interpreters\n",
      "simple_authentication_of_clients\n",
      "creating_a_simple_rest_based_interface\n",
      "event_driven_io_explained\n",
      "creating_a_udp_server\n",
      "zero_copy_sending_and_receiving_of_large_arrays\n",
      "/home/bohdan/Dropbox/Books/Python/David Beazley - Python Cookbook, 3rd edition - 2013/python-cookbook-master/src/11/creating_a_tcp_server\n",
      "/home/bohdan/Dropbox/Books/Python/David Beazley - Python Cookbook, 3rd edition - 2013/python-cookbook-master/src/11/implementing_remote_procedure_call\n",
      "/home/bohdan/Dropbox/Books/Python/David Beazley - Python Cookbook, 3rd edition - 2013/python-cookbook-master/src/11/adding_ssl_to_network_servers\n",
      "/home/bohdan/Dropbox/Books/Python/David Beazley - Python Cookbook, 3rd edition - 2013/python-cookbook-master/src/11/passing_a_socket_file_descriptor_between_processes\n",
      "/home/bohdan/Dropbox/Books/Python/David Beazley - Python Cookbook, 3rd edition - 2013/python-cookbook-master/src/11/simple_remote_procedure_call_with_xmlrpc\n",
      "/home/bohdan/Dropbox/Books/Python/David Beazley - Python Cookbook, 3rd edition - 2013/python-cookbook-master/src/11/interacting_with_http_services_as_a_client\n",
      "/home/bohdan/Dropbox/Books/Python/David Beazley - Python Cookbook, 3rd edition - 2013/python-cookbook-master/src/11/simple_communication_between_interpreters\n",
      "/home/bohdan/Dropbox/Books/Python/David Beazley - Python Cookbook, 3rd edition - 2013/python-cookbook-master/src/11/simple_authentication_of_clients\n",
      "/home/bohdan/Dropbox/Books/Python/David Beazley - Python Cookbook, 3rd edition - 2013/python-cookbook-master/src/11/creating_a_simple_rest_based_interface\n",
      "/home/bohdan/Dropbox/Books/Python/David Beazley - Python Cookbook, 3rd edition - 2013/python-cookbook-master/src/11/event_driven_io_explained\n",
      "/home/bohdan/Dropbox/Books/Python/David Beazley - Python Cookbook, 3rd edition - 2013/python-cookbook-master/src/11/creating_a_udp_server\n",
      "/home/bohdan/Dropbox/Books/Python/David Beazley - Python Cookbook, 3rd edition - 2013/python-cookbook-master/src/11/zero_copy_sending_and_receiving_of_large_arrays\n",
      "/home/bohdan/Dropbox/Books/Python/David Beazley - Python Cookbook, 3rd edition - 2013/python-cookbook-master/src/1\n",
      "grouping-records-together-based-on-a-field\n",
      "mapping_names_to_sequence_elements\n",
      "transforming_and_reducing_data_at_the_same_time\n",
      "extracting_a_subset_of_a_dictionary\n",
      "implementing_a_priority_queue\n",
      "removing_duplicates_from_a_sequence_while_maintaining_order\n",
      "filtering_list_elements\n",
      "unpack_a_fixed_number_of_elements_from_iterables_of_arbitrary_length\n",
      "sort_objects_without_native_comparison_support\n",
      "finding_the_largest_or_smallest_n_items\n",
      "keeping_the_last_n_items\n",
      "working_with_multiple_mappings_as_a_single_mapping\n",
      "finding_out_what_two_dictionaries_have_in_common\n",
      "determine_the_top_n_items_occurring_in_a_list\n",
      "calculating_with_dictionaries\n",
      "sort_a_list_of_dictionaries_by_a_common_key\n",
      "/home/bohdan/Dropbox/Books/Python/David Beazley - Python Cookbook, 3rd edition - 2013/python-cookbook-master/src/1/grouping-records-together-based-on-a-field\n",
      "/home/bohdan/Dropbox/Books/Python/David Beazley - Python Cookbook, 3rd edition - 2013/python-cookbook-master/src/1/mapping_names_to_sequence_elements\n",
      "/home/bohdan/Dropbox/Books/Python/David Beazley - Python Cookbook, 3rd edition - 2013/python-cookbook-master/src/1/transforming_and_reducing_data_at_the_same_time\n",
      "/home/bohdan/Dropbox/Books/Python/David Beazley - Python Cookbook, 3rd edition - 2013/python-cookbook-master/src/1/extracting_a_subset_of_a_dictionary\n",
      "/home/bohdan/Dropbox/Books/Python/David Beazley - Python Cookbook, 3rd edition - 2013/python-cookbook-master/src/1/implementing_a_priority_queue\n",
      "/home/bohdan/Dropbox/Books/Python/David Beazley - Python Cookbook, 3rd edition - 2013/python-cookbook-master/src/1/removing_duplicates_from_a_sequence_while_maintaining_order\n",
      "/home/bohdan/Dropbox/Books/Python/David Beazley - Python Cookbook, 3rd edition - 2013/python-cookbook-master/src/1/filtering_list_elements\n",
      "/home/bohdan/Dropbox/Books/Python/David Beazley - Python Cookbook, 3rd edition - 2013/python-cookbook-master/src/1/unpack_a_fixed_number_of_elements_from_iterables_of_arbitrary_length\n",
      "/home/bohdan/Dropbox/Books/Python/David Beazley - Python Cookbook, 3rd edition - 2013/python-cookbook-master/src/1/sort_objects_without_native_comparison_support\n",
      "/home/bohdan/Dropbox/Books/Python/David Beazley - Python Cookbook, 3rd edition - 2013/python-cookbook-master/src/1/finding_the_largest_or_smallest_n_items\n",
      "/home/bohdan/Dropbox/Books/Python/David Beazley - Python Cookbook, 3rd edition - 2013/python-cookbook-master/src/1/keeping_the_last_n_items\n",
      "/home/bohdan/Dropbox/Books/Python/David Beazley - Python Cookbook, 3rd edition - 2013/python-cookbook-master/src/1/working_with_multiple_mappings_as_a_single_mapping\n",
      "/home/bohdan/Dropbox/Books/Python/David Beazley - Python Cookbook, 3rd edition - 2013/python-cookbook-master/src/1/finding_out_what_two_dictionaries_have_in_common\n",
      "/home/bohdan/Dropbox/Books/Python/David Beazley - Python Cookbook, 3rd edition - 2013/python-cookbook-master/src/1/determine_the_top_n_items_occurring_in_a_list\n",
      "/home/bohdan/Dropbox/Books/Python/David Beazley - Python Cookbook, 3rd edition - 2013/python-cookbook-master/src/1/calculating_with_dictionaries\n",
      "/home/bohdan/Dropbox/Books/Python/David Beazley - Python Cookbook, 3rd edition - 2013/python-cookbook-master/src/1/sort_a_list_of_dictionaries_by_a_common_key\n",
      "/home/bohdan/Dropbox/Books/Python/David Beazley - Python Cookbook, 3rd edition - 2013/python-cookbook-master/src/9\n",
      "defining_context_managers_the_easy_way\n",
      "parsing_and_analyzing_python_source\n",
      "using_metaclasses_to_control_instance_creation\n",
      "enforcing_an_argument_signature\n",
      "enforcing_coding_conventions_in_classes\n",
      "enforcing_type_checking_on_a_function_using_a_decorator\n",
      "unwrapping_a_decorator\n",
      "disassembling_python_byte_code\n",
      "defining_decorators_as_classes\n",
      "defining_a_decorator_that_takes_an_optional_argument\n",
      "defining_a_decorator_that_takes_arguments\n",
      "defining_decorators_as_part_of_a_class\n",
      "defining_classes_programmatically\n",
      "initializing_class_members_at_definition_time\n",
      "multiple_dispatch_with_function_annotations\n",
      "monkeypatching_class_definitions\n",
      "defining_a_decorator_with_user_adjustable_attributes\n",
      "defining_a_metaclass_that_takes_optional_arguments\n",
      "executing_code_with_local_side_effects\n",
      "avoiding_repetitive_property_methods\n",
      "capturing_class_attribute_definition_order\n",
      "applying_decorators_to_class_and_static_methods\n",
      "preserving_function_metadata_when_writing_decorators\n",
      "/home/bohdan/Dropbox/Books/Python/David Beazley - Python Cookbook, 3rd edition - 2013/python-cookbook-master/src/9/defining_context_managers_the_easy_way\n",
      "/home/bohdan/Dropbox/Books/Python/David Beazley - Python Cookbook, 3rd edition - 2013/python-cookbook-master/src/9/parsing_and_analyzing_python_source\n",
      "/home/bohdan/Dropbox/Books/Python/David Beazley - Python Cookbook, 3rd edition - 2013/python-cookbook-master/src/9/using_metaclasses_to_control_instance_creation\n",
      "/home/bohdan/Dropbox/Books/Python/David Beazley - Python Cookbook, 3rd edition - 2013/python-cookbook-master/src/9/enforcing_an_argument_signature\n",
      "/home/bohdan/Dropbox/Books/Python/David Beazley - Python Cookbook, 3rd edition - 2013/python-cookbook-master/src/9/enforcing_coding_conventions_in_classes\n",
      "/home/bohdan/Dropbox/Books/Python/David Beazley - Python Cookbook, 3rd edition - 2013/python-cookbook-master/src/9/enforcing_type_checking_on_a_function_using_a_decorator\n",
      "/home/bohdan/Dropbox/Books/Python/David Beazley - Python Cookbook, 3rd edition - 2013/python-cookbook-master/src/9/unwrapping_a_decorator\n",
      "/home/bohdan/Dropbox/Books/Python/David Beazley - Python Cookbook, 3rd edition - 2013/python-cookbook-master/src/9/disassembling_python_byte_code\n",
      "/home/bohdan/Dropbox/Books/Python/David Beazley - Python Cookbook, 3rd edition - 2013/python-cookbook-master/src/9/defining_decorators_as_classes\n",
      "/home/bohdan/Dropbox/Books/Python/David Beazley - Python Cookbook, 3rd edition - 2013/python-cookbook-master/src/9/defining_a_decorator_that_takes_an_optional_argument\n",
      "/home/bohdan/Dropbox/Books/Python/David Beazley - Python Cookbook, 3rd edition - 2013/python-cookbook-master/src/9/defining_a_decorator_that_takes_arguments\n",
      "/home/bohdan/Dropbox/Books/Python/David Beazley - Python Cookbook, 3rd edition - 2013/python-cookbook-master/src/9/defining_decorators_as_part_of_a_class\n",
      "/home/bohdan/Dropbox/Books/Python/David Beazley - Python Cookbook, 3rd edition - 2013/python-cookbook-master/src/9/defining_classes_programmatically\n",
      "/home/bohdan/Dropbox/Books/Python/David Beazley - Python Cookbook, 3rd edition - 2013/python-cookbook-master/src/9/initializing_class_members_at_definition_time\n",
      "/home/bohdan/Dropbox/Books/Python/David Beazley - Python Cookbook, 3rd edition - 2013/python-cookbook-master/src/9/multiple_dispatch_with_function_annotations\n",
      "/home/bohdan/Dropbox/Books/Python/David Beazley - Python Cookbook, 3rd edition - 2013/python-cookbook-master/src/9/monkeypatching_class_definitions\n",
      "/home/bohdan/Dropbox/Books/Python/David Beazley - Python Cookbook, 3rd edition - 2013/python-cookbook-master/src/9/defining_a_decorator_with_user_adjustable_attributes\n",
      "/home/bohdan/Dropbox/Books/Python/David Beazley - Python Cookbook, 3rd edition - 2013/python-cookbook-master/src/9/defining_a_metaclass_that_takes_optional_arguments\n",
      "/home/bohdan/Dropbox/Books/Python/David Beazley - Python Cookbook, 3rd edition - 2013/python-cookbook-master/src/9/executing_code_with_local_side_effects\n",
      "/home/bohdan/Dropbox/Books/Python/David Beazley - Python Cookbook, 3rd edition - 2013/python-cookbook-master/src/9/avoiding_repetitive_property_methods\n",
      "/home/bohdan/Dropbox/Books/Python/David Beazley - Python Cookbook, 3rd edition - 2013/python-cookbook-master/src/9/capturing_class_attribute_definition_order\n",
      "/home/bohdan/Dropbox/Books/Python/David Beazley - Python Cookbook, 3rd edition - 2013/python-cookbook-master/src/9/applying_decorators_to_class_and_static_methods\n",
      "/home/bohdan/Dropbox/Books/Python/David Beazley - Python Cookbook, 3rd edition - 2013/python-cookbook-master/src/9/preserving_function_metadata_when_writing_decorators\n",
      "/home/bohdan/Dropbox/Books/Python/David Beazley - Python Cookbook, 3rd edition - 2013/python-cookbook-master/src/2\n",
      "specifying_a_regular_expression_for_the_shortest_match\n",
      "tokenizing_text\n",
      "variable_interpolation_in_strings\n",
      "splitting_strings_on_any_of_multiple_delimiters\n",
      "matching_strings_using_shell_wildcard_patterns\n",
      "matching_and_searching_for_text_patterns_using_regular_expressions\n",
      "normalizing_unicode_text_to_a_standard_representation\n",
      "combining_and_concatenating_strings\n",
      "writing_a_simple_recursive_descent_parser\n",
      "writing_a_regular_expression_for_multiline_patterns\n",
      "reformatting_text_to_fixed_number_of_columns\n",
      "sanitizing_and_cleaning_up_text\n",
      "searching_and_replacing_text\n",
      "/home/bohdan/Dropbox/Books/Python/David Beazley - Python Cookbook, 3rd edition - 2013/python-cookbook-master/src/2/specifying_a_regular_expression_for_the_shortest_match\n",
      "/home/bohdan/Dropbox/Books/Python/David Beazley - Python Cookbook, 3rd edition - 2013/python-cookbook-master/src/2/tokenizing_text\n",
      "/home/bohdan/Dropbox/Books/Python/David Beazley - Python Cookbook, 3rd edition - 2013/python-cookbook-master/src/2/variable_interpolation_in_strings\n",
      "/home/bohdan/Dropbox/Books/Python/David Beazley - Python Cookbook, 3rd edition - 2013/python-cookbook-master/src/2/splitting_strings_on_any_of_multiple_delimiters\n",
      "/home/bohdan/Dropbox/Books/Python/David Beazley - Python Cookbook, 3rd edition - 2013/python-cookbook-master/src/2/matching_strings_using_shell_wildcard_patterns\n",
      "/home/bohdan/Dropbox/Books/Python/David Beazley - Python Cookbook, 3rd edition - 2013/python-cookbook-master/src/2/matching_and_searching_for_text_patterns_using_regular_expressions\n",
      "/home/bohdan/Dropbox/Books/Python/David Beazley - Python Cookbook, 3rd edition - 2013/python-cookbook-master/src/2/normalizing_unicode_text_to_a_standard_representation\n",
      "/home/bohdan/Dropbox/Books/Python/David Beazley - Python Cookbook, 3rd edition - 2013/python-cookbook-master/src/2/combining_and_concatenating_strings\n",
      "/home/bohdan/Dropbox/Books/Python/David Beazley - Python Cookbook, 3rd edition - 2013/python-cookbook-master/src/2/writing_a_simple_recursive_descent_parser\n",
      "/home/bohdan/Dropbox/Books/Python/David Beazley - Python Cookbook, 3rd edition - 2013/python-cookbook-master/src/2/writing_a_regular_expression_for_multiline_patterns\n",
      "/home/bohdan/Dropbox/Books/Python/David Beazley - Python Cookbook, 3rd edition - 2013/python-cookbook-master/src/2/reformatting_text_to_fixed_number_of_columns\n",
      "/home/bohdan/Dropbox/Books/Python/David Beazley - Python Cookbook, 3rd edition - 2013/python-cookbook-master/src/2/sanitizing_and_cleaning_up_text\n",
      "/home/bohdan/Dropbox/Books/Python/David Beazley - Python Cookbook, 3rd edition - 2013/python-cookbook-master/src/2/searching_and_replacing_text\n",
      "/home/bohdan/Dropbox/Books/Python/David Beazley - Python Cookbook, 3rd edition - 2013/python-cookbook-master/src/7\n",
      "making_an_n-argument_callable_work_as_a_callable_with_fewer_arguments\n",
      "functions_that_accept_any_number_of_arguments\n",
      "accessing_variables_defined_inside_a_closure\n",
      "functions_that_only_accept_keyword_arguments\n",
      "carrying_extra_state_with_callback_functions\n",
      "inlining_callback_functions\n",
      "functions_with_default_arguments\n",
      "/home/bohdan/Dropbox/Books/Python/David Beazley - Python Cookbook, 3rd edition - 2013/python-cookbook-master/src/7/making_an_n-argument_callable_work_as_a_callable_with_fewer_arguments\n",
      "/home/bohdan/Dropbox/Books/Python/David Beazley - Python Cookbook, 3rd edition - 2013/python-cookbook-master/src/7/functions_that_accept_any_number_of_arguments\n",
      "/home/bohdan/Dropbox/Books/Python/David Beazley - Python Cookbook, 3rd edition - 2013/python-cookbook-master/src/7/accessing_variables_defined_inside_a_closure\n",
      "/home/bohdan/Dropbox/Books/Python/David Beazley - Python Cookbook, 3rd edition - 2013/python-cookbook-master/src/7/functions_that_only_accept_keyword_arguments\n",
      "/home/bohdan/Dropbox/Books/Python/David Beazley - Python Cookbook, 3rd edition - 2013/python-cookbook-master/src/7/carrying_extra_state_with_callback_functions\n",
      "/home/bohdan/Dropbox/Books/Python/David Beazley - Python Cookbook, 3rd edition - 2013/python-cookbook-master/src/7/inlining_callback_functions\n",
      "/home/bohdan/Dropbox/Books/Python/David Beazley - Python Cookbook, 3rd edition - 2013/python-cookbook-master/src/7/functions_with_default_arguments\n",
      "/home/bohdan/Dropbox/Books/Python/David Beazley - Python Cookbook, 3rd edition - 2013/python-cookbook-master/src/10\n",
      "monkeypatching_modules_on_import\n",
      "loading_modules_from_a_remote_machine_using_import_hooks\n",
      "making_separate_directories_import_under_a_common_namespace\n",
      "splitting_a_module_into_multiple_files\n",
      "/home/bohdan/Dropbox/Books/Python/David Beazley - Python Cookbook, 3rd edition - 2013/python-cookbook-master/src/10/monkeypatching_modules_on_import\n",
      "/home/bohdan/Dropbox/Books/Python/David Beazley - Python Cookbook, 3rd edition - 2013/python-cookbook-master/src/10/loading_modules_from_a_remote_machine_using_import_hooks\n",
      "testcode\n",
      "pathexample.py\n",
      "urlimport.py\n",
      "metaexample.py\n",
      "explicit_load.py\n",
      "/home/bohdan/Dropbox/Books/Python/David Beazley - Python Cookbook, 3rd edition - 2013/python-cookbook-master/src/10/loading_modules_from_a_remote_machine_using_import_hooks/testcode\n",
      "grok\n",
      "spam.py\n",
      "fib.py\n",
      "/home/bohdan/Dropbox/Books/Python/David Beazley - Python Cookbook, 3rd edition - 2013/python-cookbook-master/src/10/loading_modules_from_a_remote_machine_using_import_hooks/testcode/grok\n",
      "/home/bohdan/Dropbox/Books/Python/David Beazley - Python Cookbook, 3rd edition - 2013/python-cookbook-master/src/10/making_separate_directories_import_under_a_common_namespace\n",
      "bar-package\n",
      "example.py\n",
      "foo-package\n",
      "example.py\n",
      "/home/bohdan/Dropbox/Books/Python/David Beazley - Python Cookbook, 3rd edition - 2013/python-cookbook-master/src/10/making_separate_directories_import_under_a_common_namespace/bar-package\n",
      "spam\n",
      "/home/bohdan/Dropbox/Books/Python/David Beazley - Python Cookbook, 3rd edition - 2013/python-cookbook-master/src/10/making_separate_directories_import_under_a_common_namespace/bar-package/spam\n",
      "/home/bohdan/Dropbox/Books/Python/David Beazley - Python Cookbook, 3rd edition - 2013/python-cookbook-master/src/10/making_separate_directories_import_under_a_common_namespace/foo-package\n",
      "spam\n",
      "/home/bohdan/Dropbox/Books/Python/David Beazley - Python Cookbook, 3rd edition - 2013/python-cookbook-master/src/10/making_separate_directories_import_under_a_common_namespace/foo-package/spam\n",
      "/home/bohdan/Dropbox/Books/Python/David Beazley - Python Cookbook, 3rd edition - 2013/python-cookbook-master/src/10/splitting_a_module_into_multiple_files\n",
      "mymodule\n",
      "example.py\n",
      "/home/bohdan/Dropbox/Books/Python/David Beazley - Python Cookbook, 3rd edition - 2013/python-cookbook-master/src/10/splitting_a_module_into_multiple_files/mymodule\n",
      "/home/bohdan/Dropbox/Books/Python/David Beazley - Python Cookbook, 3rd edition - 2013/python-cookbook-master/src/8\n",
      "implementing_stateful_objects_or_state_machines\n",
      "creating_managed_attributes\n",
      "customized_formatting\n",
      "making_classes_support_comparison_operations\n",
      "lazily_computed_attributes\n",
      "simplified_initialization_of_data_structures\n",
      "how_to_define_more_than_one_constructor_in_a_class\n",
      "creating_a_new_kind_of_class_or_instance_attribute\n",
      "managing_memory_in_cyclic_data_structures\n",
      "how_to_encapsulate_names_in_a_class\n",
      "calling_a_method_on_a_parent_class\n",
      "calling_a_method_on_an_object_given_the_name_as_a_string\n",
      "changing_the_string_representation_of_instances\n",
      "delegation_and_proxies\n",
      "creating_an_instance_without_invoking_init\n",
      "implementing_custom_containers\n",
      "making_objects_support_the_context_manager_protocol\n",
      "how_to_define_an_interface_or_abstract_base_class\n",
      "extending_a_property_in_a_subclass\n",
      "implementing_the_visitor_pattern_without_recursion\n",
      "creating_cached_instances\n",
      "implementing_the_visitor_pattern\n",
      "extending_classes_with_mixins\n",
      "implementing_a_data_model_or_type_system\n",
      "/home/bohdan/Dropbox/Books/Python/David Beazley - Python Cookbook, 3rd edition - 2013/python-cookbook-master/src/8/implementing_stateful_objects_or_state_machines\n",
      "/home/bohdan/Dropbox/Books/Python/David Beazley - Python Cookbook, 3rd edition - 2013/python-cookbook-master/src/8/creating_managed_attributes\n",
      "/home/bohdan/Dropbox/Books/Python/David Beazley - Python Cookbook, 3rd edition - 2013/python-cookbook-master/src/8/customized_formatting\n",
      "/home/bohdan/Dropbox/Books/Python/David Beazley - Python Cookbook, 3rd edition - 2013/python-cookbook-master/src/8/making_classes_support_comparison_operations\n",
      "/home/bohdan/Dropbox/Books/Python/David Beazley - Python Cookbook, 3rd edition - 2013/python-cookbook-master/src/8/lazily_computed_attributes\n",
      "/home/bohdan/Dropbox/Books/Python/David Beazley - Python Cookbook, 3rd edition - 2013/python-cookbook-master/src/8/simplified_initialization_of_data_structures\n",
      "/home/bohdan/Dropbox/Books/Python/David Beazley - Python Cookbook, 3rd edition - 2013/python-cookbook-master/src/8/how_to_define_more_than_one_constructor_in_a_class\n",
      "/home/bohdan/Dropbox/Books/Python/David Beazley - Python Cookbook, 3rd edition - 2013/python-cookbook-master/src/8/creating_a_new_kind_of_class_or_instance_attribute\n",
      "/home/bohdan/Dropbox/Books/Python/David Beazley - Python Cookbook, 3rd edition - 2013/python-cookbook-master/src/8/managing_memory_in_cyclic_data_structures\n",
      "/home/bohdan/Dropbox/Books/Python/David Beazley - Python Cookbook, 3rd edition - 2013/python-cookbook-master/src/8/how_to_encapsulate_names_in_a_class\n",
      "/home/bohdan/Dropbox/Books/Python/David Beazley - Python Cookbook, 3rd edition - 2013/python-cookbook-master/src/8/calling_a_method_on_a_parent_class\n",
      "/home/bohdan/Dropbox/Books/Python/David Beazley - Python Cookbook, 3rd edition - 2013/python-cookbook-master/src/8/calling_a_method_on_an_object_given_the_name_as_a_string\n",
      "/home/bohdan/Dropbox/Books/Python/David Beazley - Python Cookbook, 3rd edition - 2013/python-cookbook-master/src/8/changing_the_string_representation_of_instances\n",
      "/home/bohdan/Dropbox/Books/Python/David Beazley - Python Cookbook, 3rd edition - 2013/python-cookbook-master/src/8/delegation_and_proxies\n",
      "/home/bohdan/Dropbox/Books/Python/David Beazley - Python Cookbook, 3rd edition - 2013/python-cookbook-master/src/8/creating_an_instance_without_invoking_init\n",
      "/home/bohdan/Dropbox/Books/Python/David Beazley - Python Cookbook, 3rd edition - 2013/python-cookbook-master/src/8/implementing_custom_containers\n",
      "/home/bohdan/Dropbox/Books/Python/David Beazley - Python Cookbook, 3rd edition - 2013/python-cookbook-master/src/8/making_objects_support_the_context_manager_protocol\n",
      "/home/bohdan/Dropbox/Books/Python/David Beazley - Python Cookbook, 3rd edition - 2013/python-cookbook-master/src/8/how_to_define_an_interface_or_abstract_base_class\n",
      "/home/bohdan/Dropbox/Books/Python/David Beazley - Python Cookbook, 3rd edition - 2013/python-cookbook-master/src/8/extending_a_property_in_a_subclass\n",
      "/home/bohdan/Dropbox/Books/Python/David Beazley - Python Cookbook, 3rd edition - 2013/python-cookbook-master/src/8/implementing_the_visitor_pattern_without_recursion\n",
      "/home/bohdan/Dropbox/Books/Python/David Beazley - Python Cookbook, 3rd edition - 2013/python-cookbook-master/src/8/creating_cached_instances\n",
      "/home/bohdan/Dropbox/Books/Python/David Beazley - Python Cookbook, 3rd edition - 2013/python-cookbook-master/src/8/implementing_the_visitor_pattern\n",
      "/home/bohdan/Dropbox/Books/Python/David Beazley - Python Cookbook, 3rd edition - 2013/python-cookbook-master/src/8/extending_classes_with_mixins\n",
      "/home/bohdan/Dropbox/Books/Python/David Beazley - Python Cookbook, 3rd edition - 2013/python-cookbook-master/src/8/implementing_a_data_model_or_type_system\n",
      "/home/bohdan/Dropbox/Books/Python/David Beazley - Python Cookbook, 3rd edition - 2013/python-cookbook-master/src/14\n",
      "testing_output_sent_to_stdout\n",
      "raising_an_exception_in_response_to_another_exception\n",
      "profiling_and_timing_your_program\n",
      "make_your_programs_run_faster\n",
      "testing_for_exceptional_conditions_in_unit_tests\n",
      "logging_test_output_to_a_file\n",
      "skipping_or_anticipating_test_failures\n",
      "/home/bohdan/Dropbox/Books/Python/David Beazley - Python Cookbook, 3rd edition - 2013/python-cookbook-master/src/14/testing_output_sent_to_stdout\n",
      "/home/bohdan/Dropbox/Books/Python/David Beazley - Python Cookbook, 3rd edition - 2013/python-cookbook-master/src/14/raising_an_exception_in_response_to_another_exception\n",
      "/home/bohdan/Dropbox/Books/Python/David Beazley - Python Cookbook, 3rd edition - 2013/python-cookbook-master/src/14/profiling_and_timing_your_program\n",
      "/home/bohdan/Dropbox/Books/Python/David Beazley - Python Cookbook, 3rd edition - 2013/python-cookbook-master/src/14/make_your_programs_run_faster\n",
      "/home/bohdan/Dropbox/Books/Python/David Beazley - Python Cookbook, 3rd edition - 2013/python-cookbook-master/src/14/testing_for_exceptional_conditions_in_unit_tests\n",
      "/home/bohdan/Dropbox/Books/Python/David Beazley - Python Cookbook, 3rd edition - 2013/python-cookbook-master/src/14/logging_test_output_to_a_file\n",
      "/home/bohdan/Dropbox/Books/Python/David Beazley - Python Cookbook, 3rd edition - 2013/python-cookbook-master/src/14/skipping_or_anticipating_test_failures\n",
      "/home/bohdan/Dropbox/Books/Python/David Beazley - Python Cookbook, 3rd edition - 2013/python-cookbook-master/src/4\n",
      "iterating_on_items_in_separate_containers\n",
      "easy_implementation_of_the_iterator_protocol\n",
      "creating_data_processing_pipelines\n",
      "iterate_over_the_index-value_pairs_of_a_list\n",
      "how_to_flatten_a_nested_sequence\n",
      "delegating-iteration\n",
      "iterating_in_reverse\n",
      "generators_with_state\n",
      "iterating_in_sorted_order_over_merged_sorted_iterables\n",
      "creating_new_iteration_patterns_with_generators\n",
      "/home/bohdan/Dropbox/Books/Python/David Beazley - Python Cookbook, 3rd edition - 2013/python-cookbook-master/src/4/iterating_on_items_in_separate_containers\n",
      "/home/bohdan/Dropbox/Books/Python/David Beazley - Python Cookbook, 3rd edition - 2013/python-cookbook-master/src/4/easy_implementation_of_the_iterator_protocol\n",
      "/home/bohdan/Dropbox/Books/Python/David Beazley - Python Cookbook, 3rd edition - 2013/python-cookbook-master/src/4/creating_data_processing_pipelines\n",
      "www\n",
      "example.py\n",
      "/home/bohdan/Dropbox/Books/Python/David Beazley - Python Cookbook, 3rd edition - 2013/python-cookbook-master/src/4/creating_data_processing_pipelines/www\n",
      "foo\n",
      "bar\n",
      "/home/bohdan/Dropbox/Books/Python/David Beazley - Python Cookbook, 3rd edition - 2013/python-cookbook-master/src/4/creating_data_processing_pipelines/www/foo\n",
      "/home/bohdan/Dropbox/Books/Python/David Beazley - Python Cookbook, 3rd edition - 2013/python-cookbook-master/src/4/creating_data_processing_pipelines/www/bar\n",
      "/home/bohdan/Dropbox/Books/Python/David Beazley - Python Cookbook, 3rd edition - 2013/python-cookbook-master/src/4/iterate_over_the_index-value_pairs_of_a_list\n",
      "/home/bohdan/Dropbox/Books/Python/David Beazley - Python Cookbook, 3rd edition - 2013/python-cookbook-master/src/4/how_to_flatten_a_nested_sequence\n",
      "/home/bohdan/Dropbox/Books/Python/David Beazley - Python Cookbook, 3rd edition - 2013/python-cookbook-master/src/4/delegating-iteration\n",
      "/home/bohdan/Dropbox/Books/Python/David Beazley - Python Cookbook, 3rd edition - 2013/python-cookbook-master/src/4/iterating_in_reverse\n",
      "/home/bohdan/Dropbox/Books/Python/David Beazley - Python Cookbook, 3rd edition - 2013/python-cookbook-master/src/4/generators_with_state\n",
      "/home/bohdan/Dropbox/Books/Python/David Beazley - Python Cookbook, 3rd edition - 2013/python-cookbook-master/src/4/iterating_in_sorted_order_over_merged_sorted_iterables\n",
      "/home/bohdan/Dropbox/Books/Python/David Beazley - Python Cookbook, 3rd edition - 2013/python-cookbook-master/src/4/creating_new_iteration_patterns_with_generators\n",
      "/home/bohdan/Dropbox/Books/Python/Mark Lutz - Programming Python, 4th Edition - 2014\n",
      "/home/bohdan/Dropbox/Books/Python/Automate the boring stuff\n",
      "Project_Multiclipboard\n",
      "mcb\n",
      "Albert Sweigart - Automate the Boring Stuff with Python (Practical Programming for Total Beginners) - 2015.epub\n",
      "ATBS.REGEX.pdf\n",
      "nbmerge.py\n",
      ".directory\n",
      "ATBS.WRITING_FILES.pdf\n",
      "random_quiz_gen\n",
      "mcb\n",
      "Albert Sweigart - Automate the Boring Stuff with Python (Practical Programming for Total Beginners) - 2015.epub\n",
      "ATBS.REGEX.pdf\n",
      "nbmerge.py\n",
      ".directory\n",
      "ATBS.WRITING_FILES.pdf\n",
      "html's\n",
      "mcb\n",
      "Albert Sweigart - Automate the Boring Stuff with Python (Practical Programming for Total Beginners) - 2015.epub\n",
      "ATBS.REGEX.pdf\n",
      "nbmerge.py\n",
      ".directory\n",
      "ATBS.WRITING_FILES.pdf\n",
      ".ipynb_checkpoints\n",
      "mcb\n",
      "Albert Sweigart - Automate the Boring Stuff with Python (Practical Programming for Total Beginners) - 2015.epub\n",
      "ATBS.REGEX.pdf\n",
      "nbmerge.py\n",
      ".directory\n",
      "ATBS.WRITING_FILES.pdf\n",
      "/home/bohdan/Dropbox/Books/Python/Automate the boring stuff/Project_Multiclipboard\n",
      ".ipynb_checkpoints\n",
      "mcb.pyw\n",
      "/home/bohdan/Dropbox/Books/Python/Automate the boring stuff/Project_Multiclipboard/.ipynb_checkpoints\n",
      "/home/bohdan/Dropbox/Books/Python/Automate the boring stuff/random_quiz_gen\n",
      ".ipynb_checkpoints\n",
      "capitalsquiz23.txt\n",
      "capitalsquiz_answers32.txt\n",
      "capitalsquiz_answers22.txt\n",
      "capitalsquiz1.txt\n",
      "capitalsquiz4.txt\n",
      "capitalsquiz34.txt\n",
      "capitalsquiz35.txt\n",
      "capitalsquiz13.txt\n",
      "capitalsquiz_answers14.txt\n",
      "states.csv\n",
      "capitalsquiz27.txt\n",
      "capitalsquiz_answers25.txt\n",
      "capitalsquiz12.txt\n",
      "capitalsquiz_answers10.txt\n",
      "capitalsquiz14.txt\n",
      "capitalsquiz10.txt\n",
      "capitalsquiz19.txt\n",
      "capitalsquiz31.txt\n",
      "capitalsquiz29.txt\n",
      "capitalsquiz5.txt\n",
      "capitalsquiz15.txt\n",
      "capitalsquiz11.txt\n",
      "capitalsquiz6.txt\n",
      "capitalsquiz_answers23.txt\n",
      "capitalsquiz33.txt\n",
      "capitalsquiz8.txt\n",
      "capitalsquiz_answers17.txt\n",
      "capitalsquiz17.txt\n",
      "capitalsquiz_answers5.txt\n",
      "capitalsquiz_answers7.txt\n",
      "capitalsquiz_answers8.txt\n",
      "capitalsquiz16.txt\n",
      "capitalsquiz_answers12.txt\n",
      "randomQuizGenerator.py\n",
      "capitalsquiz32.txt\n",
      "capitalsquiz22.txt\n",
      "capitalsquiz_answers11.txt\n",
      "capitalsquiz_answers4.txt\n",
      "capitalsquiz_answers2.txt\n",
      "capitalsquiz20.txt\n",
      "capitalsquiz_answers30.txt\n",
      "capitalsquiz7.txt\n",
      "capitalsquiz9.txt\n",
      "capitalsquiz24.txt\n",
      "capitalsquiz26.txt\n",
      "capitalsquiz_answers28.txt\n",
      "capitalsquiz_answers20.txt\n",
      "capitalsquiz_answers24.txt\n",
      "capitalsquiz_answers33.txt\n",
      ".directory\n",
      "capitalsquiz_answers31.txt\n",
      "capitalsquiz2.txt\n",
      "capitalsquiz_answers34.txt\n",
      "capitalsquiz_answers13.txt\n",
      "capitalsquiz_answers16.txt\n",
      "Project_gen_ran_quiz_files.ipynb\n",
      "capitalsquiz_answers29.txt\n",
      "capitalsquiz28.txt\n",
      "capitalsquiz_answers27.txt\n",
      "capitalsquiz18.txt\n",
      "capitalsquiz30.txt\n",
      "capitalsquiz_answers26.txt\n",
      "capitalsquiz3.txt\n",
      "capitalsquiz25.txt\n",
      "capitalsquiz_answers3.txt\n",
      "capitalsquiz21.txt\n",
      "capitalsquiz_answers6.txt\n",
      "capitalsquiz_answers9.txt\n",
      "capitalsquiz_answers19.txt\n",
      "capitalsquiz_answers18.txt\n",
      "capitalsquiz_answers1.txt\n",
      "capitalsquiz_answers15.txt\n",
      "capitalsquiz_answers35.txt\n",
      "capitalsquiz_answers21.txt\n",
      "/home/bohdan/Dropbox/Books/Python/Automate the boring stuff/random_quiz_gen/.ipynb_checkpoints\n",
      "/home/bohdan/Dropbox/Books/Python/Automate the boring stuff/html's\n",
      "/home/bohdan/Dropbox/Books/Python/Automate the boring stuff/.ipynb_checkpoints\n",
      "/home/bohdan/Dropbox/Books/Python/MY_CERTIFICATES\n",
      "/home/bohdan/Dropbox/Books/Python/Flask\n",
      "/home/bohdan/Dropbox/Books/vim_files\n",
      "/home/bohdan/Dropbox/Mary-Art\n",
      "Mary-Art\n",
      "/home/bohdan/Dropbox/Mary-Art/Mary-Art\n",
      "css\n",
      "index.html\n",
      "logotypes.html\n",
      "index_old_v1.html\n",
      ".directory\n",
      "img\n",
      "index.html\n",
      "logotypes.html\n",
      "index_old_v1.html\n",
      ".directory\n",
      "assets\n",
      "index.html\n",
      "logotypes.html\n",
      "index_old_v1.html\n",
      ".directory\n",
      "/home/bohdan/Dropbox/Mary-Art/Mary-Art/css\n",
      "/home/bohdan/Dropbox/Mary-Art/Mary-Art/img\n",
      "/home/bohdan/Dropbox/Mary-Art/Mary-Art/assets\n",
      "/home/bohdan/Dropbox/.dropbox.cache\n",
      "prefetch_cache\n",
      "/home/bohdan/Dropbox/.dropbox.cache/prefetch_cache\n",
      "/home/bohdan/Dropbox/Jupyter Notebooks\n",
      "__pycache__\n",
      "otherMod.py\n",
      "Python 101.ipynb\n",
      "Python_Strings.ipynb\n",
      "HTML5 FOUNDATIONS BOOK.ipynb\n",
      "HTML book notes.txt\n",
      "otherMod2.py\n",
      ".directory\n",
      "8. Flask.ipynb\n",
      "9. Deploying to production (Flask).ipynb\n",
      "3.Regex.ipynb\n",
      "CSS book notes.txt\n",
      ".ipynb_checkpoints\n",
      "otherMod.py\n",
      "Python 101.ipynb\n",
      "Python_Strings.ipynb\n",
      "HTML5 FOUNDATIONS BOOK.ipynb\n",
      "HTML book notes.txt\n",
      "otherMod2.py\n",
      ".directory\n",
      "8. Flask.ipynb\n",
      "9. Deploying to production (Flask).ipynb\n",
      "3.Regex.ipynb\n",
      "CSS book notes.txt\n",
      "/home/bohdan/Dropbox/Jupyter Notebooks/__pycache__\n",
      "/home/bohdan/Dropbox/Jupyter Notebooks/.ipynb_checkpoints\n",
      "/home/bohdan/Dropbox/Working Dir\n",
      "JS\n",
      ".gitignore\n",
      ".directory\n",
      "README.md\n",
      "HTML and CSS practice\n",
      ".gitignore\n",
      ".directory\n",
      "README.md\n",
      "Python\n",
      ".gitignore\n",
      ".directory\n",
      "README.md\n",
      ".git\n",
      ".gitignore\n",
      ".directory\n",
      "README.md\n",
      "/home/bohdan/Dropbox/Working Dir/JS\n",
      "/home/bohdan/Dropbox/Working Dir/HTML and CSS practice\n",
      "/home/bohdan/Dropbox/Working Dir/Python\n",
      "generating_data\n",
      "/home/bohdan/Dropbox/Working Dir/Python/generating_data\n",
      "/home/bohdan/Dropbox/Working Dir/.git\n",
      "info\n",
      "COMMIT_EDITMSG\n",
      "config\n",
      "description\n",
      "HEAD\n",
      "index\n",
      "hooks\n",
      "COMMIT_EDITMSG\n",
      "config\n",
      "description\n",
      "HEAD\n",
      "index\n",
      "objects\n",
      "COMMIT_EDITMSG\n",
      "config\n",
      "description\n",
      "HEAD\n",
      "index\n",
      "logs\n",
      "COMMIT_EDITMSG\n",
      "config\n",
      "description\n",
      "HEAD\n",
      "index\n",
      "refs\n",
      "COMMIT_EDITMSG\n",
      "config\n",
      "description\n",
      "HEAD\n",
      "index\n",
      "branches\n",
      "COMMIT_EDITMSG\n",
      "config\n",
      "description\n",
      "HEAD\n",
      "index\n",
      "/home/bohdan/Dropbox/Working Dir/.git/info\n",
      "/home/bohdan/Dropbox/Working Dir/.git/hooks\n",
      "/home/bohdan/Dropbox/Working Dir/.git/objects\n",
      "pack\n",
      "info\n",
      "8e\n",
      "b9\n",
      "77\n",
      "95\n",
      "86\n",
      "24\n",
      "e7\n",
      "32\n",
      "83\n",
      "/home/bohdan/Dropbox/Working Dir/.git/objects/pack\n",
      "/home/bohdan/Dropbox/Working Dir/.git/objects/info\n",
      "/home/bohdan/Dropbox/Working Dir/.git/objects/8e\n",
      "/home/bohdan/Dropbox/Working Dir/.git/objects/b9\n",
      "/home/bohdan/Dropbox/Working Dir/.git/objects/77\n",
      "/home/bohdan/Dropbox/Working Dir/.git/objects/95\n",
      "/home/bohdan/Dropbox/Working Dir/.git/objects/86\n",
      "/home/bohdan/Dropbox/Working Dir/.git/objects/24\n",
      "/home/bohdan/Dropbox/Working Dir/.git/objects/e7\n",
      "/home/bohdan/Dropbox/Working Dir/.git/objects/32\n",
      "/home/bohdan/Dropbox/Working Dir/.git/objects/83\n",
      "/home/bohdan/Dropbox/Working Dir/.git/logs\n",
      "refs\n",
      "HEAD\n",
      "/home/bohdan/Dropbox/Working Dir/.git/logs/refs\n",
      "heads\n",
      "remotes\n",
      "/home/bohdan/Dropbox/Working Dir/.git/logs/refs/heads\n",
      "/home/bohdan/Dropbox/Working Dir/.git/logs/refs/remotes\n",
      "origin\n",
      "/home/bohdan/Dropbox/Working Dir/.git/logs/refs/remotes/origin\n",
      "/home/bohdan/Dropbox/Working Dir/.git/refs\n",
      "heads\n",
      "remotes\n",
      "tags\n",
      "/home/bohdan/Dropbox/Working Dir/.git/refs/heads\n",
      "/home/bohdan/Dropbox/Working Dir/.git/refs/remotes\n",
      "origin\n",
      "/home/bohdan/Dropbox/Working Dir/.git/refs/remotes/origin\n",
      "/home/bohdan/Dropbox/Working Dir/.git/refs/tags\n",
      "/home/bohdan/Dropbox/Working Dir/.git/branches\n",
      "/home/bohdan/Dropbox/c00k_b00k\n",
      "Python\n",
      "matplotlib_notes\n",
      "README.MD\n",
      ".gitignore\n",
      "master_CLI\n",
      "master_vim\n",
      ".directory\n",
      ".git\n",
      "matplotlib_notes\n",
      "README.MD\n",
      ".gitignore\n",
      "master_CLI\n",
      "master_vim\n",
      ".directory\n",
      "/home/bohdan/Dropbox/c00k_b00k/Python\n",
      "/home/bohdan/Dropbox/c00k_b00k/.git\n",
      "info\n",
      "COMMIT_EDITMSG\n",
      "config\n",
      "description\n",
      "HEAD\n",
      "index\n",
      "hooks\n",
      "COMMIT_EDITMSG\n",
      "config\n",
      "description\n",
      "HEAD\n",
      "index\n",
      "objects\n",
      "COMMIT_EDITMSG\n",
      "config\n",
      "description\n",
      "HEAD\n",
      "index\n",
      "logs\n",
      "COMMIT_EDITMSG\n",
      "config\n",
      "description\n",
      "HEAD\n",
      "index\n",
      "refs\n",
      "COMMIT_EDITMSG\n",
      "config\n",
      "description\n",
      "HEAD\n",
      "index\n",
      "branches\n",
      "COMMIT_EDITMSG\n",
      "config\n",
      "description\n",
      "HEAD\n",
      "index\n",
      "/home/bohdan/Dropbox/c00k_b00k/.git/info\n",
      "/home/bohdan/Dropbox/c00k_b00k/.git/hooks\n",
      "/home/bohdan/Dropbox/c00k_b00k/.git/objects\n",
      "pack\n",
      "7c\n",
      "info\n",
      "22\n",
      "49\n",
      "95\n",
      "4b\n",
      "d6\n",
      "7d\n",
      "7b\n",
      "48\n",
      "f0\n",
      "d9\n",
      "a7\n",
      "ce\n",
      "a1\n",
      "b4\n",
      "c3\n",
      "b5\n",
      "/home/bohdan/Dropbox/c00k_b00k/.git/objects/pack\n",
      "/home/bohdan/Dropbox/c00k_b00k/.git/objects/7c\n",
      "/home/bohdan/Dropbox/c00k_b00k/.git/objects/info\n",
      "/home/bohdan/Dropbox/c00k_b00k/.git/objects/22\n",
      "/home/bohdan/Dropbox/c00k_b00k/.git/objects/49\n",
      "/home/bohdan/Dropbox/c00k_b00k/.git/objects/95\n",
      "/home/bohdan/Dropbox/c00k_b00k/.git/objects/4b\n",
      "/home/bohdan/Dropbox/c00k_b00k/.git/objects/d6\n",
      "/home/bohdan/Dropbox/c00k_b00k/.git/objects/7d\n",
      "/home/bohdan/Dropbox/c00k_b00k/.git/objects/7b\n",
      "/home/bohdan/Dropbox/c00k_b00k/.git/objects/48\n",
      "/home/bohdan/Dropbox/c00k_b00k/.git/objects/f0\n",
      "/home/bohdan/Dropbox/c00k_b00k/.git/objects/d9\n",
      "/home/bohdan/Dropbox/c00k_b00k/.git/objects/a7\n",
      "/home/bohdan/Dropbox/c00k_b00k/.git/objects/ce\n",
      "/home/bohdan/Dropbox/c00k_b00k/.git/objects/a1\n",
      "/home/bohdan/Dropbox/c00k_b00k/.git/objects/b4\n",
      "/home/bohdan/Dropbox/c00k_b00k/.git/objects/c3\n",
      "/home/bohdan/Dropbox/c00k_b00k/.git/objects/b5\n",
      "/home/bohdan/Dropbox/c00k_b00k/.git/logs\n",
      "refs\n",
      "HEAD\n",
      "/home/bohdan/Dropbox/c00k_b00k/.git/logs/refs\n",
      "heads\n",
      "remotes\n",
      "/home/bohdan/Dropbox/c00k_b00k/.git/logs/refs/heads\n",
      "/home/bohdan/Dropbox/c00k_b00k/.git/logs/refs/remotes\n",
      "origin\n",
      "/home/bohdan/Dropbox/c00k_b00k/.git/logs/refs/remotes/origin\n",
      "/home/bohdan/Dropbox/c00k_b00k/.git/refs\n",
      "heads\n",
      "remotes\n",
      "tags\n",
      "/home/bohdan/Dropbox/c00k_b00k/.git/refs/heads\n",
      "/home/bohdan/Dropbox/c00k_b00k/.git/refs/remotes\n",
      "origin\n",
      "/home/bohdan/Dropbox/c00k_b00k/.git/refs/remotes/origin\n",
      "/home/bohdan/Dropbox/c00k_b00k/.git/refs/tags\n",
      "/home/bohdan/Dropbox/c00k_b00k/.git/branches\n",
      "/home/bohdan/Dropbox/Dotfiles\n",
      ".git\n",
      ".gitignore\n",
      ".vimrc\n",
      ".directory\n",
      "/home/bohdan/Dropbox/Dotfiles/.git\n",
      "info\n",
      "config\n",
      "description\n",
      "HEAD\n",
      "hooks\n",
      "config\n",
      "description\n",
      "HEAD\n",
      "objects\n",
      "config\n",
      "description\n",
      "HEAD\n",
      "refs\n",
      "config\n",
      "description\n",
      "HEAD\n",
      "branches\n",
      "config\n",
      "description\n",
      "HEAD\n",
      "/home/bohdan/Dropbox/Dotfiles/.git/info\n",
      "/home/bohdan/Dropbox/Dotfiles/.git/hooks\n",
      "/home/bohdan/Dropbox/Dotfiles/.git/objects\n",
      "pack\n",
      "info\n",
      "/home/bohdan/Dropbox/Dotfiles/.git/objects/pack\n",
      "/home/bohdan/Dropbox/Dotfiles/.git/objects/info\n",
      "/home/bohdan/Dropbox/Dotfiles/.git/refs\n",
      "heads\n",
      "tags\n",
      "/home/bohdan/Dropbox/Dotfiles/.git/refs/heads\n",
      "/home/bohdan/Dropbox/Dotfiles/.git/refs/tags\n",
      "/home/bohdan/Dropbox/Dotfiles/.git/branches\n",
      "/home/bohdan/Dropbox/upm\n"
     ]
    }
   ],
   "source": [
    "# The os.walk() method gives us a way to iterate over a root level path. \n",
    "# What this means is that we\n",
    "# can pass a path to this function and get access to all \n",
    "# its sub-directories and files.\n",
    "\n",
    "path = r'/home/bohdan/Dropbox'\n",
    "for root, dirs, files in os.walk(path):\n",
    "    print(root)\n",
    "    for _dir in dirs:\n",
    "        print(_dir)\n",
    "        for _file in files:\n",
    "            print(_file)"
   ]
  },
  {
   "cell_type": "markdown",
   "metadata": {},
   "source": [
    "# os.path\n"
   ]
  },
  {
   "cell_type": "markdown",
   "metadata": {},
   "source": [
    "### os.path.basename\n"
   ]
  },
  {
   "cell_type": "code",
   "execution_count": 67,
   "metadata": {},
   "outputs": [
    {
     "data": {
      "text/plain": [
       "'Dropbox'"
      ]
     },
     "execution_count": 67,
     "metadata": {},
     "output_type": "execute_result"
    }
   ],
   "source": [
    "# The basename function will return just the filename of a path\n",
    "os.path.basename(r'/home/bohdan/Dropbox')"
   ]
  },
  {
   "cell_type": "markdown",
   "metadata": {},
   "source": [
    "# os.path.dirname\n"
   ]
  },
  {
   "cell_type": "code",
   "execution_count": 68,
   "metadata": {},
   "outputs": [
    {
     "data": {
      "text/plain": [
       "'/home/bohdan'"
      ]
     },
     "execution_count": 68,
     "metadata": {},
     "output_type": "execute_result"
    }
   ],
   "source": [
    "# The dirname function will return\n",
    "# just the directory portion of the path.\n",
    "os.path.dirname(r'/home/bohdan/Dropbox')"
   ]
  },
  {
   "cell_type": "markdown",
   "metadata": {},
   "source": [
    "# os.path.exists"
   ]
  },
  {
   "cell_type": "code",
   "execution_count": 69,
   "metadata": {},
   "outputs": [
    {
     "data": {
      "text/plain": [
       "True"
      ]
     },
     "execution_count": 69,
     "metadata": {},
     "output_type": "execute_result"
    }
   ],
   "source": [
    "# The exists function will tell you if a path exists or not.\n",
    "os.path.exists(r'/home/bohdan/Dropbox')"
   ]
  },
  {
   "cell_type": "markdown",
   "metadata": {},
   "source": [
    "# os.path.isdir / os.path.isfile\n"
   ]
  },
  {
   "cell_type": "code",
   "execution_count": 70,
   "metadata": {},
   "outputs": [
    {
     "data": {
      "text/plain": [
       "False"
      ]
     },
     "execution_count": 70,
     "metadata": {},
     "output_type": "execute_result"
    }
   ],
   "source": [
    "# isdir only checks if the path is a directory and \n",
    "# isfile only checks if the path is a file.\n",
    "\n",
    "os.path.isfile(r'/home/bohdan/Dropbox')"
   ]
  },
  {
   "cell_type": "code",
   "execution_count": 71,
   "metadata": {},
   "outputs": [
    {
     "data": {
      "text/plain": [
       "True"
      ]
     },
     "execution_count": 71,
     "metadata": {},
     "output_type": "execute_result"
    }
   ],
   "source": [
    "os.path.isdir(r'/home/bohdan/Dropbox')"
   ]
  },
  {
   "cell_type": "markdown",
   "metadata": {},
   "source": [
    "# os.path.join\n"
   ]
  },
  {
   "cell_type": "code",
   "execution_count": 72,
   "metadata": {},
   "outputs": [
    {
     "data": {
      "text/plain": [
       "'/home/bohdan/Dropbox/somefile.py'"
      ]
     },
     "execution_count": 72,
     "metadata": {},
     "output_type": "execute_result"
    }
   ],
   "source": [
    "# does not check if the result is actually exists, just joins components\n",
    "os.path.join(r'/home/bohdan/Dropbox/somefile.py')"
   ]
  },
  {
   "cell_type": "markdown",
   "metadata": {},
   "source": [
    "# os.path.split\n",
    "\n",
    "\n"
   ]
  },
  {
   "cell_type": "code",
   "execution_count": 73,
   "metadata": {},
   "outputs": [
    {
     "data": {
      "text/plain": [
       "('/home/bohdan/Dropbox', 'somefile.py')"
      ]
     },
     "execution_count": 73,
     "metadata": {},
     "output_type": "execute_result"
    }
   ],
   "source": [
    "# The split method will split a path into a tuple \n",
    "# that contains the directory and the file.\n",
    "os.path.split(r'/home/bohdan/Dropbox/somefile.py')"
   ]
  },
  {
   "cell_type": "code",
   "execution_count": 75,
   "metadata": {},
   "outputs": [
    {
     "data": {
      "text/plain": [
       "('/home/bohdan/Dropbox', 'somefile')"
      ]
     },
     "execution_count": 75,
     "metadata": {},
     "output_type": "execute_result"
    }
   ],
   "source": [
    "# if the path doesn’t have a filename on the end:\n",
    "\n",
    "os.path.split(r'/home/bohdan/Dropbox/somefile')\n",
    "\n",
    "# it took the path and split it in such a way that the last sub-folder became the second\n",
    "# element of the tuple with the rest of the path in the first element.\n",
    "\n"
   ]
  },
  {
   "cell_type": "code",
   "execution_count": 77,
   "metadata": {},
   "outputs": [
    {
     "data": {
      "text/plain": [
       "'/home/bohdan/Dropbox'"
      ]
     },
     "execution_count": 77,
     "metadata": {},
     "output_type": "execute_result"
    }
   ],
   "source": [
    "#  a commmon use case of the split:\n",
    "# This shows how to do multiple assignment.\n",
    "dirname, fname = os.path.split(r'/home/bohdan/Dropbox/somefile.py')\n",
    "dirname\n"
   ]
  },
  {
   "cell_type": "code",
   "execution_count": 78,
   "metadata": {},
   "outputs": [
    {
     "data": {
      "text/plain": [
       "'somefile.py'"
      ]
     },
     "execution_count": 78,
     "metadata": {},
     "output_type": "execute_result"
    }
   ],
   "source": [
    "fname"
   ]
  },
  {
   "cell_type": "markdown",
   "metadata": {
    "collapsed": true
   },
   "source": [
    "%%%%%%%%%%%%%%%%%%%%%%%%%%%%%%%%%%%%%%%%%%%%%%%%%%%%%%%%%%%%%%%%%%%\n",
    "\n",
    "# Chapter 17 - The email / smtplib Module\n",
    "\n",
    "%%%%%%%%%%%%%%%%%%%%%%%%%%%%%%%%%%%%%%%%%%%%%%%%%%%%%%%%%%%%%%%%%%%\n"
   ]
  },
  {
   "cell_type": "code",
   "execution_count": null,
   "metadata": {
    "collapsed": true
   },
   "outputs": [],
   "source": []
  }
 ],
 "metadata": {
  "kernelspec": {
   "display_name": "Python 3",
   "language": "python",
   "name": "python3"
  },
  "language_info": {
   "codemirror_mode": {
    "name": "ipython",
    "version": 3
   },
   "file_extension": ".py",
   "mimetype": "text/x-python",
   "name": "python",
   "nbconvert_exporter": "python",
   "pygments_lexer": "ipython3",
   "version": "3.6.3"
  }
 },
 "nbformat": 4,
 "nbformat_minor": 2
}
